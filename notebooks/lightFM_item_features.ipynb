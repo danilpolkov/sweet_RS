{
 "cells": [
  {
   "cell_type": "markdown",
   "metadata": {},
   "source": [
    "3. для пользователей находим любимые категории\n",
    "4. фильтруем то что порекомендовать по тому чтобы они были в любимых категориях"
   ]
  },
  {
   "cell_type": "code",
   "execution_count": 1,
   "metadata": {
    "scrolled": true
   },
   "outputs": [
    {
     "name": "stderr",
     "output_type": "stream",
     "text": [
      "/Users/danil/Documents/github/sweet_RS/env/lib/python3.7/site-packages/lightfm/_lightfm_fast.py:9: UserWarning: LightFM was compiled without OpenMP support. Only a single thread will be used.\n",
      "  warnings.warn('LightFM was compiled without OpenMP support. '\n"
     ]
    }
   ],
   "source": [
    "from lightfm import LightFM\n",
    "from scipy.sparse import coo_matrix\n",
    "import pandas as pd\n",
    "import ml_metrics as metrics"
   ]
  },
  {
   "cell_type": "markdown",
   "metadata": {},
   "source": [
    "# validate"
   ]
  },
  {
   "cell_type": "code",
   "execution_count": 2,
   "metadata": {},
   "outputs": [],
   "source": [
    "user_hist_df = pd.read_csv('../data/raw/movies_dataset_10 months.csv')\n",
    "user_hist_df['ts'] = pd.to_datetime(user_hist_df['ts'])\n",
    "user_hist_df['month'] = user_hist_df['ts'].dt.month\n",
    "\n",
    "test_1 = user_hist_df[user_hist_df['month'] == 6]\n",
    "test_2 = user_hist_df[user_hist_df['month'] == 7]\n",
    "train = user_hist_df[~user_hist_df['month'].isin([6, 7])]"
   ]
  },
  {
   "cell_type": "code",
   "execution_count": 3,
   "metadata": {},
   "outputs": [],
   "source": [
    "correct_1 = test_1.drop_duplicates(['user_id', 'movie_id']).groupby('user_id')['movie_id'].apply(list).to_dict()\n",
    "correct_2 = test_2.drop_duplicates(['user_id', 'movie_id']).groupby('user_id')['movie_id'].apply(list).to_dict()\n"
   ]
  },
  {
   "cell_type": "code",
   "execution_count": 4,
   "metadata": {},
   "outputs": [
    {
     "name": "stderr",
     "output_type": "stream",
     "text": [
      "/Users/danil/Documents/github/sweet_RS/env/lib/python3.7/site-packages/ipykernel_launcher.py:1: SettingWithCopyWarning: \n",
      "A value is trying to be set on a copy of a slice from a DataFrame.\n",
      "Try using .loc[row_indexer,col_indexer] = value instead\n",
      "\n",
      "See the caveats in the documentation: https://pandas.pydata.org/pandas-docs/stable/user_guide/indexing.html#returning-a-view-versus-a-copy\n",
      "  \"\"\"Entry point for launching an IPython kernel.\n"
     ]
    }
   ],
   "source": [
    "train['event'] = 1"
   ]
  },
  {
   "cell_type": "code",
   "execution_count": 5,
   "metadata": {},
   "outputs": [],
   "source": [
    "train = train.drop_duplicates(['user_id', 'movie_id', 'event'])"
   ]
  },
  {
   "cell_type": "code",
   "execution_count": 6,
   "metadata": {},
   "outputs": [],
   "source": [
    "model = LightFM(no_components=10)\n",
    "\n",
    "train_df = train[['user_id', 'movie_id', 'event']]"
   ]
  },
  {
   "cell_type": "code",
   "execution_count": 7,
   "metadata": {},
   "outputs": [],
   "source": [
    "user_encode = {u: i for i, u in enumerate(train['user_id'].unique())}\n",
    "item_encode = {u: i for i, u in enumerate(train['movie_id'].unique())}"
   ]
  },
  {
   "cell_type": "code",
   "execution_count": 8,
   "metadata": {},
   "outputs": [],
   "source": [
    "user_decode = {v: k for k, v in user_encode.items()}\n",
    "item_decode = {v: k for k, v in item_encode.items()}"
   ]
  },
  {
   "cell_type": "code",
   "execution_count": 9,
   "metadata": {},
   "outputs": [
    {
     "data": {
      "text/plain": [
       "(2055, 4732)"
      ]
     },
     "execution_count": 9,
     "metadata": {},
     "output_type": "execute_result"
    }
   ],
   "source": [
    "n_users, n_items = len(user_encode), len(item_encode)\n",
    "\n",
    "n_users, n_items"
   ]
  },
  {
   "cell_type": "code",
   "execution_count": 10,
   "metadata": {},
   "outputs": [],
   "source": [
    "train['user_id'] = train['user_id'].apply(lambda x: user_encode[x])\n",
    "train['movie_id'] = train['movie_id'].apply(lambda x: item_encode[x])"
   ]
  },
  {
   "cell_type": "code",
   "execution_count": 11,
   "metadata": {},
   "outputs": [],
   "source": [
    "train_coo = coo_matrix(\n",
    "    (train['event'], (train['user_id'], train['movie_id'])), shape=(n_users, n_items))"
   ]
  },
  {
   "cell_type": "code",
   "execution_count": 93,
   "metadata": {},
   "outputs": [
    {
     "name": "stdout",
     "output_type": "stream",
     "text": [
      "2091\n"
     ]
    }
   ],
   "source": [
    "moveis_views = train['movie_id'].value_counts()\n",
    "\n",
    "items_to_recom = moveis_views[moveis_views>20].index\n",
    "print(len(items_to_recom))"
   ]
  },
  {
   "cell_type": "markdown",
   "metadata": {},
   "source": [
    "preapre movie features and user prefs"
   ]
  },
  {
   "cell_type": "code",
   "execution_count": 94,
   "metadata": {},
   "outputs": [
    {
     "name": "stderr",
     "output_type": "stream",
     "text": [
      "/Users/danil/Documents/github/sweet_RS/env/lib/python3.7/site-packages/ipykernel_launcher.py:5: SettingWithCopyWarning: \n",
      "A value is trying to be set on a copy of a slice from a DataFrame.\n",
      "Try using .loc[row_indexer,col_indexer] = value instead\n",
      "\n",
      "See the caveats in the documentation: https://pandas.pydata.org/pandas-docs/stable/user_guide/indexing.html#returning-a-view-versus-a-copy\n",
      "  \"\"\"\n"
     ]
    }
   ],
   "source": [
    "movies_database = pd.read_csv('../data/raw/movies.csv')\n",
    "movies_to_recom = [item_decode[x] for x in items_to_recom]\n",
    "movies_database = movies_database[movies_database['id'].isin(movies_to_recom)]\n",
    "item_features = movies_database[['id', 'genres']]\n",
    "item_features['id'] = item_features['id'].apply(lambda x: item_encode[x])"
   ]
  },
  {
   "cell_type": "code",
   "execution_count": 95,
   "metadata": {},
   "outputs": [
    {
     "name": "stderr",
     "output_type": "stream",
     "text": [
      "/Users/danil/Documents/github/sweet_RS/env/lib/python3.7/site-packages/ipykernel_launcher.py:1: SettingWithCopyWarning: \n",
      "A value is trying to be set on a copy of a slice from a DataFrame.\n",
      "Try using .loc[row_indexer,col_indexer] = value instead\n",
      "\n",
      "See the caveats in the documentation: https://pandas.pydata.org/pandas-docs/stable/user_guide/indexing.html#returning-a-view-versus-a-copy\n",
      "  \"\"\"Entry point for launching an IPython kernel.\n"
     ]
    }
   ],
   "source": [
    "item_features['genres'] = item_features['genres'].str.split(',')"
   ]
  },
  {
   "cell_type": "code",
   "execution_count": 96,
   "metadata": {},
   "outputs": [],
   "source": [
    "item_features = item_features.dropna()"
   ]
  },
  {
   "cell_type": "code",
   "execution_count": 97,
   "metadata": {},
   "outputs": [],
   "source": [
    "movie_genres = {}\n",
    "\n",
    "for i in item_features.iterrows():\n",
    "    movie_genres[i[1][0]] = i[1][1]"
   ]
  },
  {
   "cell_type": "code",
   "execution_count": 98,
   "metadata": {},
   "outputs": [],
   "source": [
    "users_to_predict = [user_encode[x] for x in list(test_1['user_id'])]\n",
    "items_to_predict = set(items_to_recom.copy())"
   ]
  },
  {
   "cell_type": "code",
   "execution_count": 99,
   "metadata": {},
   "outputs": [],
   "source": [
    "user_hist = train[train['episode_id'] == 0].groupby('user_id')['movie_id'].apply(set).to_dict()\n",
    "#user_hist = train.groupby('user_id')['movie_id'].apply(set).to_dict()\n",
    "#user_hist = {user_encode[k]: v for k, v in user_hist.items()}"
   ]
  },
  {
   "cell_type": "code",
   "execution_count": 100,
   "metadata": {},
   "outputs": [],
   "source": [
    "from collections import Counter"
   ]
  },
  {
   "cell_type": "code",
   "execution_count": 101,
   "metadata": {},
   "outputs": [],
   "source": [
    "user_pref = {}\n",
    "for user in users_to_predict:\n",
    "    #print(user)\n",
    "    user_pref[user] = {}\n",
    "    #print(user_hist[user])\n",
    "    for film in user_hist[user]:\n",
    "        if movie_genres.get(film):\n",
    "            for genre in movie_genres[film]:\n",
    "                if user_pref[user].get(genre):\n",
    "                    user_pref[user][genre] += 1\n",
    "                else:\n",
    "                    user_pref[user][genre] = 1\n",
    "                    \n",
    "    user_pref[user] = [key for key, val in Counter(user_pref[user]).most_common(5)]                \n",
    "    "
   ]
  },
  {
   "cell_type": "code",
   "execution_count": 107,
   "metadata": {},
   "outputs": [],
   "source": [
    "items_for_user = {}\n",
    "\n",
    "for user in user_pref:\n",
    "    items_for_user[user] = []\n",
    "    for item in items_to_predict:\n",
    "        try:\n",
    "            if len(set(movie_genres[item]).intersection(user_pref[user])) >= 1:\n",
    "                items_for_user[user].append(item)\n",
    "        except KeyError:\n",
    "            #items_for_user[user].append(item)\n",
    "            pass\n",
    "        "
   ]
  },
  {
   "cell_type": "code",
   "execution_count": 103,
   "metadata": {},
   "outputs": [],
   "source": [
    "model = LightFM(no_components=10)"
   ]
  },
  {
   "cell_type": "code",
   "execution_count": 104,
   "metadata": {},
   "outputs": [
    {
     "data": {
      "text/plain": [
       "<lightfm.lightfm.LightFM at 0x1194f1dd0>"
      ]
     },
     "execution_count": 104,
     "metadata": {},
     "output_type": "execute_result"
    }
   ],
   "source": [
    "model.fit(train_coo, epochs=20)"
   ]
  },
  {
   "cell_type": "code",
   "execution_count": 108,
   "metadata": {},
   "outputs": [
    {
     "data": {
      "text/plain": [
       "0.003367088607594937"
      ]
     },
     "execution_count": 108,
     "metadata": {},
     "output_type": "execute_result"
    }
   ],
   "source": [
    "recoms = {}\n",
    "num_to_recom = 5\n",
    "for user in users_to_predict:\n",
    "    #print(user)\n",
    "    items_to_score = list(set(items_for_user[user]).difference(user_hist[user]))\n",
    "    if not items_to_score:\n",
    "        items_to_score = list(items_to_predict)\n",
    "    #print(len(items_to_score))\n",
    "    predict = model.predict(user, items_to_score, num_threads=-1)\n",
    "    top_recoms_id = sorted(range(len(predict)),\n",
    "                           key=lambda i: predict[i])[-num_to_recom:]\n",
    "    top_recoms_id.reverse()\n",
    "    recoms[user_decode[user]] = [item_decode[items_to_score[i]]\n",
    "                                 for i in top_recoms_id]\n",
    "\n",
    "metrics.mapk(list(recoms.values()), list(correct_1.values()), 5)"
   ]
  },
  {
   "cell_type": "code",
   "execution_count": 106,
   "metadata": {},
   "outputs": [
    {
     "data": {
      "text/plain": [
       "0.0062974683544303805"
      ]
     },
     "execution_count": 106,
     "metadata": {},
     "output_type": "execute_result"
    }
   ],
   "source": [
    "recoms = {}\n",
    "num_to_recom = 5\n",
    "for user in users_to_predict:\n",
    "    #print(user)\n",
    "    items_to_score = list(set(items_to_predict).difference(user_hist[user]))\n",
    "    #print(len(items_to_score))\n",
    "    predict = model.predict(user, items_to_score, num_threads=-1)\n",
    "    top_recoms_id = sorted(range(len(predict)),\n",
    "                           key=lambda i: predict[i])[-num_to_recom:]\n",
    "    top_recoms_id.reverse()\n",
    "    recoms[user_decode[user]] = [item_decode[items_to_score[i]]\n",
    "                                 for i in top_recoms_id]\n",
    "\n",
    "metrics.mapk(list(recoms.values()), list(correct_1.values()), 5)"
   ]
  },
  {
   "cell_type": "markdown",
   "metadata": {},
   "source": [
    "0.006379746835443039"
   ]
  },
  {
   "cell_type": "code",
   "execution_count": 83,
   "metadata": {},
   "outputs": [],
   "source": [
    "users_to_predict = [user_encode[x] for x in list(test_2['user_id'])]"
   ]
  },
  {
   "cell_type": "code",
   "execution_count": 84,
   "metadata": {},
   "outputs": [],
   "source": [
    "recoms = {}\n",
    "num_to_recom = 5\n",
    "for user in users_to_predict:\n",
    "    #print(user)\n",
    "    items_to_score = list(items_to_predict.difference(user_hist[user]))\n",
    "    predict = model.predict(user, items_to_score, num_threads=-1)\n",
    "    top_recoms_id = sorted(range(len(predict)),\n",
    "                           key=lambda i: predict[i])[-num_to_recom:]\n",
    "    top_recoms_id.reverse()\n",
    "    recoms[user_decode[user]] = [item_decode[items_to_score[i]]\n",
    "                                 for i in top_recoms_id]"
   ]
  },
  {
   "cell_type": "code",
   "execution_count": 85,
   "metadata": {},
   "outputs": [
    {
     "data": {
      "text/plain": [
       "0.006761603375527427"
      ]
     },
     "execution_count": 85,
     "metadata": {},
     "output_type": "execute_result"
    }
   ],
   "source": [
    "metrics.mapk(list(recoms.values()), list(correct_1.values()), 5)"
   ]
  },
  {
   "cell_type": "code",
   "execution_count": 160,
   "metadata": {},
   "outputs": [
    {
     "data": {
      "text/plain": [
       "0.007573839662447258"
      ]
     },
     "execution_count": 160,
     "metadata": {},
     "output_type": "execute_result"
    }
   ],
   "source": [
    "metrics.mapk(list(recoms.values()), list(correct_1.values()), 5)"
   ]
  },
  {
   "cell_type": "markdown",
   "metadata": {},
   "source": [
    "on LB 0.00786\n",
    "\n",
    "after tuning 0.00619"
   ]
  },
  {
   "cell_type": "markdown",
   "metadata": {},
   "source": [
    "# add movie features"
   ]
  },
  {
   "cell_type": "code",
   "execution_count": null,
   "metadata": {},
   "outputs": [],
   "source": []
  },
  {
   "cell_type": "code",
   "execution_count": 40,
   "metadata": {},
   "outputs": [],
   "source": [
    "from sklearn.preprocessing import MultiLabelBinarizer\n",
    "import numpy as np"
   ]
  },
  {
   "cell_type": "code",
   "execution_count": 41,
   "metadata": {
    "collapsed": true
   },
   "outputs": [
    {
     "data": {
      "text/html": [
       "<div>\n",
       "<style scoped>\n",
       "    .dataframe tbody tr th:only-of-type {\n",
       "        vertical-align: middle;\n",
       "    }\n",
       "\n",
       "    .dataframe tbody tr th {\n",
       "        vertical-align: top;\n",
       "    }\n",
       "\n",
       "    .dataframe thead th {\n",
       "        text-align: right;\n",
       "    }\n",
       "</style>\n",
       "<table border=\"1\" class=\"dataframe\">\n",
       "  <thead>\n",
       "    <tr style=\"text-align: right;\">\n",
       "      <th></th>\n",
       "      <th>id</th>\n",
       "      <th>year</th>\n",
       "      <th>title</th>\n",
       "      <th>description</th>\n",
       "      <th>genres</th>\n",
       "      <th>director</th>\n",
       "      <th>actors</th>\n",
       "      <th>writers</th>\n",
       "      <th>music</th>\n",
       "      <th>art</th>\n",
       "      <th>producer</th>\n",
       "      <th>imdb_id</th>\n",
       "      <th>tmdb_id</th>\n",
       "      <th>imdb_rating</th>\n",
       "      <th>tmdb_rating</th>\n",
       "      <th>available_now</th>\n",
       "    </tr>\n",
       "  </thead>\n",
       "  <tbody>\n",
       "    <tr>\n",
       "      <th>0</th>\n",
       "      <td>1</td>\n",
       "      <td>2008</td>\n",
       "      <td>The Girl from Monaco</td>\n",
       "      <td>A brilliant and neurotic attorney goes to Mona...</td>\n",
       "      <td>Comedy,Drama</td>\n",
       "      <td>Anne Fontaine</td>\n",
       "      <td>Fabrice Luchini,Helene de Saint-Pere,Jeanne Ba...</td>\n",
       "      <td>Anne Fontaine,Benoît Graffin</td>\n",
       "      <td>Philippe Rombi</td>\n",
       "      <td>NaN</td>\n",
       "      <td>Philippe Carcassonne,Bruno Pesary,Christine Ra...</td>\n",
       "      <td>tt1139800</td>\n",
       "      <td>15342.0</td>\n",
       "      <td>5.8</td>\n",
       "      <td>4.8</td>\n",
       "      <td>yes</td>\n",
       "    </tr>\n",
       "    <tr>\n",
       "      <th>1</th>\n",
       "      <td>2</td>\n",
       "      <td>2008</td>\n",
       "      <td>Every Jack has a Jill</td>\n",
       "      <td>Jack is encouraged to take the romantic Paris ...</td>\n",
       "      <td>Comedy,Melodrama</td>\n",
       "      <td>Jennifer Devoldère</td>\n",
       "      <td>Justin Lee Bartha,Billy Boyd,Maurice Bénichou,...</td>\n",
       "      <td>Jennifer Devoldère</td>\n",
       "      <td>NaN</td>\n",
       "      <td>Hervé Gallet,Alix Deschamps</td>\n",
       "      <td>Bruno Chiche,Nicolas Duval Adassovsky,Maxime R...</td>\n",
       "      <td>tt1094668</td>\n",
       "      <td>32338.0</td>\n",
       "      <td>6.1</td>\n",
       "      <td>5.4</td>\n",
       "      <td>yes</td>\n",
       "    </tr>\n",
       "    <tr>\n",
       "      <th>2</th>\n",
       "      <td>3</td>\n",
       "      <td>2009</td>\n",
       "      <td>Dorian Gray</td>\n",
       "      <td>A vain London playboy offers his soul in excha...</td>\n",
       "      <td>Thriller,Sci-Fi</td>\n",
       "      <td>Oliver Parker</td>\n",
       "      <td>Colin Firth,Nathan Rosen,Caroline Goodall,John...</td>\n",
       "      <td>Toby Finlay,Oscar Wilde</td>\n",
       "      <td>Charlie Mole</td>\n",
       "      <td>John Beard,Ruth Myers,Niamh Coulter</td>\n",
       "      <td>Barnaby Thompson,Paul Brett,Simon Fawcett</td>\n",
       "      <td>tt1235124</td>\n",
       "      <td>23488.0</td>\n",
       "      <td>6.3</td>\n",
       "      <td>5.9</td>\n",
       "      <td>yes</td>\n",
       "    </tr>\n",
       "    <tr>\n",
       "      <th>3</th>\n",
       "      <td>4</td>\n",
       "      <td>2008</td>\n",
       "      <td>How to Lose Friends &amp; Alienate People</td>\n",
       "      <td>A British writer struggles to fit in at a high...</td>\n",
       "      <td>Comedy,Drama</td>\n",
       "      <td>Robert B. Willow</td>\n",
       "      <td>Simon Pegg,Jeff Bridges,Danny Huston,Jillian A...</td>\n",
       "      <td>Peter Straughan,Toby Young</td>\n",
       "      <td>David Arnold</td>\n",
       "      <td>John Beard,Ray Chan,Anthony Gasparro</td>\n",
       "      <td>Elizabeth Karlsen,Laurie Borg,Stephen Woolley</td>\n",
       "      <td>tt0455538</td>\n",
       "      <td>13092.0</td>\n",
       "      <td>6.4</td>\n",
       "      <td>6.1</td>\n",
       "      <td>yes</td>\n",
       "    </tr>\n",
       "    <tr>\n",
       "      <th>4</th>\n",
       "      <td>5</td>\n",
       "      <td>2009</td>\n",
       "      <td>Cell 211</td>\n",
       "      <td>The story of two men on different sides of a p...</td>\n",
       "      <td>Action,Thriller</td>\n",
       "      <td>Daniel Monzon</td>\n",
       "      <td>Luis Tosar,Vicente Romero,Fernando Soto,Luis Z...</td>\n",
       "      <td>Daniel Monzon,F.P. Gandull,Jorge Guerricaechev...</td>\n",
       "      <td>Roque Baños</td>\n",
       "      <td>Antón Laguna,Montse Sancho</td>\n",
       "      <td>Álvaro Augustín,Juan Gordon,Emma Lustres</td>\n",
       "      <td>tt1242422</td>\n",
       "      <td>33273.0</td>\n",
       "      <td>7.6</td>\n",
       "      <td>7.4</td>\n",
       "      <td>yes</td>\n",
       "    </tr>\n",
       "  </tbody>\n",
       "</table>\n",
       "</div>"
      ],
      "text/plain": [
       "   id  year                                  title  \\\n",
       "0   1  2008                   The Girl from Monaco   \n",
       "1   2  2008                  Every Jack has a Jill   \n",
       "2   3  2009                            Dorian Gray   \n",
       "3   4  2008  How to Lose Friends & Alienate People   \n",
       "4   5  2009                               Cell 211   \n",
       "\n",
       "                                         description            genres  \\\n",
       "0  A brilliant and neurotic attorney goes to Mona...      Comedy,Drama   \n",
       "1  Jack is encouraged to take the romantic Paris ...  Comedy,Melodrama   \n",
       "2  A vain London playboy offers his soul in excha...   Thriller,Sci-Fi   \n",
       "3  A British writer struggles to fit in at a high...      Comedy,Drama   \n",
       "4  The story of two men on different sides of a p...   Action,Thriller   \n",
       "\n",
       "             director                                             actors  \\\n",
       "0       Anne Fontaine  Fabrice Luchini,Helene de Saint-Pere,Jeanne Ba...   \n",
       "1  Jennifer Devoldère  Justin Lee Bartha,Billy Boyd,Maurice Bénichou,...   \n",
       "2       Oliver Parker  Colin Firth,Nathan Rosen,Caroline Goodall,John...   \n",
       "3    Robert B. Willow  Simon Pegg,Jeff Bridges,Danny Huston,Jillian A...   \n",
       "4       Daniel Monzon  Luis Tosar,Vicente Romero,Fernando Soto,Luis Z...   \n",
       "\n",
       "                                             writers           music  \\\n",
       "0                       Anne Fontaine,Benoît Graffin  Philippe Rombi   \n",
       "1                                 Jennifer Devoldère             NaN   \n",
       "2                            Toby Finlay,Oscar Wilde    Charlie Mole   \n",
       "3                         Peter Straughan,Toby Young    David Arnold   \n",
       "4  Daniel Monzon,F.P. Gandull,Jorge Guerricaechev...     Roque Baños   \n",
       "\n",
       "                                    art  \\\n",
       "0                                   NaN   \n",
       "1           Hervé Gallet,Alix Deschamps   \n",
       "2   John Beard,Ruth Myers,Niamh Coulter   \n",
       "3  John Beard,Ray Chan,Anthony Gasparro   \n",
       "4            Antón Laguna,Montse Sancho   \n",
       "\n",
       "                                            producer    imdb_id  tmdb_id  \\\n",
       "0  Philippe Carcassonne,Bruno Pesary,Christine Ra...  tt1139800  15342.0   \n",
       "1  Bruno Chiche,Nicolas Duval Adassovsky,Maxime R...  tt1094668  32338.0   \n",
       "2          Barnaby Thompson,Paul Brett,Simon Fawcett  tt1235124  23488.0   \n",
       "3      Elizabeth Karlsen,Laurie Borg,Stephen Woolley  tt0455538  13092.0   \n",
       "4           Álvaro Augustín,Juan Gordon,Emma Lustres  tt1242422  33273.0   \n",
       "\n",
       "   imdb_rating  tmdb_rating available_now  \n",
       "0          5.8          4.8           yes  \n",
       "1          6.1          5.4           yes  \n",
       "2          6.3          5.9           yes  \n",
       "3          6.4          6.1           yes  \n",
       "4          7.6          7.4           yes  "
      ]
     },
     "execution_count": 41,
     "metadata": {},
     "output_type": "execute_result"
    }
   ],
   "source": [
    "movies_database = pd.read_csv('../data/raw/movies.csv')\n",
    "movies_database.head()"
   ]
  },
  {
   "cell_type": "code",
   "execution_count": 42,
   "metadata": {},
   "outputs": [],
   "source": [
    "movies_to_recom = [item_decode[x] for x in items_to_recom]"
   ]
  },
  {
   "cell_type": "code",
   "execution_count": 23,
   "metadata": {},
   "outputs": [
    {
     "data": {
      "text/plain": [
       "(578, 5)"
      ]
     },
     "execution_count": 23,
     "metadata": {},
     "output_type": "execute_result"
    }
   ],
   "source": [
    "movies_database = movies_database[movies_database['id'].isin(movies_to_recom)]\n",
    "item_features = movies_database[['id', 'year', 'genres', 'imdb_rating', 'tmdb_rating']]\n",
    "item_features.shape"
   ]
  },
  {
   "cell_type": "code",
   "execution_count": 24,
   "metadata": {},
   "outputs": [
    {
     "name": "stderr",
     "output_type": "stream",
     "text": [
      "/Users/danil/Documents/github/sweet_RS/env/lib/python3.7/site-packages/ipykernel_launcher.py:10: SettingWithCopyWarning: \n",
      "A value is trying to be set on a copy of a slice from a DataFrame.\n",
      "Try using .loc[row_indexer,col_indexer] = value instead\n",
      "\n",
      "See the caveats in the documentation: https://pandas.pydata.org/pandas-docs/stable/user_guide/indexing.html#returning-a-view-versus-a-copy\n",
      "  # Remove the CWD from sys.path while we load stuff.\n",
      "/Users/danil/Documents/github/sweet_RS/env/lib/python3.7/site-packages/ipykernel_launcher.py:15: SettingWithCopyWarning: \n",
      "A value is trying to be set on a copy of a slice from a DataFrame.\n",
      "Try using .loc[row_indexer,col_indexer] = value instead\n",
      "\n",
      "See the caveats in the documentation: https://pandas.pydata.org/pandas-docs/stable/user_guide/indexing.html#returning-a-view-versus-a-copy\n",
      "  from ipykernel import kernelapp as app\n"
     ]
    }
   ],
   "source": [
    "def convert_year(val):\n",
    "    if val < 2000:\n",
    "        cat = 0\n",
    "    elif 2000<=val < 2010:\n",
    "        cat = 1\n",
    "    else:\n",
    "        cat = 2\n",
    "    return cat\n",
    "\n",
    "item_features['year'] = item_features['year'].apply(convert_year)\n",
    "\n",
    "user_hist_df = pd.read_csv('../data/raw/movies_dataset_10 months.csv')\n",
    "movies = user_hist_df[user_hist_df['episode_id'] == 0]['movie_id'].unique()\n",
    "\n",
    "item_features['movie'] = item_features['id'].apply(lambda x: 1 if x in movies else 0 )"
   ]
  },
  {
   "cell_type": "code",
   "execution_count": 28,
   "metadata": {
    "scrolled": true
   },
   "outputs": [],
   "source": [
    "test = item_features['genres'].fillna('hz').str.split(',')\n",
    "\n",
    "mlb = MultiLabelBinarizer()\n",
    "res = pd.DataFrame(mlb.fit_transform(test),\n",
    "                   columns=mlb.classes_,\n",
    "                   index=test.index)\n",
    "\n",
    "to_drop = ['Family','Musical', 'Quarantine Info', 'hz', 'War']\n",
    "res = res.drop(to_drop, 1)"
   ]
  },
  {
   "cell_type": "code",
   "execution_count": 29,
   "metadata": {},
   "outputs": [],
   "source": [
    "item_features = pd.concat([item_features, res], 1).drop('genres', 1)"
   ]
  },
  {
   "cell_type": "code",
   "execution_count": 30,
   "metadata": {},
   "outputs": [],
   "source": [
    "item_features = item_features.fillna(item_features.mean())"
   ]
  },
  {
   "cell_type": "code",
   "execution_count": 33,
   "metadata": {},
   "outputs": [],
   "source": [
    "item_features['id'] = item_features['id'].apply(lambda x: item_encode[x])"
   ]
  },
  {
   "cell_type": "code",
   "execution_count": null,
   "metadata": {},
   "outputs": [],
   "source": []
  },
  {
   "cell_type": "code",
   "execution_count": 109,
   "metadata": {
    "scrolled": true
   },
   "outputs": [],
   "source": [
    "missed_movies = set(item_decode.keys()).difference(set(item_features['id'].values))\n",
    "\n",
    "item_features = item_features.sort_values('id').reset_index().drop('index', 1)"
   ]
  },
  {
   "cell_type": "code",
   "execution_count": 123,
   "metadata": {},
   "outputs": [],
   "source": [
    "ind = 4298\n",
    "for _id in missed_movies:\n",
    "    item_features.loc[ind] = [_id] + [-1]*21\n",
    "    ind+=1\n",
    "    \n",
    "item_features = item_features.sort_values('id')"
   ]
  },
  {
   "cell_type": "code",
   "execution_count": 125,
   "metadata": {},
   "outputs": [],
   "source": []
  },
  {
   "cell_type": "code",
   "execution_count": 139,
   "metadata": {},
   "outputs": [],
   "source": [
    "movie_features = item_features.drop('id', 1).values"
   ]
  },
  {
   "cell_type": "code",
   "execution_count": 140,
   "metadata": {},
   "outputs": [
    {
     "data": {
      "text/plain": [
       "(4732, 21)"
      ]
     },
     "execution_count": 140,
     "metadata": {},
     "output_type": "execute_result"
    }
   ],
   "source": [
    "movie_features.shape"
   ]
  },
  {
   "cell_type": "code",
   "execution_count": null,
   "metadata": {},
   "outputs": [],
   "source": []
  }
 ],
 "metadata": {
  "kernelspec": {
   "display_name": "Python 3",
   "language": "python",
   "name": "python3"
  },
  "language_info": {
   "codemirror_mode": {
    "name": "ipython",
    "version": 3
   },
   "file_extension": ".py",
   "mimetype": "text/x-python",
   "name": "python",
   "nbconvert_exporter": "python",
   "pygments_lexer": "ipython3",
   "version": "3.7.7"
  }
 },
 "nbformat": 4,
 "nbformat_minor": 4
}
