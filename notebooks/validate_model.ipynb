{
 "cells": [
  {
   "cell_type": "code",
   "execution_count": 2,
   "metadata": {},
   "outputs": [],
   "source": [
    "import pandas as pd\n",
    "import ml_metrics as metrics\n",
    "\n",
    "user_hist_df = pd.read_csv('../data/raw/movies_dataset_10 months.csv')"
   ]
  },
  {
   "cell_type": "code",
   "execution_count": 3,
   "metadata": {},
   "outputs": [],
   "source": [
    "user_hist_df['ts'] = pd.to_datetime(user_hist_df['ts'])\n",
    "user_hist_df['month'] = user_hist_df['ts'].dt.month"
   ]
  },
  {
   "cell_type": "code",
   "execution_count": 8,
   "metadata": {},
   "outputs": [],
   "source": [
    "test_1 = user_hist_df[user_hist_df['month'] == 6]\n",
    "test_2 = user_hist_df[user_hist_df['month'] == 7]\n",
    "\n",
    "train = user_hist_df[~user_hist_df['month'].isin([6, 7])]"
   ]
  },
  {
   "cell_type": "code",
   "execution_count": 12,
   "metadata": {},
   "outputs": [
    {
     "name": "stdout",
     "output_type": "stream",
     "text": [
      "7 month shape: (26243, 5) \n",
      "6 month shape: (25729, 5) \n",
      "train shape: (294436, 5)\n"
     ]
    }
   ],
   "source": [
    "print('7 month shape:', test_2.shape, \n",
    "      '\\n6 month shape:', test_1.shape, \n",
    "      '\\ntrain shape:', train.shape)"
   ]
  },
  {
   "cell_type": "code",
   "execution_count": 15,
   "metadata": {},
   "outputs": [],
   "source": []
  },
  {
   "cell_type": "code",
   "execution_count": 38,
   "metadata": {},
   "outputs": [],
   "source": [
    "correct_1 = test_1.drop_duplicates(['user_id', 'movie_id']).groupby('user_id')['movie_id'].apply(list).to_dict()\n",
    "correct_2 = test_2.drop_duplicates(['user_id', 'movie_id']).groupby('user_id')['movie_id'].apply(list).to_dict()\n"
   ]
  },
  {
   "cell_type": "code",
   "execution_count": 51,
   "metadata": {},
   "outputs": [
    {
     "data": {
      "text/plain": [
       "[12304, 7735, 15285, 17518, 19026]"
      ]
     },
     "execution_count": 51,
     "metadata": {},
     "output_type": "execute_result"
    }
   ],
   "source": [
    "top_5_pred = list(train['movie_id'].value_counts()[:5].index)\n",
    "top_5_pred"
   ]
  },
  {
   "cell_type": "code",
   "execution_count": 52,
   "metadata": {},
   "outputs": [
    {
     "data": {
      "text/plain": [
       "0.004339662447257384"
      ]
     },
     "execution_count": 52,
     "metadata": {},
     "output_type": "execute_result"
    }
   ],
   "source": [
    "metrics.mapk([top_5_pred]*len(correct_1), list(correct_1.values()), 5)"
   ]
  },
  {
   "cell_type": "code",
   "execution_count": 53,
   "metadata": {},
   "outputs": [
    {
     "data": {
      "text/plain": [
       "0.002423093131057733"
      ]
     },
     "execution_count": 53,
     "metadata": {},
     "output_type": "execute_result"
    }
   ],
   "source": [
    "metrics.mapk([top_5_pred]*len(correct_2), list(correct_2.values()), 5)"
   ]
  },
  {
   "cell_type": "markdown",
   "metadata": {},
   "source": [
    "on LB 0.00111"
   ]
  },
  {
   "cell_type": "markdown",
   "metadata": {},
   "source": [
    "# random 5"
   ]
  },
  {
   "cell_type": "code",
   "execution_count": 55,
   "metadata": {},
   "outputs": [
    {
     "data": {
      "text/plain": [
       "0.0031814345991561187"
      ]
     },
     "execution_count": 55,
     "metadata": {},
     "output_type": "execute_result"
    }
   ],
   "source": [
    "import random\n",
    "\n",
    "most_popular_100 = list(train.movie_id.value_counts()[:100].index)\n",
    "\n",
    "preds = dict()\n",
    "\n",
    "for user in correct_1.keys():\n",
    "    preds[user] = random.sample(most_popular_100, 5)\n",
    "    \n",
    "metrics.mapk(list(preds.values()), list(correct_1.values()), 5)"
   ]
  },
  {
   "cell_type": "code",
   "execution_count": 56,
   "metadata": {},
   "outputs": [
    {
     "data": {
      "text/plain": [
       "0.003251158870627897"
      ]
     },
     "execution_count": 56,
     "metadata": {},
     "output_type": "execute_result"
    }
   ],
   "source": [
    "preds = dict()\n",
    "\n",
    "for user in correct_2.keys():\n",
    "    preds[user] = random.sample(most_popular_100, 5)\n",
    "    \n",
    "metrics.mapk(list(preds.values()), list(correct_2.values()), 5)"
   ]
  },
  {
   "cell_type": "markdown",
   "metadata": {},
   "source": [
    "on LB 0.00218"
   ]
  },
  {
   "cell_type": "markdown",
   "metadata": {},
   "source": [
    "# Fav serials"
   ]
  },
  {
   "cell_type": "code",
   "execution_count": 86,
   "metadata": {},
   "outputs": [],
   "source": [
    "fav_serials = train[(train['episode_id'] != 0) & \n",
    "                    (train['month'] == 5)].groupby(['user_id', 'movie_id'])['movie_id'].count()\n",
    "fav_serials = fav_serials[fav_serials>=2].reset_index(name='cnt')\n",
    "\n",
    "g = fav_serials.groupby([\"user_id\"]).apply(lambda x: x.sort_values([\"cnt\"], ascending = False)).reset_index(drop=True)\n",
    "\n",
    "user_top_5_serials = g.groupby([\"user_id\"])['movie_id'].apply(lambda x: list(x[:5])).to_dict()"
   ]
  },
  {
   "cell_type": "code",
   "execution_count": 89,
   "metadata": {},
   "outputs": [
    {
     "data": {
      "text/plain": [
       "0.027612341772151897"
      ]
     },
     "execution_count": 89,
     "metadata": {},
     "output_type": "execute_result"
    }
   ],
   "source": [
    "preds = dict()\n",
    "\n",
    "for user in correct_1.keys():\n",
    "    try:\n",
    "        preds[user] = user_top_5_serials[user]\n",
    "    except KeyError:\n",
    "        preds[user] = random.sample(most_popular_100, 5)\n",
    "    \n",
    "metrics.mapk(list(preds.values()), list(correct_1.values()), 5)"
   ]
  },
  {
   "cell_type": "code",
   "execution_count": 90,
   "metadata": {},
   "outputs": [
    {
     "data": {
      "text/plain": [
       "0.0037106188466947965"
      ]
     },
     "execution_count": 90,
     "metadata": {},
     "output_type": "execute_result"
    }
   ],
   "source": [
    "preds = dict()\n",
    "\n",
    "for user in correct_2.keys():\n",
    "    try:\n",
    "        preds[user] = user_top_5_serials[user]\n",
    "    except KeyError:\n",
    "        preds[user] = random.sample(most_popular_100, 5)\n",
    "    \n",
    "metrics.mapk(list(preds.values()), list(correct_1.values()), 5)"
   ]
  },
  {
   "cell_type": "markdown",
   "metadata": {},
   "source": [
    "норм тема брать любимые сериалы из предыдущего месяца"
   ]
  },
  {
   "cell_type": "markdown",
   "metadata": {},
   "source": [
    "# Ideas"
   ]
  },
  {
   "cell_type": "markdown",
   "metadata": {},
   "source": [
    "1. посмотреть на каких пользователях чаще ошибаюсь(новых или старых)\n",
    "2. какие фильмы я чаще всего пропускаю\n",
    "3. что чаще всего рекомендую ненужное"
   ]
  },
  {
   "cell_type": "markdown",
   "metadata": {},
   "source": [
    "# models"
   ]
  },
  {
   "cell_type": "markdown",
   "metadata": {},
   "source": [
    "1. "
   ]
  }
 ],
 "metadata": {
  "kernelspec": {
   "display_name": "Python 3",
   "language": "python",
   "name": "python3"
  },
  "language_info": {
   "codemirror_mode": {
    "name": "ipython",
    "version": 3
   },
   "file_extension": ".py",
   "mimetype": "text/x-python",
   "name": "python",
   "nbconvert_exporter": "python",
   "pygments_lexer": "ipython3",
   "version": "3.7.7"
  }
 },
 "nbformat": 4,
 "nbformat_minor": 4
}
