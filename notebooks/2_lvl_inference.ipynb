{
 "cells": [
  {
   "cell_type": "code",
   "execution_count": 1,
   "metadata": {},
   "outputs": [],
   "source": [
    "import implicit\n",
    "from scipy.sparse import coo_matrix\n",
    "\n",
    "import pandas as pd\n",
    "import ml_metrics as metrics\n",
    "\n",
    "import lightgbm as lgb\n",
    "from sklearn.preprocessing import MultiLabelBinarizer\n",
    "import numpy as np\n",
    "import random\n",
    "from collections import Counter\n"
   ]
  },
  {
   "cell_type": "markdown",
   "metadata": {},
   "source": [
    "# inference"
   ]
  },
  {
   "cell_type": "code",
   "execution_count": 47,
   "metadata": {},
   "outputs": [],
   "source": [
    "user_hist_df = pd.read_csv('../data/raw/movies_dataset_10 months.csv')\n",
    "\n",
    "user_hist_df['ts'] = pd.to_datetime(user_hist_df['ts'])\n",
    "user_hist_df['month'] = user_hist_df['ts'].dt.month\n",
    "\n",
    "user_hist_df = user_hist_df[user_hist_df['episode_id'] == 0]\n",
    "train = train = user_hist_df[~user_hist_df['month'].isin([10, 11])]"
   ]
  },
  {
   "cell_type": "code",
   "execution_count": 48,
   "metadata": {},
   "outputs": [
    {
     "name": "stderr",
     "output_type": "stream",
     "text": [
      "/Users/danil/Documents/github/sweet_RS/env/lib/python3.7/site-packages/ipykernel_launcher.py:1: SettingWithCopyWarning: \n",
      "A value is trying to be set on a copy of a slice from a DataFrame.\n",
      "Try using .loc[row_indexer,col_indexer] = value instead\n",
      "\n",
      "See the caveats in the documentation: https://pandas.pydata.org/pandas-docs/stable/user_guide/indexing.html#returning-a-view-versus-a-copy\n",
      "  \"\"\"Entry point for launching an IPython kernel.\n"
     ]
    }
   ],
   "source": [
    "train['event'] = 1\n",
    "train = train[['user_id', 'movie_id', 'event']].drop_duplicates()"
   ]
  },
  {
   "cell_type": "code",
   "execution_count": 49,
   "metadata": {},
   "outputs": [],
   "source": [
    "user_encode = {u: i for i, u in enumerate(train['user_id'].unique())}\n",
    "item_encode = {u: i for i, u in enumerate(train['movie_id'].unique())}\n",
    "\n",
    "user_decode = {v: k for k, v in user_encode.items()}\n",
    "item_decode = {v: k for k, v in item_encode.items()}\n",
    "\n",
    "n_users, n_items = len(user_encode), len(item_encode)\n",
    "\n",
    "train['user_id'] = train['user_id'].apply(lambda x: user_encode[x])\n",
    "train['movie_id'] = train['movie_id'].apply(lambda x: item_encode[x])"
   ]
  },
  {
   "cell_type": "code",
   "execution_count": 14,
   "metadata": {},
   "outputs": [],
   "source": [
    "item_user = coo_matrix(\n",
    "    (train['event'], (train['user_id'], train['movie_id'])), shape=(n_users, n_items))\n",
    "\n",
    "user_item = coo_matrix(\n",
    "    (train['event'], (train['movie_id'], train['user_id'])), shape=(n_items, n_users))"
   ]
  },
  {
   "cell_type": "code",
   "execution_count": 15,
   "metadata": {},
   "outputs": [
    {
     "data": {
      "text/plain": [
       "(3497, 2022)"
      ]
     },
     "execution_count": 15,
     "metadata": {},
     "output_type": "execute_result"
    }
   ],
   "source": [
    "user_item.shape"
   ]
  },
  {
   "cell_type": "code",
   "execution_count": 16,
   "metadata": {},
   "outputs": [
    {
     "name": "stderr",
     "output_type": "stream",
     "text": [
      "WARNING:root:OpenBLAS detected. Its highly recommend to set the environment variable 'export OPENBLAS_NUM_THREADS=1' to disable its internal multithreading\n"
     ]
    }
   ],
   "source": [
    "# initialize a model\n",
    "model = implicit.als.AlternatingLeastSquares(factors=5, iterations= 15)\n",
    "\n",
    "# train the model on a sparse matrix of item/user/confidence weights\n",
    "model.fit(user_item, show_progress=False)"
   ]
  },
  {
   "cell_type": "code",
   "execution_count": 17,
   "metadata": {},
   "outputs": [],
   "source": [
    "movies_database = pd.read_csv('../data/raw/movies.csv')\n",
    "useless_movies = movies_database[(movies_database['year'] < 2010) & \n",
    "                                 (~movies_database['id'].isin(list(item_encode.keys()))) &\n",
    "                                 (movies_database['imdb_rating'] < 6)]['id'].values\n",
    "\n",
    "useless_movies = [m for m in useless_movies if m in item_decode]"
   ]
  },
  {
   "cell_type": "code",
   "execution_count": 18,
   "metadata": {},
   "outputs": [],
   "source": [
    "# als\n",
    "res = model.recommend_all(item_user, N = 100, filter_items = useless_movies, show_progress=False)"
   ]
  },
  {
   "cell_type": "code",
   "execution_count": 19,
   "metadata": {},
   "outputs": [],
   "source": [
    "recom = {}\n",
    "\n",
    "for ind, rec in enumerate(res):\n",
    "    recom[user_decode[ind]] = [item_decode[x] for x in rec]"
   ]
  },
  {
   "cell_type": "markdown",
   "metadata": {},
   "source": [
    "# LGBM"
   ]
  },
  {
   "cell_type": "code",
   "execution_count": 11,
   "metadata": {},
   "outputs": [],
   "source": [
    "user_features = model.user_factors"
   ]
  },
  {
   "cell_type": "markdown",
   "metadata": {},
   "source": [
    "get item features"
   ]
  },
  {
   "cell_type": "code",
   "execution_count": 12,
   "metadata": {},
   "outputs": [
    {
     "name": "stderr",
     "output_type": "stream",
     "text": [
      "/Users/danil/Documents/github/sweet_RS/env/lib/python3.7/site-packages/ipykernel_launcher.py:15: SettingWithCopyWarning: \n",
      "A value is trying to be set on a copy of a slice from a DataFrame.\n",
      "Try using .loc[row_indexer,col_indexer] = value instead\n",
      "\n",
      "See the caveats in the documentation: https://pandas.pydata.org/pandas-docs/stable/user_guide/indexing.html#returning-a-view-versus-a-copy\n",
      "  from ipykernel import kernelapp as app\n",
      "/Users/danil/Documents/github/sweet_RS/env/lib/python3.7/site-packages/ipykernel_launcher.py:20: SettingWithCopyWarning: \n",
      "A value is trying to be set on a copy of a slice from a DataFrame.\n",
      "Try using .loc[row_indexer,col_indexer] = value instead\n",
      "\n",
      "See the caveats in the documentation: https://pandas.pydata.org/pandas-docs/stable/user_guide/indexing.html#returning-a-view-versus-a-copy\n"
     ]
    }
   ],
   "source": [
    "movies_database = pd.read_csv('../data/raw/movies.csv')\n",
    "\n",
    "# movies_database = movies_database[movies_database['id'].isin(list(item_encode.keys()))]\n",
    "item_features = movies_database[['id', 'year', 'genres', 'imdb_rating', 'tmdb_rating']]\n",
    "\n",
    "def convert_year(val):\n",
    "    if val < 2000:\n",
    "        cat = 0\n",
    "    elif 2000<=val < 2010:\n",
    "        cat = 1\n",
    "    else:\n",
    "        cat = 2\n",
    "    return cat\n",
    "\n",
    "item_features['year'] = item_features['year'].apply(convert_year)\n",
    "\n",
    "user_hist_df = pd.read_csv('../data/raw/movies_dataset_10 months.csv')\n",
    "movies = user_hist_df[user_hist_df['episode_id'] == 0]['movie_id'].unique()\n",
    "\n",
    "item_features['movie'] = item_features['id'].apply(lambda x: 1 if x in movies else 0 )\n",
    "\n",
    "test = item_features['genres'].fillna('hz').str.split(',')\n",
    "\n",
    "mlb = MultiLabelBinarizer()\n",
    "res = pd.DataFrame(mlb.fit_transform(test),\n",
    "                   columns=mlb.classes_,\n",
    "                   index=test.index)\n",
    "\n",
    "to_drop = ['Art House', 'Documentary', 'Family','Musical', 'Quarantine Info', 'hz', 'War']\n",
    "res = res.drop(to_drop, 1)\n",
    "\n",
    "item_features = pd.concat([item_features, res], 1).drop('genres', 1)\n",
    "\n",
    "item_features = item_features.fillna(item_features.mean())"
   ]
  },
  {
   "cell_type": "code",
   "execution_count": 13,
   "metadata": {},
   "outputs": [],
   "source": [
    "item_features = item_features.drop('movie', 1)"
   ]
  },
  {
   "cell_type": "code",
   "execution_count": 14,
   "metadata": {},
   "outputs": [],
   "source": [
    "user_features_df = pd.DataFrame(user_features)\n",
    "user_features_df['user_id'] = user_encode.values()"
   ]
  },
  {
   "cell_type": "code",
   "execution_count": 15,
   "metadata": {},
   "outputs": [],
   "source": [
    "rank_df = pd.merge(train, user_features_df, how='left', on='user_id')"
   ]
  },
  {
   "cell_type": "code",
   "execution_count": 16,
   "metadata": {},
   "outputs": [],
   "source": [
    "rank_df = pd.merge(rank_df, item_features, how = 'left', \n",
    "                   left_on ='movie_id', \n",
    "                   right_on='id')"
   ]
  },
  {
   "cell_type": "code",
   "execution_count": 17,
   "metadata": {},
   "outputs": [
    {
     "data": {
      "text/plain": [
       "(154776, 34)"
      ]
     },
     "execution_count": 17,
     "metadata": {},
     "output_type": "execute_result"
    }
   ],
   "source": [
    "rank_df.shape"
   ]
  },
  {
   "cell_type": "code",
   "execution_count": 18,
   "metadata": {},
   "outputs": [],
   "source": [
    "rank_df = rank_df.dropna()"
   ]
  },
  {
   "cell_type": "markdown",
   "metadata": {},
   "source": [
    "generate negative examples"
   ]
  },
  {
   "cell_type": "code",
   "execution_count": 19,
   "metadata": {},
   "outputs": [],
   "source": [
    "user_hist = train.groupby('user_id')['movie_id'].apply(set)\n",
    "users_to_predict = train['user_id'].unique()"
   ]
  },
  {
   "cell_type": "code",
   "execution_count": 20,
   "metadata": {},
   "outputs": [
    {
     "name": "stderr",
     "output_type": "stream",
     "text": [
      "/Users/danil/Documents/github/sweet_RS/env/lib/python3.7/site-packages/ipykernel_launcher.py:2: SettingWithCopyWarning: \n",
      "A value is trying to be set on a copy of a slice from a DataFrame.\n",
      "Try using .loc[row_indexer,col_indexer] = value instead\n",
      "\n",
      "See the caveats in the documentation: https://pandas.pydata.org/pandas-docs/stable/user_guide/indexing.html#returning-a-view-versus-a-copy\n",
      "  \n"
     ]
    }
   ],
   "source": [
    "movie_genres = movies_database[['id', 'genres']]\n",
    "movie_genres['genres'] = movie_genres['genres'].str.split(',')\n",
    "#movie_genres['id'] = movie_genres['id'].apply(lambda x: item_encode.get(x, x + 1000000000) )\n",
    "\n",
    "movie_genres_dict = {}\n",
    "\n",
    "for i in movie_genres.iterrows():\n",
    "    movie_genres_dict[i[1][0]] = i[1][1]"
   ]
  },
  {
   "cell_type": "code",
   "execution_count": 21,
   "metadata": {},
   "outputs": [],
   "source": [
    "movie_genres_dict = {k: v for k, v in movie_genres_dict.items() if isinstance(v, list)}"
   ]
  },
  {
   "cell_type": "markdown",
   "metadata": {},
   "source": [
    "вот тут еще можно поиграться с кол вом жанров которые нужно учесть"
   ]
  },
  {
   "cell_type": "code",
   "execution_count": 22,
   "metadata": {},
   "outputs": [],
   "source": [
    "user_pref = {}\n",
    "for user in users_to_predict:\n",
    "    #print(user)\n",
    "    user_pref[user] = {}\n",
    "    #print(user_hist[user])\n",
    "    for film in user_hist[user]:\n",
    "        film = item_decode[film]\n",
    "        if movie_genres_dict.get(film):\n",
    "            for genre in movie_genres_dict[film]:\n",
    "                if user_pref[user].get(genre):\n",
    "                    user_pref[user][genre] += 1\n",
    "                else:\n",
    "                    user_pref[user][genre] = 1\n",
    "                    \n",
    "    user_pref[user] = [key for key, val in Counter(user_pref[user]).most_common(5)]                \n",
    "\n"
   ]
  },
  {
   "cell_type": "code",
   "execution_count": 23,
   "metadata": {},
   "outputs": [],
   "source": [
    "neg_examples = 50"
   ]
  },
  {
   "cell_type": "code",
   "execution_count": 24,
   "metadata": {},
   "outputs": [],
   "source": [
    "user_negative = {}\n",
    "\n",
    "for user in user_pref:\n",
    "    negative = []\n",
    "    current_user_pref = set(user_pref[user])\n",
    "    \n",
    "    num = 0\n",
    "    while num < neg_examples:\n",
    "        random_film = random.sample(list(movie_genres_dict), 1)[0]\n",
    "        curr_film_genres = set(movie_genres_dict[random_film])\n",
    "        if len(current_user_pref.intersection(curr_film_genres)) == 0:\n",
    "            negative.append(random_film)\n",
    "            num += 1\n",
    "            \n",
    "    user_negative[user] = negative\n",
    "      "
   ]
  },
  {
   "cell_type": "code",
   "execution_count": 25,
   "metadata": {},
   "outputs": [],
   "source": [
    "users = []\n",
    "films = []\n",
    "\n",
    "\n",
    "for user in user_negative:\n",
    "    users += [user] * neg_examples\n",
    "    films += user_negative[user]\n",
    "    \n",
    "    \n",
    "negative_df = pd.DataFrame()\n",
    "negative_df['user_id'] = users\n",
    "negative_df['movie_id'] = films"
   ]
  },
  {
   "cell_type": "code",
   "execution_count": 26,
   "metadata": {},
   "outputs": [],
   "source": [
    "negative_df = pd.merge(negative_df, user_features_df, how='left', on='user_id')"
   ]
  },
  {
   "cell_type": "code",
   "execution_count": 27,
   "metadata": {},
   "outputs": [],
   "source": [
    "negative_df = pd.merge(negative_df, item_features, how = 'left', \n",
    "                       left_on ='movie_id', \n",
    "                       right_on='id')\n",
    "negative_df['event'] = 0"
   ]
  },
  {
   "cell_type": "code",
   "execution_count": 28,
   "metadata": {},
   "outputs": [
    {
     "data": {
      "text/plain": [
       "(101100, 34)"
      ]
     },
     "execution_count": 28,
     "metadata": {},
     "output_type": "execute_result"
    }
   ],
   "source": [
    "negative_df.shape"
   ]
  },
  {
   "cell_type": "code",
   "execution_count": 29,
   "metadata": {},
   "outputs": [
    {
     "data": {
      "text/plain": [
       "(153711, 34)"
      ]
     },
     "execution_count": 29,
     "metadata": {},
     "output_type": "execute_result"
    }
   ],
   "source": [
    "rank_df.shape"
   ]
  },
  {
   "cell_type": "code",
   "execution_count": 30,
   "metadata": {},
   "outputs": [],
   "source": [
    "#X = pd.concat([negative_df[:10000], rank_df[:10000]], 0)\n",
    "X = pd.concat([negative_df[:], rank_df[:]], 0)"
   ]
  },
  {
   "cell_type": "code",
   "execution_count": 31,
   "metadata": {},
   "outputs": [],
   "source": [
    "X.iloc[:, 11:] = X.iloc[:, 11:].astype('int8')\n",
    "X.iloc[:, 2:7] = X.iloc[:, 2:7].astype('float16')"
   ]
  },
  {
   "cell_type": "code",
   "execution_count": 6,
   "metadata": {},
   "outputs": [],
   "source": [
    "import implicit\n",
    "from scipy.sparse import coo_matrix\n",
    "\n",
    "import pandas as pd\n",
    "import ml_metrics as metrics\n",
    "\n",
    "import lightgbm as lgb\n",
    "import xgboost as xgb\n",
    "from sklearn.preprocessing import MultiLabelBinarizer\n",
    "import numpy as np\n",
    "import random\n",
    "from collections import Counter\n",
    "\n",
    "import sys\n",
    "\n",
    "PATH = '/Users/danil/Documents/github/sweet_RS/'\n",
    "sys.path.append(str(PATH))\n",
    "\n",
    "from src.utils import save_to_pickle, read_pickle"
   ]
  },
  {
   "cell_type": "code",
   "execution_count": 34,
   "metadata": {},
   "outputs": [],
   "source": [
    "save_to_pickle(X, '../data/processed/X_for_2lvl.pickle')\n",
    "save_to_pickle(user_encode, '../data/processed/user_encode.pickle')\n",
    "save_to_pickle(user_features_df, '../data/processed/user_features_df.pickle')\n",
    "save_to_pickle(item_features, '../data/processed/item_features.pickle')\n",
    "save_to_pickle(user_decode, '../data/processed/user_decode.pickle')\n",
    "save_to_pickle(recom, '../data/processed/recom.pickle')"
   ]
  },
  {
   "cell_type": "code",
   "execution_count": 7,
   "metadata": {},
   "outputs": [],
   "source": [
    "X = read_pickle('../data/processed/X_for_2lvl.pickle')\n",
    "user_encode = read_pickle('../data/processed/user_encode.pickle')\n",
    "user_features_df = read_pickle('../data/processed/user_features_df.pickle')\n",
    "item_features = read_pickle('../data/processed/item_features.pickle')\n",
    "user_decode = read_pickle('../data/processed/user_decode.pickle')\n",
    "recom = read_pickle('../data/processed/recom.pickle')"
   ]
  },
  {
   "cell_type": "code",
   "execution_count": 20,
   "metadata": {},
   "outputs": [],
   "source": [
    "from sklearn.model_selection import train_test_split\n",
    "X_train, X_test, y_train, y_test = train_test_split(X.drop(['user_id', 'movie_id', 'id', 'event'], 1), \n",
    "                                                    X['event'], test_size=0.2, random_state=42)\n",
    "\n",
    "X_train, X_val, y_train, y_val = train_test_split(X_train, y_train, test_size=0.2, random_state=42)"
   ]
  },
  {
   "cell_type": "code",
   "execution_count": 16,
   "metadata": {},
   "outputs": [],
   "source": [
    "y_train = y_train[:]\n",
    "X_train = X_train[:50000]"
   ]
  },
  {
   "cell_type": "code",
   "execution_count": 21,
   "metadata": {},
   "outputs": [],
   "source": [
    "query_train = [X_train.shape[0]]\n",
    "query_val = [X_val.shape[0]]\n",
    "query_val = [10000]\n",
    "query_test = [X_test.shape[0]]"
   ]
  },
  {
   "cell_type": "code",
   "execution_count": 30,
   "metadata": {},
   "outputs": [],
   "source": [
    "del gbm"
   ]
  },
  {
   "cell_type": "code",
   "execution_count": 6,
   "metadata": {},
   "outputs": [],
   "source": [
    "gbm = lgb.LGBMRanker(max_depth = 5, n_estimators = 100, random_state = 42, \n",
    "                    n_jobs=-1)"
   ]
  },
  {
   "cell_type": "code",
   "execution_count": 18,
   "metadata": {},
   "outputs": [],
   "source": [
    "model = xgb.XGBRanker()"
   ]
  },
  {
   "cell_type": "code",
   "execution_count": 23,
   "metadata": {},
   "outputs": [
    {
     "data": {
      "text/plain": [
       "XGBRanker(base_score=0.5, booster='gbtree', colsample_bylevel=1,\n",
       "          colsample_bynode=1, colsample_bytree=1, gamma=0, gpu_id=-1,\n",
       "          importance_type='gain', interaction_constraints='',\n",
       "          learning_rate=0.300000012, max_delta_step=0, max_depth=6,\n",
       "          min_child_weight=1, missing=nan, monotone_constraints='()',\n",
       "          n_estimators=100, n_jobs=0, num_parallel_tree=1, random_state=0,\n",
       "          reg_alpha=0, reg_lambda=1, scale_pos_weight=None, subsample=1,\n",
       "          tree_method='exact', validate_parameters=1, verbosity=None)"
      ]
     },
     "execution_count": 23,
     "metadata": {},
     "output_type": "execute_result"
    }
   ],
   "source": [
    "model.fit(X_train, y_train, group=query_train,\n",
    "        eval_set=[(X_val[:10000], y_val[:10000])], eval_group=[query_val],\n",
    "          early_stopping_rounds=50)"
   ]
  },
  {
   "cell_type": "code",
   "execution_count": 35,
   "metadata": {},
   "outputs": [
    {
     "data": {
      "text/plain": [
       "XGBRanker(base_score=0.5, booster='gbtree', colsample_bylevel=1,\n",
       "          colsample_bynode=1, colsample_bytree=1, gamma=0, gpu_id=-1,\n",
       "          importance_type='gain', interaction_constraints='',\n",
       "          learning_rate=0.300000012, max_delta_step=0, max_depth=6,\n",
       "          min_child_weight=1, missing=nan, monotone_constraints='()',\n",
       "          n_estimators=100, n_jobs=0, num_parallel_tree=1, random_state=0,\n",
       "          reg_alpha=0, reg_lambda=1, scale_pos_weight=None, subsample=1,\n",
       "          tree_method='exact', validate_parameters=1, verbosity=None)"
      ]
     },
     "execution_count": 35,
     "metadata": {},
     "output_type": "execute_result"
    }
   ],
   "source": [
    "model.fit(X_train, y_train, group=query_train)"
   ]
  },
  {
   "cell_type": "markdown",
   "metadata": {},
   "source": [
    "validate"
   ]
  },
  {
   "cell_type": "code",
   "execution_count": 36,
   "metadata": {},
   "outputs": [],
   "source": [
    "users = []\n",
    "films = []\n",
    "\n",
    "\n",
    "for user in recom:\n",
    "    users += [user_encode[user]] * 100\n",
    "    films += recom[user]\n",
    "    \n",
    "validate_df = pd.DataFrame()\n",
    "validate_df['user_id'] = users\n",
    "validate_df['movie_id'] = films"
   ]
  },
  {
   "cell_type": "code",
   "execution_count": 37,
   "metadata": {},
   "outputs": [],
   "source": [
    "validate_df = pd.merge(validate_df, user_features_df, how='left', on='user_id')\n",
    "\n",
    "validate_df = pd.merge(validate_df, item_features, how = 'left', \n",
    "                       left_on ='movie_id', \n",
    "                       right_on='id')\n",
    "\n",
    "\n",
    "validate_df = validate_df.dropna()\n"
   ]
  },
  {
   "cell_type": "code",
   "execution_count": 38,
   "metadata": {},
   "outputs": [],
   "source": [
    "test_pred = model.predict(validate_df.drop(['user_id', 'movie_id', 'id'], 1))\n",
    "validate_df['pred'] = test_pred"
   ]
  },
  {
   "cell_type": "code",
   "execution_count": 39,
   "metadata": {},
   "outputs": [],
   "source": [
    "g = validate_df.groupby(['user_id']).apply(lambda x: x.nlargest(5,['pred'])).reset_index(drop=True)\n"
   ]
  },
  {
   "cell_type": "code",
   "execution_count": 30,
   "metadata": {},
   "outputs": [],
   "source": [
    "recoms_wl = g.groupby('user_id')['movie_id'].apply(list)"
   ]
  },
  {
   "cell_type": "code",
   "execution_count": 43,
   "metadata": {},
   "outputs": [],
   "source": [
    "recoms_to_save = {user_decode[k]: v for k, v in recoms_wl.items()}"
   ]
  },
  {
   "cell_type": "code",
   "execution_count": 32,
   "metadata": {},
   "outputs": [],
   "source": [
    "save_to_pickle(recoms_to_save, '../data/processed/2_lvl_xgbm.pickle')"
   ]
  },
  {
   "cell_type": "code",
   "execution_count": 33,
   "metadata": {},
   "outputs": [
    {
     "data": {
      "text/plain": [
       "2022"
      ]
     },
     "execution_count": 33,
     "metadata": {},
     "output_type": "execute_result"
    }
   ],
   "source": [
    "len(recoms_to_save)"
   ]
  },
  {
   "cell_type": "code",
   "execution_count": 41,
   "metadata": {},
   "outputs": [
    {
     "data": {
      "text/plain": [
       "user_id\n",
       "0         [4644, 18413, 10544, 1176, 19353]\n",
       "1       [17261, 15403, 16861, 13889, 18652]\n",
       "2       [19252, 17261, 16476, 16032, 17218]\n",
       "3         [2973, 19252, 17261, 4386, 19852]\n",
       "4        [19207, 17261, 16693, 1989, 10920]\n",
       "                       ...                 \n",
       "2017     [9335, 17261, 10920, 19207, 18576]\n",
       "2018     [9335, 18586, 19353, 18576, 17364]\n",
       "2019     [18586, 9256, 10462, 10389, 19353]\n",
       "2020       [3612, 2776, 10680, 6128, 15173]\n",
       "2021     [19353, 17364, 18576, 16601, 2219]\n",
       "Name: movie_id, Length: 2022, dtype: object"
      ]
     },
     "execution_count": 41,
     "metadata": {},
     "output_type": "execute_result"
    }
   ],
   "source": [
    "recoms_wl"
   ]
  },
  {
   "cell_type": "code",
   "execution_count": null,
   "metadata": {},
   "outputs": [],
   "source": []
  }
 ],
 "metadata": {
  "kernelspec": {
   "display_name": "Python 3",
   "language": "python",
   "name": "python3"
  },
  "language_info": {
   "codemirror_mode": {
    "name": "ipython",
    "version": 3
   },
   "file_extension": ".py",
   "mimetype": "text/x-python",
   "name": "python",
   "nbconvert_exporter": "python",
   "pygments_lexer": "ipython3",
   "version": "3.7.7"
  }
 },
 "nbformat": 4,
 "nbformat_minor": 4
}
