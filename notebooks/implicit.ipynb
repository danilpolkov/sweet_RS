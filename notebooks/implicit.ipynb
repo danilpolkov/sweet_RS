{
 "cells": [
  {
   "cell_type": "markdown",
   "metadata": {},
   "source": [
    "https://github.com/massquantity/LibRecommender"
   ]
  },
  {
   "cell_type": "code",
   "execution_count": 80,
   "metadata": {},
   "outputs": [],
   "source": [
    "import implicit\n",
    "from scipy.sparse import coo_matrix\n",
    "\n",
    "import pandas as pd\n",
    "import ml_metrics as metrics"
   ]
  },
  {
   "cell_type": "code",
   "execution_count": 81,
   "metadata": {},
   "outputs": [],
   "source": [
    "user_hist_df = pd.read_csv('../data/raw/movies_dataset_10 months.csv')\n",
    "\n",
    "user_hist_df['ts'] = pd.to_datetime(user_hist_df['ts'])\n",
    "user_hist_df['month'] = user_hist_df['ts'].dt.month\n",
    "\n",
    "test_1 = user_hist_df[user_hist_df['month'] == 6]\n",
    "test_2 = user_hist_df[user_hist_df['month'] == 7]\n",
    "user_hist_df = user_hist_df[user_hist_df['episode_id'] == 0]\n",
    "train = user_hist_df[~user_hist_df['month'].isin([6, 7])]"
   ]
  },
  {
   "cell_type": "code",
   "execution_count": 82,
   "metadata": {},
   "outputs": [],
   "source": [
    "correct_1 = test_1.drop_duplicates(['user_id', 'movie_id']).groupby('user_id')['movie_id'].apply(list).to_dict()\n",
    "correct_2 = test_2.drop_duplicates(['user_id', 'movie_id']).groupby('user_id')['movie_id'].apply(list).to_dict()\n"
   ]
  },
  {
   "cell_type": "code",
   "execution_count": 83,
   "metadata": {},
   "outputs": [
    {
     "name": "stderr",
     "output_type": "stream",
     "text": [
      "/Users/danil/Documents/github/sweet_RS/env/lib/python3.7/site-packages/ipykernel_launcher.py:1: SettingWithCopyWarning: \n",
      "A value is trying to be set on a copy of a slice from a DataFrame.\n",
      "Try using .loc[row_indexer,col_indexer] = value instead\n",
      "\n",
      "See the caveats in the documentation: https://pandas.pydata.org/pandas-docs/stable/user_guide/indexing.html#returning-a-view-versus-a-copy\n",
      "  \"\"\"Entry point for launching an IPython kernel.\n"
     ]
    }
   ],
   "source": [
    "train['event'] = 1\n",
    "train = train[['user_id', 'movie_id', 'event']].drop_duplicates()"
   ]
  },
  {
   "cell_type": "code",
   "execution_count": 84,
   "metadata": {},
   "outputs": [],
   "source": [
    "user_encode = {u: i for i, u in enumerate(train['user_id'].unique())}\n",
    "item_encode = {u: i for i, u in enumerate(train['movie_id'].unique())}\n",
    "\n",
    "user_decode = {v: k for k, v in user_encode.items()}\n",
    "item_decode = {v: k for k, v in item_encode.items()}\n",
    "\n",
    "n_users, n_items = len(user_encode), len(item_encode)\n",
    "\n",
    "train['user_id'] = train['user_id'].apply(lambda x: user_encode[x])\n",
    "train['movie_id'] = train['movie_id'].apply(lambda x: item_encode[x])"
   ]
  },
  {
   "cell_type": "code",
   "execution_count": 85,
   "metadata": {},
   "outputs": [],
   "source": [
    "item_user = coo_matrix(\n",
    "    (train['event'], (train['user_id'], train['movie_id'])), shape=(n_users, n_items))\n",
    "\n",
    "user_item = coo_matrix(\n",
    "    (train['event'], (train['movie_id'], train['user_id'])), shape=(n_items, n_users))"
   ]
  },
  {
   "cell_type": "code",
   "execution_count": 86,
   "metadata": {},
   "outputs": [
    {
     "data": {
      "text/plain": [
       "(4063, 2055)"
      ]
     },
     "execution_count": 86,
     "metadata": {},
     "output_type": "execute_result"
    }
   ],
   "source": [
    "user_item.shape"
   ]
  },
  {
   "cell_type": "code",
   "execution_count": 53,
   "metadata": {},
   "outputs": [],
   "source": [
    "# initialize a model\n",
    "model = implicit.als.AlternatingLeastSquares(factors=5)\n",
    "\n",
    "# train the model on a sparse matrix of item/user/confidence weights\n",
    "model.fit(user_item, show_progress=False)"
   ]
  },
  {
   "cell_type": "code",
   "execution_count": 110,
   "metadata": {},
   "outputs": [],
   "source": [
    "model = implicit.lmf.LogisticMatrixFactorization(factors = 5, random_state = 42)\n",
    "\n",
    "model.fit(user_item, show_progress=False)"
   ]
  },
  {
   "cell_type": "code",
   "execution_count": 123,
   "metadata": {},
   "outputs": [],
   "source": [
    "model = implicit.nearest_neighbours.TFIDFRecommender(K=10)\n",
    "\n",
    "model.fit(user_item, show_progress=False)"
   ]
  },
  {
   "cell_type": "code",
   "execution_count": null,
   "metadata": {},
   "outputs": [],
   "source": []
  },
  {
   "cell_type": "code",
   "execution_count": 88,
   "metadata": {},
   "outputs": [],
   "source": [
    "movies_database = pd.read_csv('../data/raw/movies.csv')\n",
    "useless_movies = movies_database[(movies_database['year'] < 2010) & \n",
    "                                 (~movies_database['id'].isin(list(item_encode.keys()))) &\n",
    "                                 (movies_database['imdb_rating'] < 6)]['id'].values\n",
    "\n",
    "useless_movies = [m for m in useless_movies if m in item_decode]"
   ]
  },
  {
   "cell_type": "code",
   "execution_count": 111,
   "metadata": {},
   "outputs": [],
   "source": [
    "# als\n",
    "res = model.recommend_all(item_user, N = 5, filter_items = useless_movies, show_progress=False)"
   ]
  },
  {
   "cell_type": "code",
   "execution_count": 112,
   "metadata": {},
   "outputs": [],
   "source": [
    "recom = {}\n",
    "\n",
    "for ind, rec in enumerate(res):\n",
    "    recom[user_decode[ind]] = [item_decode[x] for x in rec]"
   ]
  },
  {
   "cell_type": "code",
   "execution_count": 113,
   "metadata": {},
   "outputs": [
    {
     "data": {
      "text/plain": [
       "0.010527426160337552"
      ]
     },
     "execution_count": 113,
     "metadata": {},
     "output_type": "execute_result"
    }
   ],
   "source": [
    "reco = []\n",
    "corr = []\n",
    "\n",
    "num_to_recom = 5\n",
    "for user in correct_1:\n",
    "    reco.append(recom[user])\n",
    "    corr.append(correct_1[user])\n",
    "\n",
    "metrics.mapk(reco, corr, 5)"
   ]
  },
  {
   "cell_type": "code",
   "execution_count": 52,
   "metadata": {},
   "outputs": [
    {
     "data": {
      "text/plain": [
       "0.02020464135021097"
      ]
     },
     "execution_count": 52,
     "metadata": {},
     "output_type": "execute_result"
    }
   ],
   "source": [
    "# als\n",
    "reco = []\n",
    "corr = []\n",
    "\n",
    "num_to_recom = 5\n",
    "for user in correct_1:\n",
    "    reco.append(recom[user])\n",
    "    corr.append(correct_1[user])\n",
    "\n",
    "metrics.mapk(reco, corr, 5)"
   ]
  },
  {
   "cell_type": "markdown",
   "metadata": {},
   "source": [
    "# inference"
   ]
  },
  {
   "cell_type": "code",
   "execution_count": 126,
   "metadata": {},
   "outputs": [],
   "source": [
    "user_hist_df = pd.read_csv('../data/raw/movies_dataset_10 months.csv')\n",
    "user_hist_df = user_hist_df[user_hist_df['episode_id'] == 0]\n",
    "\n",
    "user_hist_df['event'] = 1\n",
    "train = user_hist_df[['user_id', 'movie_id', 'event']].drop_duplicates()"
   ]
  },
  {
   "cell_type": "code",
   "execution_count": 127,
   "metadata": {},
   "outputs": [],
   "source": [
    "user_encode = {u: i for i, u in enumerate(train['user_id'].unique())}\n",
    "item_encode = {u: i for i, u in enumerate(train['movie_id'].unique())}\n",
    "\n",
    "user_decode = {v: k for k, v in user_encode.items()}\n",
    "item_decode = {v: k for k, v in item_encode.items()}\n",
    "\n",
    "n_users, n_items = len(user_encode), len(item_encode)\n",
    "\n",
    "train['user_id'] = train['user_id'].apply(lambda x: user_encode[x])\n",
    "train['movie_id'] = train['movie_id'].apply(lambda x: item_encode[x])\n",
    "\n",
    "item_user = coo_matrix(\n",
    "    (train['event'], (train['user_id'], train['movie_id'])), shape=(n_users, n_items))\n",
    "\n",
    "user_item = coo_matrix(\n",
    "    (train['event'], (train['movie_id'], train['user_id'])), shape=(n_items, n_users))"
   ]
  },
  {
   "cell_type": "code",
   "execution_count": 128,
   "metadata": {},
   "outputs": [],
   "source": [
    "# initialize a model\n",
    "model = implicit.als.AlternatingLeastSquares(factors=5)\n",
    "\n",
    "# train the model on a sparse matrix of item/user/confidence weights\n",
    "model.fit(user_item, show_progress=False)"
   ]
  },
  {
   "cell_type": "code",
   "execution_count": 116,
   "metadata": {},
   "outputs": [],
   "source": [
    "model = implicit.lmf.LogisticMatrixFactorization(factors = 5, random_state = 42)\n",
    "\n",
    "model.fit(user_item, show_progress=False)"
   ]
  },
  {
   "cell_type": "code",
   "execution_count": 117,
   "metadata": {},
   "outputs": [],
   "source": [
    "res = model.recommend_all(item_user, N = 5, filter_items = useless_movies, show_progress=False)"
   ]
  },
  {
   "cell_type": "code",
   "execution_count": 129,
   "metadata": {},
   "outputs": [],
   "source": [
    "res = model.recommend_all(item_user, N = 5, show_progress=False)"
   ]
  },
  {
   "cell_type": "code",
   "execution_count": 130,
   "metadata": {},
   "outputs": [],
   "source": [
    "recom = {}\n",
    "\n",
    "for ind, rec in enumerate(res):\n",
    "    recom[user_decode[ind]] = [item_decode[x] for x in rec]"
   ]
  },
  {
   "cell_type": "code",
   "execution_count": 131,
   "metadata": {},
   "outputs": [],
   "source": [
    "import sys\n",
    "\n",
    "PATH = '/Users/danil/Documents/github/sweet_RS/'\n",
    "sys.path.append(str(PATH))\n",
    "\n",
    "from src.utils import save_to_pickle"
   ]
  },
  {
   "cell_type": "code",
   "execution_count": 133,
   "metadata": {},
   "outputs": [],
   "source": [
    "save_to_pickle(recom, '../data/processed/als_2.pickle')"
   ]
  },
  {
   "cell_type": "code",
   "execution_count": null,
   "metadata": {},
   "outputs": [],
   "source": []
  }
 ],
 "metadata": {
  "kernelspec": {
   "display_name": "Python 3",
   "language": "python",
   "name": "python3"
  },
  "language_info": {
   "codemirror_mode": {
    "name": "ipython",
    "version": 3
   },
   "file_extension": ".py",
   "mimetype": "text/x-python",
   "name": "python",
   "nbconvert_exporter": "python",
   "pygments_lexer": "ipython3",
   "version": "3.7.7"
  }
 },
 "nbformat": 4,
 "nbformat_minor": 4
}
