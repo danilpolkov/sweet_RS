{
 "cells": [
  {
   "cell_type": "code",
   "execution_count": 2,
   "metadata": {
    "scrolled": true
   },
   "outputs": [],
   "source": [
    "from lightfm import LightFM\n",
    "from scipy.sparse import coo_matrix\n",
    "import pandas as pd\n",
    "import ml_metrics as metrics"
   ]
  },
  {
   "cell_type": "markdown",
   "metadata": {},
   "source": [
    "# validate"
   ]
  },
  {
   "cell_type": "code",
   "execution_count": 72,
   "metadata": {},
   "outputs": [],
   "source": [
    "user_hist_df = pd.read_csv('../data/raw/movies_dataset_10 months.csv')\n",
    "\n",
    "user_hist_df['ts'] = pd.to_datetime(user_hist_df['ts'])\n",
    "user_hist_df['month'] = user_hist_df['ts'].dt.month\n",
    "\n",
    "test_1 = user_hist_df[user_hist_df['month'] == 6]\n",
    "test_2 = user_hist_df[user_hist_df['month'] == 7]\n",
    "user_hist_df = user_hist_df[user_hist_df['episode_id'] == 0]\n",
    "train = user_hist_df[~user_hist_df['month'].isin([6, 7])]"
   ]
  },
  {
   "cell_type": "code",
   "execution_count": 73,
   "metadata": {},
   "outputs": [],
   "source": [
    "correct_1 = test_1.drop_duplicates(['user_id', 'movie_id']).groupby('user_id')['movie_id'].apply(list).to_dict()\n",
    "correct_2 = test_2.drop_duplicates(['user_id', 'movie_id']).groupby('user_id')['movie_id'].apply(list).to_dict()\n"
   ]
  },
  {
   "cell_type": "code",
   "execution_count": 74,
   "metadata": {},
   "outputs": [
    {
     "name": "stderr",
     "output_type": "stream",
     "text": [
      "/Users/danil/Documents/github/sweet_RS/env/lib/python3.7/site-packages/ipykernel_launcher.py:1: SettingWithCopyWarning: \n",
      "A value is trying to be set on a copy of a slice from a DataFrame.\n",
      "Try using .loc[row_indexer,col_indexer] = value instead\n",
      "\n",
      "See the caveats in the documentation: https://pandas.pydata.org/pandas-docs/stable/user_guide/indexing.html#returning-a-view-versus-a-copy\n",
      "  \"\"\"Entry point for launching an IPython kernel.\n"
     ]
    }
   ],
   "source": [
    "train['event'] = 1"
   ]
  },
  {
   "cell_type": "code",
   "execution_count": 75,
   "metadata": {},
   "outputs": [],
   "source": [
    "train = train.drop_duplicates(['user_id', 'movie_id', 'event'])"
   ]
  },
  {
   "cell_type": "code",
   "execution_count": 76,
   "metadata": {},
   "outputs": [],
   "source": [
    "model = LightFM(loss='logistic', no_components=10, random_state = 42)\n",
    "\n",
    "train_df = train[['user_id', 'movie_id', 'event']]"
   ]
  },
  {
   "cell_type": "code",
   "execution_count": 77,
   "metadata": {},
   "outputs": [
    {
     "data": {
      "text/plain": [
       "(2055, 4063)"
      ]
     },
     "execution_count": 77,
     "metadata": {},
     "output_type": "execute_result"
    }
   ],
   "source": [
    "user_encode = {u: i for i, u in enumerate(train['user_id'].unique())}\n",
    "item_encode = {u: i for i, u in enumerate(train['movie_id'].unique())}\n",
    "\n",
    "user_decode = {v: k for k, v in user_encode.items()}\n",
    "item_decode = {v: k for k, v in item_encode.items()}\n",
    "\n",
    "n_users, n_items = len(user_encode), len(item_encode)\n",
    "\n",
    "n_users, n_items"
   ]
  },
  {
   "cell_type": "code",
   "execution_count": 78,
   "metadata": {},
   "outputs": [],
   "source": [
    "train['user_id'] = train['user_id'].apply(lambda x: user_encode[x])\n",
    "train['movie_id'] = train['movie_id'].apply(lambda x: item_encode[x])"
   ]
  },
  {
   "cell_type": "code",
   "execution_count": 79,
   "metadata": {},
   "outputs": [],
   "source": [
    "train_coo = coo_matrix(\n",
    "    (train['event'], (train['user_id'], train['movie_id'])), shape=(n_users, n_items))"
   ]
  },
  {
   "cell_type": "code",
   "execution_count": 87,
   "metadata": {},
   "outputs": [
    {
     "name": "stdout",
     "output_type": "stream",
     "text": [
      "792\n"
     ]
    }
   ],
   "source": [
    "movies_database = pd.read_csv('../data/raw/movies.csv')\n",
    "new_movies = movies_database[(movies_database['year']>= 2010) & \n",
    "                             (movies_database['id'].isin(list(item_encode.keys()))) &\n",
    "                             (movies_database['imdb_rating']>= 6)]['id'].values\n",
    "\n",
    "moveis_views = train[train['movie_id'].isin([item_encode[x] for x in new_movies])]['movie_id'].value_counts()\n",
    "\n",
    "items_to_recom = moveis_views[moveis_views>20].index\n",
    "print(len(items_to_recom))"
   ]
  },
  {
   "cell_type": "code",
   "execution_count": 88,
   "metadata": {},
   "outputs": [],
   "source": [
    "users_to_predict = [user_encode[x] for x in list(test_1['user_id'])]\n",
    "items_to_predict = set(items_to_recom.copy())"
   ]
  },
  {
   "cell_type": "code",
   "execution_count": 89,
   "metadata": {},
   "outputs": [
    {
     "data": {
      "text/plain": [
       "<lightfm.lightfm.LightFM at 0x11cb54a10>"
      ]
     },
     "execution_count": 89,
     "metadata": {},
     "output_type": "execute_result"
    }
   ],
   "source": [
    "model.fit(train_coo, epochs=20)"
   ]
  },
  {
   "cell_type": "code",
   "execution_count": 90,
   "metadata": {},
   "outputs": [],
   "source": [
    "user_hist = train_df[train_df['movie_id'] != 0].groupby('user_id')['movie_id'].apply(set).to_dict()\n",
    "user_hist = {user_encode[k]: v for k, v in user_hist.items()}"
   ]
  },
  {
   "cell_type": "code",
   "execution_count": 96,
   "metadata": {},
   "outputs": [
    {
     "data": {
      "text/plain": [
       "0.008411392405063292"
      ]
     },
     "execution_count": 96,
     "metadata": {},
     "output_type": "execute_result"
    }
   ],
   "source": [
    "recoms = {}\n",
    "num_to_recom = 5\n",
    "\n",
    "reco = []\n",
    "corr = []\n",
    "\n",
    "\n",
    "for user in users_to_predict:\n",
    "    #print(user)\n",
    "    items_to_score = list(items_to_predict.difference(user_hist[user]))\n",
    "    #items_to_score = list(items_to_predict)\n",
    "    #print(len(items_to_score))\n",
    "    predict = model.predict(user, items_to_score, num_threads=-1)\n",
    "    top_recoms_id = sorted(range(len(predict)),\n",
    "                           key=lambda i: predict[i])[-num_to_recom:]\n",
    "    top_recoms_id.reverse()\n",
    "    recoms[user_decode[user]] = [item_decode[items_to_score[i]]\n",
    "                                 for i in top_recoms_id]\n",
    "    \n",
    "    reco.append(recoms[user_decode[user]])\n",
    "    corr.append(correct_1[user_decode[user]])\n",
    "\n",
    "metrics.mapk(list(recoms.values()), list(correct_1.values()), 5)"
   ]
  },
  {
   "cell_type": "markdown",
   "metadata": {},
   "source": [
    "0.009470141150922911"
   ]
  },
  {
   "cell_type": "code",
   "execution_count": 92,
   "metadata": {},
   "outputs": [],
   "source": [
    "user_hist_df = pd.read_csv('../data/raw/movies_dataset_10 months.csv')\n",
    "user_hist_df['ts'] = pd.to_datetime(user_hist_df['ts'])\n",
    "user_hist_df['month'] = user_hist_df['ts'].dt.month\n",
    "\n",
    "fav_serials = user_hist_df[(user_hist_df['episode_id'] != 0) & \n",
    "                           (user_hist_df['month'] == 5)].groupby(['user_id', 'movie_id'])['movie_id'].count()\n",
    "fav_serials = fav_serials[fav_serials>=2].reset_index(name='cnt')\n",
    "\n",
    "g = fav_serials.groupby([\"user_id\"]).apply(lambda x: x.sort_values([\"cnt\"], ascending = False)).reset_index(drop=True)\n",
    "\n",
    "user_top_5_serials = g.groupby([\"user_id\"])['movie_id'].apply(lambda x: list(x[:5])).to_dict()\n",
    "\n"
   ]
  },
  {
   "cell_type": "code",
   "execution_count": 93,
   "metadata": {},
   "outputs": [
    {
     "data": {
      "text/plain": [
       "0.00840084388185654"
      ]
     },
     "execution_count": 93,
     "metadata": {},
     "output_type": "execute_result"
    }
   ],
   "source": [
    "recoms_f = {}\n",
    "num_to_recom = 5\n",
    "for user in users_to_predict:\n",
    "    user = user_decode[user]\n",
    "    if user_top_5_serials.get(user):\n",
    "    \n",
    "        pref_serials = user_top_5_serials[user][:1]\n",
    "        num_of_serials = len(pref_serials)\n",
    "\n",
    "        if num_of_serials < 5:\n",
    "            additional = 5 - num_of_serials\n",
    "            light_fm_pred = recoms[user][:additional]\n",
    "\n",
    "            pred = pref_serials + light_fm_pred\n",
    "            \n",
    "        else:\n",
    "            pred = pref_serials\n",
    "    else:\n",
    "         pred = recoms[user]\n",
    "            \n",
    "    recoms_f[user] = pred\n",
    "\n",
    "metrics.mapk(list(recoms_f.values()), list(correct_1.values()), 5)"
   ]
  },
  {
   "cell_type": "code",
   "execution_count": 27,
   "metadata": {},
   "outputs": [],
   "source": [
    "users_to_predict = [user_encode[x] for x in list(test_2['user_id'])]"
   ]
  },
  {
   "cell_type": "code",
   "execution_count": 28,
   "metadata": {},
   "outputs": [],
   "source": [
    "recoms = {}\n",
    "num_to_recom = 5\n",
    "for user in users_to_predict:\n",
    "    #print(user)\n",
    "    items_to_score = list(items_to_predict.difference(user_hist[user]))\n",
    "    predict = model.predict(user, items_to_score, num_threads=-1)\n",
    "    top_recoms_id = sorted(range(len(predict)),\n",
    "                           key=lambda i: predict[i])[-num_to_recom:]\n",
    "    top_recoms_id.reverse()\n",
    "    recoms[user_decode[user]] = [item_decode[items_to_score[i]]\n",
    "                                 for i in top_recoms_id]"
   ]
  },
  {
   "cell_type": "code",
   "execution_count": 29,
   "metadata": {},
   "outputs": [
    {
     "data": {
      "text/plain": [
       "0.009548317046688381"
      ]
     },
     "execution_count": 29,
     "metadata": {},
     "output_type": "execute_result"
    }
   ],
   "source": [
    "metrics.mapk(list(recoms.values()), list(correct_1.values()), 5)"
   ]
  },
  {
   "cell_type": "markdown",
   "metadata": {},
   "source": [
    "on LB 0.00786\n",
    "\n",
    "after tuning 0.00619"
   ]
  }
 ],
 "metadata": {
  "kernelspec": {
   "display_name": "Python 3",
   "language": "python",
   "name": "python3"
  },
  "language_info": {
   "codemirror_mode": {
    "name": "ipython",
    "version": 3
   },
   "file_extension": ".py",
   "mimetype": "text/x-python",
   "name": "python",
   "nbconvert_exporter": "python",
   "pygments_lexer": "ipython3",
   "version": "3.7.7"
  }
 },
 "nbformat": 4,
 "nbformat_minor": 4
}
