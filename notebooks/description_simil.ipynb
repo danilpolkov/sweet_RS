{
 "cells": [
  {
   "cell_type": "code",
   "execution_count": 1,
   "metadata": {},
   "outputs": [
    {
     "data": {
      "text/plain": [
       "(19265, 16)"
      ]
     },
     "execution_count": 1,
     "metadata": {},
     "output_type": "execute_result"
    }
   ],
   "source": [
    "import pandas as pd\n",
    "\n",
    "movies_database = pd.read_csv('../data/raw/movies.csv')\n",
    "movies_database.shape"
   ]
  },
  {
   "cell_type": "code",
   "execution_count": 3,
   "metadata": {},
   "outputs": [
    {
     "data": {
      "text/html": [
       "<div>\n",
       "<style scoped>\n",
       "    .dataframe tbody tr th:only-of-type {\n",
       "        vertical-align: middle;\n",
       "    }\n",
       "\n",
       "    .dataframe tbody tr th {\n",
       "        vertical-align: top;\n",
       "    }\n",
       "\n",
       "    .dataframe thead th {\n",
       "        text-align: right;\n",
       "    }\n",
       "</style>\n",
       "<table border=\"1\" class=\"dataframe\">\n",
       "  <thead>\n",
       "    <tr style=\"text-align: right;\">\n",
       "      <th></th>\n",
       "      <th>id</th>\n",
       "      <th>year</th>\n",
       "      <th>title</th>\n",
       "      <th>description</th>\n",
       "      <th>genres</th>\n",
       "      <th>director</th>\n",
       "      <th>actors</th>\n",
       "      <th>writers</th>\n",
       "      <th>music</th>\n",
       "      <th>art</th>\n",
       "      <th>producer</th>\n",
       "      <th>imdb_id</th>\n",
       "      <th>tmdb_id</th>\n",
       "      <th>imdb_rating</th>\n",
       "      <th>tmdb_rating</th>\n",
       "      <th>available_now</th>\n",
       "    </tr>\n",
       "  </thead>\n",
       "  <tbody>\n",
       "    <tr>\n",
       "      <th>0</th>\n",
       "      <td>1</td>\n",
       "      <td>2008</td>\n",
       "      <td>The Girl from Monaco</td>\n",
       "      <td>A brilliant and neurotic attorney goes to Mona...</td>\n",
       "      <td>Comedy,Drama</td>\n",
       "      <td>Anne Fontaine</td>\n",
       "      <td>Fabrice Luchini,Helene de Saint-Pere,Jeanne Ba...</td>\n",
       "      <td>Anne Fontaine,Benoît Graffin</td>\n",
       "      <td>Philippe Rombi</td>\n",
       "      <td>NaN</td>\n",
       "      <td>Philippe Carcassonne,Bruno Pesary,Christine Ra...</td>\n",
       "      <td>tt1139800</td>\n",
       "      <td>15342.0</td>\n",
       "      <td>5.8</td>\n",
       "      <td>4.8</td>\n",
       "      <td>yes</td>\n",
       "    </tr>\n",
       "    <tr>\n",
       "      <th>1</th>\n",
       "      <td>2</td>\n",
       "      <td>2008</td>\n",
       "      <td>Every Jack has a Jill</td>\n",
       "      <td>Jack is encouraged to take the romantic Paris ...</td>\n",
       "      <td>Comedy,Melodrama</td>\n",
       "      <td>Jennifer Devoldère</td>\n",
       "      <td>Justin Lee Bartha,Billy Boyd,Maurice Bénichou,...</td>\n",
       "      <td>Jennifer Devoldère</td>\n",
       "      <td>NaN</td>\n",
       "      <td>Hervé Gallet,Alix Deschamps</td>\n",
       "      <td>Bruno Chiche,Nicolas Duval Adassovsky,Maxime R...</td>\n",
       "      <td>tt1094668</td>\n",
       "      <td>32338.0</td>\n",
       "      <td>6.1</td>\n",
       "      <td>5.4</td>\n",
       "      <td>yes</td>\n",
       "    </tr>\n",
       "    <tr>\n",
       "      <th>2</th>\n",
       "      <td>3</td>\n",
       "      <td>2009</td>\n",
       "      <td>Dorian Gray</td>\n",
       "      <td>A vain London playboy offers his soul in excha...</td>\n",
       "      <td>Thriller,Sci-Fi</td>\n",
       "      <td>Oliver Parker</td>\n",
       "      <td>Colin Firth,Nathan Rosen,Caroline Goodall,John...</td>\n",
       "      <td>Toby Finlay,Oscar Wilde</td>\n",
       "      <td>Charlie Mole</td>\n",
       "      <td>John Beard,Ruth Myers,Niamh Coulter</td>\n",
       "      <td>Barnaby Thompson,Paul Brett,Simon Fawcett</td>\n",
       "      <td>tt1235124</td>\n",
       "      <td>23488.0</td>\n",
       "      <td>6.3</td>\n",
       "      <td>5.9</td>\n",
       "      <td>yes</td>\n",
       "    </tr>\n",
       "    <tr>\n",
       "      <th>3</th>\n",
       "      <td>4</td>\n",
       "      <td>2008</td>\n",
       "      <td>How to Lose Friends &amp; Alienate People</td>\n",
       "      <td>A British writer struggles to fit in at a high...</td>\n",
       "      <td>Comedy,Drama</td>\n",
       "      <td>Robert B. Willow</td>\n",
       "      <td>Simon Pegg,Jeff Bridges,Danny Huston,Jillian A...</td>\n",
       "      <td>Peter Straughan,Toby Young</td>\n",
       "      <td>David Arnold</td>\n",
       "      <td>John Beard,Ray Chan,Anthony Gasparro</td>\n",
       "      <td>Elizabeth Karlsen,Laurie Borg,Stephen Woolley</td>\n",
       "      <td>tt0455538</td>\n",
       "      <td>13092.0</td>\n",
       "      <td>6.4</td>\n",
       "      <td>6.1</td>\n",
       "      <td>yes</td>\n",
       "    </tr>\n",
       "    <tr>\n",
       "      <th>4</th>\n",
       "      <td>5</td>\n",
       "      <td>2009</td>\n",
       "      <td>Cell 211</td>\n",
       "      <td>The story of two men on different sides of a p...</td>\n",
       "      <td>Action,Thriller</td>\n",
       "      <td>Daniel Monzon</td>\n",
       "      <td>Luis Tosar,Vicente Romero,Fernando Soto,Luis Z...</td>\n",
       "      <td>Daniel Monzon,F.P. Gandull,Jorge Guerricaechev...</td>\n",
       "      <td>Roque Baños</td>\n",
       "      <td>Antón Laguna,Montse Sancho</td>\n",
       "      <td>Álvaro Augustín,Juan Gordon,Emma Lustres</td>\n",
       "      <td>tt1242422</td>\n",
       "      <td>33273.0</td>\n",
       "      <td>7.6</td>\n",
       "      <td>7.4</td>\n",
       "      <td>yes</td>\n",
       "    </tr>\n",
       "  </tbody>\n",
       "</table>\n",
       "</div>"
      ],
      "text/plain": [
       "   id  year                                  title  \\\n",
       "0   1  2008                   The Girl from Monaco   \n",
       "1   2  2008                  Every Jack has a Jill   \n",
       "2   3  2009                            Dorian Gray   \n",
       "3   4  2008  How to Lose Friends & Alienate People   \n",
       "4   5  2009                               Cell 211   \n",
       "\n",
       "                                         description            genres  \\\n",
       "0  A brilliant and neurotic attorney goes to Mona...      Comedy,Drama   \n",
       "1  Jack is encouraged to take the romantic Paris ...  Comedy,Melodrama   \n",
       "2  A vain London playboy offers his soul in excha...   Thriller,Sci-Fi   \n",
       "3  A British writer struggles to fit in at a high...      Comedy,Drama   \n",
       "4  The story of two men on different sides of a p...   Action,Thriller   \n",
       "\n",
       "             director                                             actors  \\\n",
       "0       Anne Fontaine  Fabrice Luchini,Helene de Saint-Pere,Jeanne Ba...   \n",
       "1  Jennifer Devoldère  Justin Lee Bartha,Billy Boyd,Maurice Bénichou,...   \n",
       "2       Oliver Parker  Colin Firth,Nathan Rosen,Caroline Goodall,John...   \n",
       "3    Robert B. Willow  Simon Pegg,Jeff Bridges,Danny Huston,Jillian A...   \n",
       "4       Daniel Monzon  Luis Tosar,Vicente Romero,Fernando Soto,Luis Z...   \n",
       "\n",
       "                                             writers           music  \\\n",
       "0                       Anne Fontaine,Benoît Graffin  Philippe Rombi   \n",
       "1                                 Jennifer Devoldère             NaN   \n",
       "2                            Toby Finlay,Oscar Wilde    Charlie Mole   \n",
       "3                         Peter Straughan,Toby Young    David Arnold   \n",
       "4  Daniel Monzon,F.P. Gandull,Jorge Guerricaechev...     Roque Baños   \n",
       "\n",
       "                                    art  \\\n",
       "0                                   NaN   \n",
       "1           Hervé Gallet,Alix Deschamps   \n",
       "2   John Beard,Ruth Myers,Niamh Coulter   \n",
       "3  John Beard,Ray Chan,Anthony Gasparro   \n",
       "4            Antón Laguna,Montse Sancho   \n",
       "\n",
       "                                            producer    imdb_id  tmdb_id  \\\n",
       "0  Philippe Carcassonne,Bruno Pesary,Christine Ra...  tt1139800  15342.0   \n",
       "1  Bruno Chiche,Nicolas Duval Adassovsky,Maxime R...  tt1094668  32338.0   \n",
       "2          Barnaby Thompson,Paul Brett,Simon Fawcett  tt1235124  23488.0   \n",
       "3      Elizabeth Karlsen,Laurie Borg,Stephen Woolley  tt0455538  13092.0   \n",
       "4           Álvaro Augustín,Juan Gordon,Emma Lustres  tt1242422  33273.0   \n",
       "\n",
       "   imdb_rating  tmdb_rating available_now  \n",
       "0          5.8          4.8           yes  \n",
       "1          6.1          5.4           yes  \n",
       "2          6.3          5.9           yes  \n",
       "3          6.4          6.1           yes  \n",
       "4          7.6          7.4           yes  "
      ]
     },
     "execution_count": 3,
     "metadata": {},
     "output_type": "execute_result"
    }
   ],
   "source": [
    "movies_database.head()"
   ]
  },
  {
   "cell_type": "code",
   "execution_count": 4,
   "metadata": {},
   "outputs": [
    {
     "data": {
      "text/plain": [
       "(19265, 38411)"
      ]
     },
     "execution_count": 4,
     "metadata": {},
     "output_type": "execute_result"
    }
   ],
   "source": [
    "from sklearn.feature_extraction.text import TfidfVectorizer\n",
    "\n",
    "#Define a TF-IDF Vectorizer Object. Remove all english stop words such as 'the', 'a'\n",
    "tfidf = TfidfVectorizer(stop_words='english')\n",
    "\n",
    "#Replace NaN with an empty string\n",
    "movies_database['description'] = movies_database['description'].fillna('')\n",
    "\n",
    "#Construct the required TF-IDF matrix by fitting and transforming the data\n",
    "tfidf_matrix = tfidf.fit_transform(movies_database['description'])\n",
    "\n",
    "#Output the shape of tfidf_matrix\n",
    "tfidf_matrix.shape"
   ]
  },
  {
   "cell_type": "code",
   "execution_count": 5,
   "metadata": {},
   "outputs": [],
   "source": [
    "from sklearn.metrics.pairwise import linear_kernel\n",
    "\n",
    "# Compute the cosine similarity matrix\n",
    "cosine_sim = linear_kernel(tfidf_matrix, tfidf_matrix)"
   ]
  },
  {
   "cell_type": "code",
   "execution_count": 6,
   "metadata": {},
   "outputs": [],
   "source": [
    "indices = pd.Series(movies_database.index, index=movies_database['id']).drop_duplicates()"
   ]
  },
  {
   "cell_type": "code",
   "execution_count": 8,
   "metadata": {},
   "outputs": [],
   "source": [
    "def get_recommendations(title, cosine_sim=cosine_sim):\n",
    "    # Get the index of the movie that matches the title\n",
    "    idx = indices[title]\n",
    "\n",
    "    # Get the pairwsie similarity scores of all movies with that movie\n",
    "    sim_scores = list(enumerate(cosine_sim[idx]))\n",
    "\n",
    "    # Sort the movies based on the similarity scores\n",
    "    sim_scores = sorted(sim_scores, key=lambda x: x[1], reverse=True)\n",
    "\n",
    "    # Get the scores of the 10 most similar movies\n",
    "    sim_scores = sim_scores[1:11]\n",
    "\n",
    "    # Get the movie indices\n",
    "    movie_indices = [i[0] for i in sim_scores]\n",
    "\n",
    "    # Return the top 10 most similar movies\n",
    "    return movies_database['id'].iloc[movie_indices]"
   ]
  },
  {
   "cell_type": "code",
   "execution_count": 10,
   "metadata": {},
   "outputs": [],
   "source": [
    "recoms = get_recommendations(3)"
   ]
  },
  {
   "cell_type": "code",
   "execution_count": 13,
   "metadata": {},
   "outputs": [
    {
     "data": {
      "text/plain": [
       "15681    16212\n",
       "17789    18822\n",
       "6943      7012\n",
       "8210      8361\n",
       "18328    19721\n",
       "359        360\n",
       "3837      3874\n",
       "1946      1970\n",
       "17684    18615\n",
       "8192      8343\n",
       "Name: id, dtype: int64"
      ]
     },
     "execution_count": 13,
     "metadata": {},
     "output_type": "execute_result"
    }
   ],
   "source": [
    "recoms"
   ]
  },
  {
   "cell_type": "code",
   "execution_count": 14,
   "metadata": {},
   "outputs": [
    {
     "name": "stdout",
     "output_type": "stream",
     "text": [
      "16212\n",
      "15681    Dorian Gray\n",
      "Name: title, dtype: object\n",
      "18822\n",
      "17789    Catch and Release\n",
      "Name: title, dtype: object\n",
      "7012\n",
      "6943    24 Hours Rain\n",
      "Name: title, dtype: object\n",
      "8361\n",
      "8210    My Week with Marilyn\n",
      "Name: title, dtype: object\n",
      "19721\n",
      "18328    Penny Dreadful\n",
      "Name: title, dtype: object\n",
      "360\n",
      "359    I Don't Believe You Anymore\n",
      "Name: title, dtype: object\n",
      "3874\n",
      "3837    Where's The Head?\n",
      "Name: title, dtype: object\n",
      "1970\n",
      "1946    Beauty and the Least\n",
      "Name: title, dtype: object\n",
      "18615\n",
      "17684    Stay\n",
      "Name: title, dtype: object\n",
      "8343\n",
      "8192    Unrequited\n",
      "Name: title, dtype: object\n"
     ]
    }
   ],
   "source": [
    "for rec in recoms:\n",
    "    print(rec)\n",
    "    print(movies_database[movies_database['id'] == rec]['title'])"
   ]
  },
  {
   "cell_type": "code",
   "execution_count": null,
   "metadata": {},
   "outputs": [],
   "source": []
  }
 ],
 "metadata": {
  "kernelspec": {
   "display_name": "Python 3",
   "language": "python",
   "name": "python3"
  },
  "language_info": {
   "codemirror_mode": {
    "name": "ipython",
    "version": 3
   },
   "file_extension": ".py",
   "mimetype": "text/x-python",
   "name": "python",
   "nbconvert_exporter": "python",
   "pygments_lexer": "ipython3",
   "version": "3.7.7"
  }
 },
 "nbformat": 4,
 "nbformat_minor": 4
}
