{
 "cells": [
  {
   "cell_type": "code",
   "execution_count": 193,
   "metadata": {
    "scrolled": true
   },
   "outputs": [],
   "source": [
    "from lightfm import LightFM\n",
    "from scipy.sparse import coo_matrix\n",
    "import pandas as pd"
   ]
  },
  {
   "cell_type": "code",
   "execution_count": 194,
   "metadata": {},
   "outputs": [],
   "source": [
    "user_hist_df = pd.read_csv('../data/raw/movies_dataset_10 months.csv')\n",
    "sbmt = pd.read_csv('../data/raw/submission.csv')"
   ]
  },
  {
   "cell_type": "code",
   "execution_count": 196,
   "metadata": {},
   "outputs": [],
   "source": [
    "user_hist_df = user_hist_df[user_hist_df['episode_id'] == 0]"
   ]
  },
  {
   "cell_type": "code",
   "execution_count": 197,
   "metadata": {},
   "outputs": [],
   "source": [
    "user_hist_df['ts'] = pd.to_datetime(user_hist_df['ts'])\n",
    "user_hist_df['month'] = user_hist_df['ts'].dt.month\n",
    "user_hist_df = user_hist_df[~user_hist_df['month'].isin([6, 7])]"
   ]
  },
  {
   "cell_type": "code",
   "execution_count": 198,
   "metadata": {},
   "outputs": [],
   "source": [
    "user_hist_df['event'] = 1"
   ]
  },
  {
   "cell_type": "code",
   "execution_count": 199,
   "metadata": {},
   "outputs": [
    {
     "data": {
      "text/plain": [
       "(184263, 6)"
      ]
     },
     "execution_count": 199,
     "metadata": {},
     "output_type": "execute_result"
    }
   ],
   "source": [
    "user_hist_df.shape"
   ]
  },
  {
   "cell_type": "code",
   "execution_count": 200,
   "metadata": {},
   "outputs": [],
   "source": [
    "user_hist_df = user_hist_df.drop_duplicates(['user_id', 'movie_id', 'event'])\n",
    "train_df = user_hist_df[['user_id', 'movie_id', 'event']]"
   ]
  },
  {
   "cell_type": "code",
   "execution_count": 201,
   "metadata": {},
   "outputs": [
    {
     "data": {
      "text/plain": [
       "(184263, 6)"
      ]
     },
     "execution_count": 201,
     "metadata": {},
     "output_type": "execute_result"
    }
   ],
   "source": [
    "user_hist_df.shape"
   ]
  },
  {
   "cell_type": "code",
   "execution_count": 344,
   "metadata": {},
   "outputs": [],
   "source": [
    "params = {'learning_schedule': 'adadelta',\n",
    " 'no_components': 16,\n",
    " 'loss': 'warp-kos',\n",
    " 'num_epochs': 8,\n",
    " 'learning_rate': 0.32177834477114553}\n",
    "\n",
    "num_epochs = params.pop('num_epochs')\n",
    "model = LightFM(**params)"
   ]
  },
  {
   "cell_type": "code",
   "execution_count": 202,
   "metadata": {},
   "outputs": [],
   "source": [
    "model = LightFM(no_components = 10)"
   ]
  },
  {
   "cell_type": "code",
   "execution_count": 203,
   "metadata": {},
   "outputs": [],
   "source": [
    "user_encode = {u: i for i, u in enumerate(train_df['user_id'].unique())}\n",
    "item_encode = {u: i for i, u in enumerate(train_df['movie_id'].unique())}"
   ]
  },
  {
   "cell_type": "code",
   "execution_count": 204,
   "metadata": {},
   "outputs": [],
   "source": [
    "user_decode = {v: k for k, v in user_encode.items()}\n",
    "item_decode = {v: k for k, v in item_encode.items()}"
   ]
  },
  {
   "cell_type": "code",
   "execution_count": 205,
   "metadata": {},
   "outputs": [
    {
     "data": {
      "text/plain": [
       "(2055, 4063)"
      ]
     },
     "execution_count": 205,
     "metadata": {},
     "output_type": "execute_result"
    }
   ],
   "source": [
    "n_users, n_items = len(user_encode), len(item_encode)\n",
    "\n",
    "n_users, n_items"
   ]
  },
  {
   "cell_type": "code",
   "execution_count": 206,
   "metadata": {},
   "outputs": [
    {
     "name": "stderr",
     "output_type": "stream",
     "text": [
      "/Users/danil/Documents/github/sweet_RS/env/lib/python3.7/site-packages/ipykernel_launcher.py:1: SettingWithCopyWarning: \n",
      "A value is trying to be set on a copy of a slice from a DataFrame.\n",
      "Try using .loc[row_indexer,col_indexer] = value instead\n",
      "\n",
      "See the caveats in the documentation: https://pandas.pydata.org/pandas-docs/stable/user_guide/indexing.html#returning-a-view-versus-a-copy\n",
      "  \"\"\"Entry point for launching an IPython kernel.\n",
      "/Users/danil/Documents/github/sweet_RS/env/lib/python3.7/site-packages/ipykernel_launcher.py:3: SettingWithCopyWarning: \n",
      "A value is trying to be set on a copy of a slice from a DataFrame.\n",
      "Try using .loc[row_indexer,col_indexer] = value instead\n",
      "\n",
      "See the caveats in the documentation: https://pandas.pydata.org/pandas-docs/stable/user_guide/indexing.html#returning-a-view-versus-a-copy\n",
      "  This is separate from the ipykernel package so we can avoid doing imports until\n"
     ]
    }
   ],
   "source": [
    "train_df['user_id'] = train_df['user_id'].apply(lambda x: user_encode[x])\n",
    "\n",
    "train_df['movie_id'] = train_df['movie_id'].apply(lambda x: item_encode[x])"
   ]
  },
  {
   "cell_type": "code",
   "execution_count": 207,
   "metadata": {},
   "outputs": [],
   "source": [
    "train_coo = coo_matrix(\n",
    "    (train_df['event'], (train_df['user_id'], train_df['movie_id'])), shape=(n_users, n_items))"
   ]
  },
  {
   "cell_type": "code",
   "execution_count": 208,
   "metadata": {},
   "outputs": [
    {
     "name": "stdout",
     "output_type": "stream",
     "text": [
      "550\n"
     ]
    }
   ],
   "source": [
    "moveis_views = user_hist_df['movie_id'].value_counts()\n",
    "\n",
    "items_to_recom = moveis_views[moveis_views>100].index\n",
    "print(len(items_to_recom))"
   ]
  },
  {
   "cell_type": "code",
   "execution_count": 209,
   "metadata": {},
   "outputs": [],
   "source": [
    "users_to_predict = [user_encode[x] for x in list(sbmt['user_id'])]\n",
    "items_to_predict = [item_encode[x] for x in items_to_recom]"
   ]
  },
  {
   "cell_type": "code",
   "execution_count": 211,
   "metadata": {},
   "outputs": [
    {
     "data": {
      "text/plain": [
       "<lightfm.lightfm.LightFM at 0x125148190>"
      ]
     },
     "execution_count": 211,
     "metadata": {},
     "output_type": "execute_result"
    }
   ],
   "source": [
    "model.fit(train_coo, epochs=20)"
   ]
  },
  {
   "cell_type": "code",
   "execution_count": 212,
   "metadata": {},
   "outputs": [],
   "source": [
    "user_hist = train_df[train_df['movie_id'] != 0].groupby('user_id')['movie_id'].apply(set).to_dict()"
   ]
  },
  {
   "cell_type": "code",
   "execution_count": 213,
   "metadata": {},
   "outputs": [],
   "source": [
    "items_to_predict = set(items_to_predict)"
   ]
  },
  {
   "cell_type": "code",
   "execution_count": 215,
   "metadata": {},
   "outputs": [],
   "source": [
    "recoms = {}\n",
    "num_to_recom = 5\n",
    "for user in users_to_predict:\n",
    "    #print(user)\n",
    "    items_to_score = list(items_to_predict.difference(user_hist[user]))\n",
    "    predict = model.predict(user, items_to_score, num_threads=-1)\n",
    "    top_recoms_id = sorted(range(len(predict)),\n",
    "                           key=lambda i: predict[i])[-num_to_recom:]\n",
    "    top_recoms_id.reverse()\n",
    "    recoms[user_decode[user]] = [item_decode[items_to_score[i]]\n",
    "                                 for i in top_recoms_id]"
   ]
  },
  {
   "cell_type": "code",
   "execution_count": 357,
   "metadata": {},
   "outputs": [],
   "source": [
    "import sys\n",
    "\n",
    "PATH = '/Users/danil/Documents/github/sweet_RS/'\n",
    "sys.path.append(str(PATH))\n",
    "\n",
    "from src.utils import save_to_pickle"
   ]
  },
  {
   "cell_type": "code",
   "execution_count": 358,
   "metadata": {},
   "outputs": [],
   "source": [
    "save_to_pickle(recoms, '../data/processed/light_fm_tuned_validate.pickle')"
   ]
  },
  {
   "cell_type": "markdown",
   "metadata": {},
   "source": [
    "# validate"
   ]
  },
  {
   "cell_type": "code",
   "execution_count": 214,
   "metadata": {},
   "outputs": [],
   "source": [
    "import ml_metrics as metrics"
   ]
  },
  {
   "cell_type": "code",
   "execution_count": 216,
   "metadata": {},
   "outputs": [],
   "source": [
    "user_hist_df = pd.read_csv('../data/raw/movies_dataset_10 months.csv')\n",
    "user_hist_df = user_hist_df[user_hist_df['episode_id'] == 0]\n",
    "user_hist_df['ts'] = pd.to_datetime(user_hist_df['ts'])\n",
    "user_hist_df['month'] = user_hist_df['ts'].dt.month\n",
    "\n",
    "test_1 = user_hist_df[user_hist_df['month'] == 6]\n",
    "test_2 = user_hist_df[user_hist_df['month'] == 7]\n",
    "train = user_hist_df[~user_hist_df['month'].isin([6, 7])]"
   ]
  },
  {
   "cell_type": "code",
   "execution_count": 217,
   "metadata": {},
   "outputs": [],
   "source": [
    "correct_1 = test_1.drop_duplicates(['user_id', 'movie_id']).groupby('user_id')['movie_id'].apply(list).to_dict()\n",
    "correct_2 = test_2.drop_duplicates(['user_id', 'movie_id']).groupby('user_id')['movie_id'].apply(list).to_dict()\n"
   ]
  },
  {
   "cell_type": "code",
   "execution_count": 218,
   "metadata": {},
   "outputs": [
    {
     "name": "stderr",
     "output_type": "stream",
     "text": [
      "/Users/danil/Documents/github/sweet_RS/env/lib/python3.7/site-packages/ipykernel_launcher.py:1: SettingWithCopyWarning: \n",
      "A value is trying to be set on a copy of a slice from a DataFrame.\n",
      "Try using .loc[row_indexer,col_indexer] = value instead\n",
      "\n",
      "See the caveats in the documentation: https://pandas.pydata.org/pandas-docs/stable/user_guide/indexing.html#returning-a-view-versus-a-copy\n",
      "  \"\"\"Entry point for launching an IPython kernel.\n"
     ]
    }
   ],
   "source": [
    "train['event'] = 1"
   ]
  },
  {
   "cell_type": "code",
   "execution_count": 219,
   "metadata": {},
   "outputs": [],
   "source": [
    "train = train.drop_duplicates(['user_id', 'movie_id', 'event'])"
   ]
  },
  {
   "cell_type": "code",
   "execution_count": 220,
   "metadata": {},
   "outputs": [],
   "source": [
    "model = LightFM(item_alpha = 0.1, no_components=10)\n",
    "\n",
    "train_df = train[['user_id', 'movie_id', 'event']]"
   ]
  },
  {
   "cell_type": "code",
   "execution_count": 221,
   "metadata": {},
   "outputs": [],
   "source": [
    "user_encode = {u: i for i, u in enumerate(train['user_id'].unique())}\n",
    "item_encode = {u: i for i, u in enumerate(train['movie_id'].unique())}"
   ]
  },
  {
   "cell_type": "code",
   "execution_count": 222,
   "metadata": {},
   "outputs": [],
   "source": [
    "user_decode = {v: k for k, v in user_encode.items()}\n",
    "item_decode = {v: k for k, v in item_encode.items()}"
   ]
  },
  {
   "cell_type": "code",
   "execution_count": 223,
   "metadata": {},
   "outputs": [
    {
     "data": {
      "text/plain": [
       "(2055, 4063)"
      ]
     },
     "execution_count": 223,
     "metadata": {},
     "output_type": "execute_result"
    }
   ],
   "source": [
    "n_users, n_items = len(user_encode), len(item_encode)\n",
    "\n",
    "n_users, n_items"
   ]
  },
  {
   "cell_type": "code",
   "execution_count": 224,
   "metadata": {},
   "outputs": [],
   "source": [
    "train['user_id'] = train['user_id'].apply(lambda x: user_encode[x])\n",
    "train['movie_id'] = train['movie_id'].apply(lambda x: item_encode[x])"
   ]
  },
  {
   "cell_type": "code",
   "execution_count": 225,
   "metadata": {},
   "outputs": [],
   "source": [
    "train_coo = coo_matrix(\n",
    "    (train['event'], (train['user_id'], train['movie_id'])), shape=(n_users, n_items))"
   ]
  },
  {
   "cell_type": "code",
   "execution_count": 226,
   "metadata": {},
   "outputs": [
    {
     "name": "stdout",
     "output_type": "stream",
     "text": [
      "550\n"
     ]
    }
   ],
   "source": [
    "moveis_views = train['movie_id'].value_counts()\n",
    "\n",
    "items_to_recom = moveis_views[moveis_views>100].index\n",
    "print(len(items_to_recom))"
   ]
  },
  {
   "cell_type": "code",
   "execution_count": 227,
   "metadata": {},
   "outputs": [],
   "source": [
    "users_to_predict = [user_encode[x] for x in list(test_1['user_id'])]\n",
    "items_to_predict = set(items_to_recom.copy())"
   ]
  },
  {
   "cell_type": "code",
   "execution_count": 188,
   "metadata": {},
   "outputs": [],
   "source": [
    "model = LightFM(item_alpha = 0.2, no_components=5)"
   ]
  },
  {
   "cell_type": "code",
   "execution_count": 228,
   "metadata": {},
   "outputs": [
    {
     "data": {
      "text/plain": [
       "<lightfm.lightfm.LightFM at 0x124b327d0>"
      ]
     },
     "execution_count": 228,
     "metadata": {},
     "output_type": "execute_result"
    }
   ],
   "source": [
    "model.fit(train_coo, epochs=20)"
   ]
  },
  {
   "cell_type": "code",
   "execution_count": 165,
   "metadata": {},
   "outputs": [],
   "source": [
    "movie_features_f = movie_features.astype(np.float32)"
   ]
  },
  {
   "cell_type": "code",
   "execution_count": 170,
   "metadata": {},
   "outputs": [],
   "source": [
    "from scipy.sparse import csr_matrix"
   ]
  },
  {
   "cell_type": "code",
   "execution_count": 172,
   "metadata": {},
   "outputs": [],
   "source": [
    "movie_features_csr = csr_matrix(movie_features, dtype = np.float32)"
   ]
  },
  {
   "cell_type": "code",
   "execution_count": 189,
   "metadata": {},
   "outputs": [
    {
     "data": {
      "text/plain": [
       "<lightfm.lightfm.LightFM at 0x12252d890>"
      ]
     },
     "execution_count": 189,
     "metadata": {},
     "output_type": "execute_result"
    }
   ],
   "source": [
    "model.fit(train_coo, item_features = movie_features_csr, epochs=20)"
   ]
  },
  {
   "cell_type": "code",
   "execution_count": 174,
   "metadata": {},
   "outputs": [],
   "source": [
    "user_hist = train_df[train_df['movie_id'] != 0].groupby('user_id')['movie_id'].apply(set).to_dict()\n",
    "user_hist = {user_encode[k]: v for k, v in user_hist.items()}"
   ]
  },
  {
   "cell_type": "code",
   "execution_count": 229,
   "metadata": {},
   "outputs": [
    {
     "data": {
      "text/plain": [
       "0.0019391965255157438"
      ]
     },
     "execution_count": 229,
     "metadata": {},
     "output_type": "execute_result"
    }
   ],
   "source": [
    "recoms = {}\n",
    "num_to_recom = 5\n",
    "for user in users_to_predict:\n",
    "    #print(user)\n",
    "    items_to_score = list(items_to_predict.difference(user_hist[user]))\n",
    "    #print(len(items_to_score))\n",
    "    predict = model.predict(user, items_to_score, num_threads=-1)\n",
    "    top_recoms_id = sorted(range(len(predict)),\n",
    "                           key=lambda i: predict[i])[-num_to_recom:]\n",
    "    top_recoms_id.reverse()\n",
    "    recoms[user_decode[user]] = [item_decode[items_to_score[i]]\n",
    "                                 for i in top_recoms_id]\n",
    "\n",
    "metrics.mapk(list(recoms.values()), list(correct_1.values()), 5)"
   ]
  },
  {
   "cell_type": "code",
   "execution_count": 251,
   "metadata": {},
   "outputs": [
    {
     "data": {
      "text/plain": [
       "0.007202531645569621"
      ]
     },
     "execution_count": 251,
     "metadata": {},
     "output_type": "execute_result"
    }
   ],
   "source": [
    "recoms = {}\n",
    "num_to_recom = 5\n",
    "for user in users_to_predict:\n",
    "    #print(user)\n",
    "    items_to_score = list(items_to_predict.difference(user_hist[user]))\n",
    "    #print(len(items_to_score))\n",
    "    predict = model.predict(user, items_to_score, num_threads=-1)\n",
    "    top_recoms_id = sorted(range(len(predict)),\n",
    "                           key=lambda i: predict[i])[-num_to_recom:]\n",
    "    top_recoms_id.reverse()\n",
    "    recoms[user_decode[user]] = [item_decode[items_to_score[i]]\n",
    "                                 for i in top_recoms_id]\n",
    "\n",
    "metrics.mapk(list(recoms.values()), list(correct_1.values()), 5)"
   ]
  },
  {
   "cell_type": "code",
   "execution_count": 158,
   "metadata": {},
   "outputs": [],
   "source": [
    "users_to_predict = [user_encode[x] for x in list(test_2['user_id'])]"
   ]
  },
  {
   "cell_type": "code",
   "execution_count": 159,
   "metadata": {},
   "outputs": [],
   "source": [
    "recoms = {}\n",
    "num_to_recom = 5\n",
    "for user in users_to_predict:\n",
    "    #print(user)\n",
    "    items_to_score = list(items_to_predict.difference(user_hist[user]))\n",
    "    predict = model.predict(user, items_to_score, num_threads=-1)\n",
    "    top_recoms_id = sorted(range(len(predict)),\n",
    "                           key=lambda i: predict[i])[-num_to_recom:]\n",
    "    top_recoms_id.reverse()\n",
    "    recoms[user_decode[user]] = [item_decode[items_to_score[i]]\n",
    "                                 for i in top_recoms_id]"
   ]
  },
  {
   "cell_type": "code",
   "execution_count": 160,
   "metadata": {},
   "outputs": [
    {
     "data": {
      "text/plain": [
       "0.007573839662447258"
      ]
     },
     "execution_count": 160,
     "metadata": {},
     "output_type": "execute_result"
    }
   ],
   "source": [
    "metrics.mapk(list(recoms.values()), list(correct_1.values()), 5)"
   ]
  },
  {
   "cell_type": "markdown",
   "metadata": {},
   "source": [
    "on LB 0.00786\n",
    "\n",
    "after tuning 0.00619"
   ]
  },
  {
   "cell_type": "markdown",
   "metadata": {},
   "source": [
    "# hyperparam"
   ]
  },
  {
   "cell_type": "code",
   "execution_count": 193,
   "metadata": {},
   "outputs": [],
   "source": [
    "import optuna"
   ]
  },
  {
   "cell_type": "code",
   "execution_count": 212,
   "metadata": {},
   "outputs": [],
   "source": [
    "def validate_cv(params):\n",
    "    num_epochs = params.pop('num_epochs')\n",
    "    model = LightFM(**params)\n",
    "    model.fit(train_coo, epochs = num_epochs)\n",
    "    \n",
    "    recoms = {}\n",
    "    num_to_recom = 5\n",
    "    for user in users_to_predict:\n",
    "        #print(user)\n",
    "        items_to_score = list(items_to_predict.difference(user_hist[user]))\n",
    "        predict = model.predict(user, items_to_score, num_threads=-1)\n",
    "        top_recoms_id = sorted(range(len(predict)),\n",
    "                               key=lambda i: predict[i])[-num_to_recom:]\n",
    "        top_recoms_id.reverse()\n",
    "        recoms[user_decode[user]] = [item_decode[items_to_score[i]]\n",
    "                                     for i in top_recoms_id]\n",
    "\n",
    "    score = metrics.mapk(list(recoms.values()), list(correct_1.values()), 5)\n",
    "    return score\n",
    "\n",
    "\n",
    "def objective(trial):    \n",
    "    params = {'learning_schedule': trial.suggest_categorical('learning_schedule', [\"adagrad\", \"adadelta\"]),\n",
    "              'no_components': trial.suggest_int('no_components', 5, 30),\n",
    "              'loss': trial.suggest_categorical('loss', [\"bpr\", \"warp\", \"warp-kos\"]),\n",
    "              'num_epochs': trial.suggest_int('num_epochs', 5, 30),\n",
    "              'learning_rate': trial.suggest_uniform('learning_rate', 0.01, 0.5)}\n",
    "    \n",
    "    \n",
    "    return validate_cv(params)"
   ]
  },
  {
   "cell_type": "code",
   "execution_count": 259,
   "metadata": {},
   "outputs": [
    {
     "name": "stderr",
     "output_type": "stream",
     "text": [
      "\u001b[32m[I 2020-11-14 22:13:55,314]\u001b[0m Trial 20 finished with value: 0.006713080168776372 and parameters: {'learning_schedule': 'adadelta', 'no_components': 19, 'loss': 'warp', 'num_epochs': 13, 'learning_rate': 0.3027783986159787}. Best is trial 18 with value: 0.007588607594936708.\u001b[0m\n",
      "\u001b[32m[I 2020-11-14 22:14:13,182]\u001b[0m Trial 21 finished with value: 0.007050632911392405 and parameters: {'learning_schedule': 'adadelta', 'no_components': 25, 'loss': 'warp-kos', 'num_epochs': 20, 'learning_rate': 0.3681681528849433}. Best is trial 18 with value: 0.007588607594936708.\u001b[0m\n",
      "\u001b[32m[I 2020-11-14 22:14:32,219]\u001b[0m Trial 22 finished with value: 0.007267932489451477 and parameters: {'learning_schedule': 'adadelta', 'no_components': 28, 'loss': 'warp-kos', 'num_epochs': 21, 'learning_rate': 0.35545793662831393}. Best is trial 18 with value: 0.007588607594936708.\u001b[0m\n",
      "\u001b[32m[I 2020-11-14 22:14:48,621]\u001b[0m Trial 23 finished with value: 0.006869198312236287 and parameters: {'learning_schedule': 'adadelta', 'no_components': 26, 'loss': 'warp-kos', 'num_epochs': 17, 'learning_rate': 0.2742666171156576}. Best is trial 18 with value: 0.007588607594936708.\u001b[0m\n",
      "\u001b[32m[I 2020-11-14 22:15:10,290]\u001b[0m Trial 24 finished with value: 0.00689451476793249 and parameters: {'learning_schedule': 'adadelta', 'no_components': 29, 'loss': 'warp-kos', 'num_epochs': 25, 'learning_rate': 0.44086759178668533}. Best is trial 18 with value: 0.007588607594936708.\u001b[0m\n",
      "\u001b[32m[I 2020-11-14 22:15:26,663]\u001b[0m Trial 25 finished with value: 0.007059071729957806 and parameters: {'learning_schedule': 'adadelta', 'no_components': 24, 'loss': 'warp-kos', 'num_epochs': 18, 'learning_rate': 0.3966693791988511}. Best is trial 18 with value: 0.007588607594936708.\u001b[0m\n",
      "\u001b[32m[I 2020-11-14 22:15:40,102]\u001b[0m Trial 26 finished with value: 0.007274261603375528 and parameters: {'learning_schedule': 'adadelta', 'no_components': 19, 'loss': 'warp-kos', 'num_epochs': 14, 'learning_rate': 0.3486828870456124}. Best is trial 18 with value: 0.007588607594936708.\u001b[0m\n",
      "\u001b[32m[I 2020-11-14 22:15:58,718]\u001b[0m Trial 27 finished with value: 0.00710548523206751 and parameters: {'learning_schedule': 'adadelta', 'no_components': 26, 'loss': 'warp-kos', 'num_epochs': 21, 'learning_rate': 0.28680823353808427}. Best is trial 18 with value: 0.007588607594936708.\u001b[0m\n",
      "\u001b[32m[I 2020-11-14 22:16:15,569]\u001b[0m Trial 28 finished with value: 0.007236286919831224 and parameters: {'learning_schedule': 'adadelta', 'no_components': 28, 'loss': 'warp-kos', 'num_epochs': 17, 'learning_rate': 0.25141961361543946}. Best is trial 18 with value: 0.007588607594936708.\u001b[0m\n",
      "\u001b[32m[I 2020-11-14 22:16:29,737]\u001b[0m Trial 29 finished with value: 0.006970464135021098 and parameters: {'learning_schedule': 'adadelta', 'no_components': 15, 'loss': 'bpr', 'num_epochs': 27, 'learning_rate': 0.3826755763601245}. Best is trial 18 with value: 0.007588607594936708.\u001b[0m\n",
      "\u001b[32m[I 2020-11-14 22:16:42,864]\u001b[0m Trial 30 finished with value: 0.007120253164556962 and parameters: {'learning_schedule': 'adadelta', 'no_components': 23, 'loss': 'warp-kos', 'num_epochs': 12, 'learning_rate': 0.4895439125883594}. Best is trial 18 with value: 0.007588607594936708.\u001b[0m\n",
      "\u001b[32m[I 2020-11-14 22:16:56,471]\u001b[0m Trial 31 finished with value: 0.007048523206751055 and parameters: {'learning_schedule': 'adadelta', 'no_components': 19, 'loss': 'warp-kos', 'num_epochs': 14, 'learning_rate': 0.34179087809636366}. Best is trial 18 with value: 0.007588607594936708.\u001b[0m\n",
      "\u001b[32m[I 2020-11-14 22:17:10,389]\u001b[0m Trial 32 finished with value: 0.006751054852320676 and parameters: {'learning_schedule': 'adadelta', 'no_components': 20, 'loss': 'warp-kos', 'num_epochs': 14, 'learning_rate': 0.35502951102151886}. Best is trial 18 with value: 0.007588607594936708.\u001b[0m\n",
      "\u001b[32m[I 2020-11-14 22:17:21,495]\u001b[0m Trial 33 finished with value: 0.006651898734177215 and parameters: {'learning_schedule': 'adadelta', 'no_components': 13, 'loss': 'warp-kos', 'num_epochs': 9, 'learning_rate': 0.40822554467869937}. Best is trial 18 with value: 0.007588607594936708.\u001b[0m\n",
      "\u001b[32m[I 2020-11-14 22:17:36,559]\u001b[0m Trial 34 finished with value: 0.006786919831223628 and parameters: {'learning_schedule': 'adadelta', 'no_components': 18, 'loss': 'warp-kos', 'num_epochs': 15, 'learning_rate': 0.24786218574368907}. Best is trial 18 with value: 0.007588607594936708.\u001b[0m\n",
      "\u001b[32m[I 2020-11-14 22:17:45,101]\u001b[0m Trial 35 finished with value: 0.007006329113924049 and parameters: {'learning_schedule': 'adadelta', 'no_components': 22, 'loss': 'warp', 'num_epochs': 5, 'learning_rate': 0.43645514496035476}. Best is trial 18 with value: 0.007588607594936708.\u001b[0m\n",
      "\u001b[32m[I 2020-11-14 22:17:58,873]\u001b[0m Trial 36 finished with value: 0.0070042194092827005 and parameters: {'learning_schedule': 'adadelta', 'no_components': 23, 'loss': 'warp-kos', 'num_epochs': 13, 'learning_rate': 0.3035897709177638}. Best is trial 18 with value: 0.007588607594936708.\u001b[0m\n",
      "\u001b[32m[I 2020-11-14 22:18:10,556]\u001b[0m Trial 37 finished with value: 0.006430379746835443 and parameters: {'learning_schedule': 'adagrad', 'no_components': 25, 'loss': 'bpr', 'num_epochs': 16, 'learning_rate': 0.17947217185450218}. Best is trial 18 with value: 0.007588607594936708.\u001b[0m\n",
      "\u001b[32m[I 2020-11-14 22:18:19,194]\u001b[0m Trial 38 finished with value: 0.007257383966244726 and parameters: {'learning_schedule': 'adadelta', 'no_components': 14, 'loss': 'warp', 'num_epochs': 7, 'learning_rate': 0.3718346504119862}. Best is trial 18 with value: 0.007588607594936708.\u001b[0m\n",
      "\u001b[32m[I 2020-11-14 22:18:32,110]\u001b[0m Trial 39 finished with value: 0.006417721518987342 and parameters: {'learning_schedule': 'adagrad', 'no_components': 10, 'loss': 'warp-kos', 'num_epochs': 18, 'learning_rate': 0.33319602330540193}. Best is trial 18 with value: 0.007588607594936708.\u001b[0m\n",
      "\u001b[32m[I 2020-11-14 22:18:49,110]\u001b[0m Trial 40 finished with value: 0.007223628691983123 and parameters: {'learning_schedule': 'adadelta', 'no_components': 21, 'loss': 'warp-kos', 'num_epochs': 20, 'learning_rate': 0.46306250025229845}. Best is trial 18 with value: 0.007588607594936708.\u001b[0m\n",
      "\u001b[32m[I 2020-11-14 22:19:10,812]\u001b[0m Trial 41 finished with value: 0.00679324894514768 and parameters: {'learning_schedule': 'adadelta', 'no_components': 28, 'loss': 'warp-kos', 'num_epochs': 22, 'learning_rate': 0.3576657420825474}. Best is trial 18 with value: 0.007588607594936708.\u001b[0m\n",
      "\u001b[32m[I 2020-11-14 22:19:32,225]\u001b[0m Trial 42 finished with value: 0.006772151898734177 and parameters: {'learning_schedule': 'adadelta', 'no_components': 27, 'loss': 'warp-kos', 'num_epochs': 23, 'learning_rate': 0.3532950395935943}. Best is trial 18 with value: 0.007588607594936708.\u001b[0m\n",
      "\u001b[32m[I 2020-11-14 22:19:52,778]\u001b[0m Trial 43 finished with value: 0.00689662447257384 and parameters: {'learning_schedule': 'adadelta', 'no_components': 29, 'loss': 'warp-kos', 'num_epochs': 21, 'learning_rate': 0.41917677324737757}. Best is trial 18 with value: 0.007588607594936708.\u001b[0m\n",
      "\u001b[32m[I 2020-11-14 22:20:11,496]\u001b[0m Trial 44 finished with value: 0.0071097046413502105 and parameters: {'learning_schedule': 'adadelta', 'no_components': 25, 'loss': 'warp-kos', 'num_epochs': 19, 'learning_rate': 0.3302678849701149}. Best is trial 18 with value: 0.007588607594936708.\u001b[0m\n",
      "\u001b[32m[I 2020-11-14 22:20:25,867]\u001b[0m Trial 45 finished with value: 0.006962025316455696 and parameters: {'learning_schedule': 'adadelta', 'no_components': 27, 'loss': 'bpr', 'num_epochs': 16, 'learning_rate': 0.30072563767858496}. Best is trial 18 with value: 0.007588607594936708.\u001b[0m\n",
      "\u001b[32m[I 2020-11-14 22:20:48,667]\u001b[0m Trial 46 finished with value: 0.00659071729957806 and parameters: {'learning_schedule': 'adagrad', 'no_components': 29, 'loss': 'warp-kos', 'num_epochs': 24, 'learning_rate': 0.37550959273835155}. Best is trial 18 with value: 0.007588607594936708.\u001b[0m\n",
      "\u001b[32m[I 2020-11-14 22:21:02,894]\u001b[0m Trial 47 finished with value: 0.007122362869198312 and parameters: {'learning_schedule': 'adadelta', 'no_components': 30, 'loss': 'warp-kos', 'num_epochs': 11, 'learning_rate': 0.3244508380486595}. Best is trial 18 with value: 0.007588607594936708.\u001b[0m\n",
      "\u001b[32m[I 2020-11-14 22:21:20,142]\u001b[0m Trial 48 finished with value: 0.006801687763713081 and parameters: {'learning_schedule': 'adadelta', 'no_components': 22, 'loss': 'warp-kos', 'num_epochs': 21, 'learning_rate': 0.2752250625792937}. Best is trial 18 with value: 0.007588607594936708.\u001b[0m\n"
     ]
    },
    {
     "name": "stderr",
     "output_type": "stream",
     "text": [
      "\u001b[32m[I 2020-11-14 22:21:39,063]\u001b[0m Trial 49 finished with value: 0.007261603375527426 and parameters: {'learning_schedule': 'adadelta', 'no_components': 24, 'loss': 'warp-kos', 'num_epochs': 23, 'learning_rate': 0.22476530047205406}. Best is trial 18 with value: 0.007588607594936708.\u001b[0m\n",
      "\u001b[32m[I 2020-11-14 22:21:49,126]\u001b[0m Trial 50 finished with value: 0.006867088607594937 and parameters: {'learning_schedule': 'adadelta', 'no_components': 5, 'loss': 'warp', 'num_epochs': 20, 'learning_rate': 0.3952403717656194}. Best is trial 18 with value: 0.007588607594936708.\u001b[0m\n",
      "\u001b[32m[I 2020-11-14 22:22:07,539]\u001b[0m Trial 51 finished with value: 0.007061181434599156 and parameters: {'learning_schedule': 'adadelta', 'no_components': 24, 'loss': 'warp-kos', 'num_epochs': 22, 'learning_rate': 0.22067113771684008}. Best is trial 18 with value: 0.007588607594936708.\u001b[0m\n",
      "\u001b[32m[I 2020-11-14 22:22:25,844]\u001b[0m Trial 52 finished with value: 0.00689240506329114 and parameters: {'learning_schedule': 'adadelta', 'no_components': 20, 'loss': 'warp-kos', 'num_epochs': 24, 'learning_rate': 0.19661140722590847}. Best is trial 18 with value: 0.007588607594936708.\u001b[0m\n",
      "\u001b[32m[I 2020-11-14 22:22:48,279]\u001b[0m Trial 53 finished with value: 0.007352320675105485 and parameters: {'learning_schedule': 'adadelta', 'no_components': 24, 'loss': 'warp-kos', 'num_epochs': 30, 'learning_rate': 0.01655685542943397}. Best is trial 18 with value: 0.007588607594936708.\u001b[0m\n",
      "\u001b[32m[I 2020-11-14 22:23:11,556]\u001b[0m Trial 54 finished with value: 0.007097046413502109 and parameters: {'learning_schedule': 'adadelta', 'no_components': 27, 'loss': 'warp-kos', 'num_epochs': 29, 'learning_rate': 0.01247750306195405}. Best is trial 18 with value: 0.007588607594936708.\u001b[0m\n",
      "\u001b[32m[I 2020-11-14 22:23:34,897]\u001b[0m Trial 55 finished with value: 0.006913502109704641 and parameters: {'learning_schedule': 'adadelta', 'no_components': 26, 'loss': 'warp-kos', 'num_epochs': 30, 'learning_rate': 0.09055884774017396}. Best is trial 18 with value: 0.007588607594936708.\u001b[0m\n",
      "\u001b[32m[I 2020-11-14 22:23:48,360]\u001b[0m Trial 56 finished with value: 0.007029535864978903 and parameters: {'learning_schedule': 'adadelta', 'no_components': 28, 'loss': 'warp-kos', 'num_epochs': 11, 'learning_rate': 0.34585421789530535}. Best is trial 18 with value: 0.007588607594936708.\u001b[0m\n",
      "\u001b[32m[I 2020-11-14 22:24:02,960]\u001b[0m Trial 57 finished with value: 0.007168776371308016 and parameters: {'learning_schedule': 'adadelta', 'no_components': 25, 'loss': 'warp-kos', 'num_epochs': 14, 'learning_rate': 0.2929829406429989}. Best is trial 18 with value: 0.007588607594936708.\u001b[0m\n",
      "\u001b[32m[I 2020-11-14 22:24:21,215]\u001b[0m Trial 58 finished with value: 0.007162447257383966 and parameters: {'learning_schedule': 'adadelta', 'no_components': 17, 'loss': 'warp-kos', 'num_epochs': 26, 'learning_rate': 0.31509276260169583}. Best is trial 18 with value: 0.007588607594936708.\u001b[0m\n",
      "\u001b[32m[I 2020-11-14 22:24:31,441]\u001b[0m Trial 59 finished with value: 0.007040084388185655 and parameters: {'learning_schedule': 'adagrad', 'no_components': 23, 'loss': 'bpr', 'num_epochs': 12, 'learning_rate': 0.3830567782516777}. Best is trial 18 with value: 0.007588607594936708.\u001b[0m\n",
      "\u001b[32m[I 2020-11-14 22:24:48,184]\u001b[0m Trial 60 finished with value: 0.006991561181434599 and parameters: {'learning_schedule': 'adadelta', 'no_components': 30, 'loss': 'warp-kos', 'num_epochs': 16, 'learning_rate': 0.4131712367384148}. Best is trial 18 with value: 0.007588607594936708.\u001b[0m\n",
      "\u001b[32m[I 2020-11-14 22:25:07,255]\u001b[0m Trial 61 finished with value: 0.00709493670886076 and parameters: {'learning_schedule': 'adadelta', 'no_components': 24, 'loss': 'warp-kos', 'num_epochs': 23, 'learning_rate': 0.010278111431152115}. Best is trial 18 with value: 0.007588607594936708.\u001b[0m\n",
      "\u001b[32m[I 2020-11-14 22:25:24,104]\u001b[0m Trial 62 finished with value: 0.007259493670886076 and parameters: {'learning_schedule': 'adadelta', 'no_components': 24, 'loss': 'warp-kos', 'num_epochs': 19, 'learning_rate': 0.10709740856638923}. Best is trial 18 with value: 0.007588607594936708.\u001b[0m\n",
      "\u001b[32m[I 2020-11-14 22:25:39,908]\u001b[0m Trial 63 finished with value: 0.006924050632911394 and parameters: {'learning_schedule': 'adadelta', 'no_components': 21, 'loss': 'warp-kos', 'num_epochs': 18, 'learning_rate': 0.23614219997367702}. Best is trial 18 with value: 0.007588607594936708.\u001b[0m\n",
      "\u001b[32m[I 2020-11-14 22:25:57,946]\u001b[0m Trial 64 finished with value: 0.007113924050632912 and parameters: {'learning_schedule': 'adadelta', 'no_components': 22, 'loss': 'warp-kos', 'num_epochs': 22, 'learning_rate': 0.3692246193176898}. Best is trial 18 with value: 0.007588607594936708.\u001b[0m\n",
      "\u001b[32m[I 2020-11-14 22:26:16,011]\u001b[0m Trial 65 finished with value: 0.006968354430379747 and parameters: {'learning_schedule': 'adadelta', 'no_components': 26, 'loss': 'warp-kos', 'num_epochs': 20, 'learning_rate': 0.3108759312680105}. Best is trial 18 with value: 0.007588607594936708.\u001b[0m\n",
      "\u001b[32m[I 2020-11-14 22:26:37,777]\u001b[0m Trial 66 finished with value: 0.007147679324894515 and parameters: {'learning_schedule': 'adadelta', 'no_components': 29, 'loss': 'warp-kos', 'num_epochs': 25, 'learning_rate': 0.031520969047835495}. Best is trial 18 with value: 0.007588607594936708.\u001b[0m\n",
      "\u001b[32m[I 2020-11-14 22:26:50,758]\u001b[0m Trial 67 finished with value: 0.006873417721518987 and parameters: {'learning_schedule': 'adadelta', 'no_components': 20, 'loss': 'warp-kos', 'num_epochs': 9, 'learning_rate': 0.28325826452126446}. Best is trial 18 with value: 0.007588607594936708.\u001b[0m\n",
      "\u001b[32m[I 2020-11-14 22:27:07,695]\u001b[0m Trial 68 finished with value: 0.007073839662447257 and parameters: {'learning_schedule': 'adadelta', 'no_components': 27, 'loss': 'warp-kos', 'num_epochs': 17, 'learning_rate': 0.3366335096925707}. Best is trial 18 with value: 0.007588607594936708.\u001b[0m\n",
      "\u001b[32m[I 2020-11-14 22:27:19,999]\u001b[0m Trial 69 finished with value: 0.0070042194092827005 and parameters: {'learning_schedule': 'adadelta', 'no_components': 25, 'loss': 'warp', 'num_epochs': 15, 'learning_rate': 0.36045401170875174}. Best is trial 18 with value: 0.007588607594936708.\u001b[0m\n",
      "\u001b[32m[I 2020-11-14 22:27:34,527]\u001b[0m Trial 70 finished with value: 0.0071413502109704645 and parameters: {'learning_schedule': 'adadelta', 'no_components': 23, 'loss': 'warp-kos', 'num_epochs': 13, 'learning_rate': 0.2677921580322909}. Best is trial 18 with value: 0.007588607594936708.\u001b[0m\n",
      "\u001b[32m[I 2020-11-14 22:27:51,395]\u001b[0m Trial 71 finished with value: 0.007084388185654008 and parameters: {'learning_schedule': 'adadelta', 'no_components': 24, 'loss': 'warp-kos', 'num_epochs': 19, 'learning_rate': 0.08685565788468495}. Best is trial 18 with value: 0.007588607594936708.\u001b[0m\n",
      "\u001b[32m[I 2020-11-14 22:28:09,366]\u001b[0m Trial 72 finished with value: 0.006926160337552743 and parameters: {'learning_schedule': 'adadelta', 'no_components': 24, 'loss': 'warp-kos', 'num_epochs': 21, 'learning_rate': 0.11382820007881227}. Best is trial 18 with value: 0.007588607594936708.\u001b[0m\n",
      "\u001b[32m[I 2020-11-14 22:28:25,835]\u001b[0m Trial 73 finished with value: 0.007118143459915611 and parameters: {'learning_schedule': 'adadelta', 'no_components': 22, 'loss': 'warp-kos', 'num_epochs': 19, 'learning_rate': 0.062050610105055116}. Best is trial 18 with value: 0.007588607594936708.\u001b[0m\n",
      "\u001b[32m[I 2020-11-14 22:28:43,924]\u001b[0m Trial 74 finished with value: 0.006981012658227849 and parameters: {'learning_schedule': 'adadelta', 'no_components': 26, 'loss': 'warp-kos', 'num_epochs': 20, 'learning_rate': 0.13946828332574873}. Best is trial 18 with value: 0.007588607594936708.\u001b[0m\n",
      "\u001b[32m[I 2020-11-14 22:28:59,288]\u001b[0m Trial 75 finished with value: 0.0069135021097046405 and parameters: {'learning_schedule': 'adadelta', 'no_components': 19, 'loss': 'warp-kos', 'num_epochs': 18, 'learning_rate': 0.1604346956950291}. Best is trial 18 with value: 0.007588607594936708.\u001b[0m\n",
      "\u001b[32m[I 2020-11-14 22:29:17,764]\u001b[0m Trial 76 finished with value: 0.006645569620253164 and parameters: {'learning_schedule': 'adadelta', 'no_components': 24, 'loss': 'warp-kos', 'num_epochs': 22, 'learning_rate': 0.3914096527684381}. Best is trial 18 with value: 0.007588607594936708.\u001b[0m\n",
      "\u001b[32m[I 2020-11-14 22:29:37,919]\u001b[0m Trial 77 finished with value: 0.007141350210970465 and parameters: {'learning_schedule': 'adadelta', 'no_components': 28, 'loss': 'warp-kos', 'num_epochs': 23, 'learning_rate': 0.3496728849917903}. Best is trial 18 with value: 0.007588607594936708.\u001b[0m\n"
     ]
    },
    {
     "name": "stderr",
     "output_type": "stream",
     "text": [
      "\u001b[32m[I 2020-11-14 22:29:50,353]\u001b[0m Trial 78 finished with value: 0.006715189873417721 and parameters: {'learning_schedule': 'adadelta', 'no_components': 25, 'loss': 'warp-kos', 'num_epochs': 10, 'learning_rate': 0.2071015532819187}. Best is trial 18 with value: 0.007588607594936708.\u001b[0m\n",
      "\u001b[32m[I 2020-11-14 22:30:04,569]\u001b[0m Trial 79 finished with value: 0.0069113924050632925 and parameters: {'learning_schedule': 'adadelta', 'no_components': 26, 'loss': 'bpr', 'num_epochs': 17, 'learning_rate': 0.26124426034264914}. Best is trial 18 with value: 0.007588607594936708.\u001b[0m\n",
      "\u001b[32m[I 2020-11-14 22:30:21,443]\u001b[0m Trial 80 finished with value: 0.006845991561181435 and parameters: {'learning_schedule': 'adagrad', 'no_components': 21, 'loss': 'warp-kos', 'num_epochs': 21, 'learning_rate': 0.4303745845123337}. Best is trial 18 with value: 0.007588607594936708.\u001b[0m\n",
      "\u001b[32m[I 2020-11-14 22:30:30,095]\u001b[0m Trial 81 finished with value: 0.0074620253164556965 and parameters: {'learning_schedule': 'adadelta', 'no_components': 14, 'loss': 'warp', 'num_epochs': 7, 'learning_rate': 0.37508019814127824}. Best is trial 18 with value: 0.007588607594936708.\u001b[0m\n",
      "\u001b[32m[I 2020-11-14 22:30:37,822]\u001b[0m Trial 82 finished with value: 0.007143459915611813 and parameters: {'learning_schedule': 'adadelta', 'no_components': 8, 'loss': 'warp', 'num_epochs': 5, 'learning_rate': 0.4034595733326414}. Best is trial 18 with value: 0.007588607594936708.\u001b[0m\n",
      "\u001b[32m[I 2020-11-14 22:30:46,435]\u001b[0m Trial 83 finished with value: 0.0071877637130801685 and parameters: {'learning_schedule': 'adadelta', 'no_components': 13, 'loss': 'warp', 'num_epochs': 6, 'learning_rate': 0.3626670708565787}. Best is trial 18 with value: 0.007588607594936708.\u001b[0m\n",
      "\u001b[32m[I 2020-11-14 22:30:58,648]\u001b[0m Trial 84 finished with value: 0.007259493670886076 and parameters: {'learning_schedule': 'adadelta', 'no_components': 16, 'loss': 'warp', 'num_epochs': 20, 'learning_rate': 0.380031678231656}. Best is trial 18 with value: 0.007588607594936708.\u001b[0m\n",
      "\u001b[32m[I 2020-11-14 22:31:10,630]\u001b[0m Trial 85 finished with value: 0.006947257383966244 and parameters: {'learning_schedule': 'adadelta', 'no_components': 15, 'loss': 'warp', 'num_epochs': 20, 'learning_rate': 0.45433100442315943}. Best is trial 18 with value: 0.007588607594936708.\u001b[0m\n",
      "\u001b[32m[I 2020-11-14 22:31:21,702]\u001b[0m Trial 86 finished with value: 0.0071413502109704645 and parameters: {'learning_schedule': 'adadelta', 'no_components': 11, 'loss': 'warp', 'num_epochs': 19, 'learning_rate': 0.32732363433777695}. Best is trial 18 with value: 0.007588607594936708.\u001b[0m\n",
      "\u001b[32m[I 2020-11-14 22:31:32,308]\u001b[0m Trial 87 finished with value: 0.007457805907172996 and parameters: {'learning_schedule': 'adadelta', 'no_components': 18, 'loss': 'warp-kos', 'num_epochs': 8, 'learning_rate': 0.3510221643354474}. Best is trial 18 with value: 0.007588607594936708.\u001b[0m\n",
      "\u001b[32m[I 2020-11-14 22:31:42,425]\u001b[0m Trial 88 finished with value: 0.006856540084388185 and parameters: {'learning_schedule': 'adadelta', 'no_components': 18, 'loss': 'warp-kos', 'num_epochs': 7, 'learning_rate': 0.34261145284930605}. Best is trial 18 with value: 0.007588607594936708.\u001b[0m\n",
      "\u001b[32m[I 2020-11-14 22:31:53,256]\u001b[0m Trial 89 finished with value: 0.007417721518987341 and parameters: {'learning_schedule': 'adadelta', 'no_components': 16, 'loss': 'warp-kos', 'num_epochs': 9, 'learning_rate': 0.3211758481015216}. Best is trial 18 with value: 0.007588607594936708.\u001b[0m\n",
      "\u001b[32m[I 2020-11-14 22:32:03,591]\u001b[0m Trial 90 finished with value: 0.007824894514767932 and parameters: {'learning_schedule': 'adadelta', 'no_components': 16, 'loss': 'warp-kos', 'num_epochs': 8, 'learning_rate': 0.32177834477114553}. Best is trial 90 with value: 0.007824894514767932.\u001b[0m\n",
      "\u001b[32m[I 2020-11-14 22:32:13,983]\u001b[0m Trial 91 finished with value: 0.006959915611814345 and parameters: {'learning_schedule': 'adadelta', 'no_components': 16, 'loss': 'warp-kos', 'num_epochs': 8, 'learning_rate': 0.3207192571049577}. Best is trial 90 with value: 0.007824894514767932.\u001b[0m\n",
      "\u001b[32m[I 2020-11-14 22:32:24,422]\u001b[0m Trial 92 finished with value: 0.006949367088607595 and parameters: {'learning_schedule': 'adadelta', 'no_components': 15, 'loss': 'warp-kos', 'num_epochs': 8, 'learning_rate': 0.3053910247149746}. Best is trial 90 with value: 0.007824894514767932.\u001b[0m\n",
      "\u001b[32m[I 2020-11-14 22:32:34,898]\u001b[0m Trial 93 finished with value: 0.00740506329113924 and parameters: {'learning_schedule': 'adadelta', 'no_components': 14, 'loss': 'warp-kos', 'num_epochs': 6, 'learning_rate': 0.3378340194929095}. Best is trial 90 with value: 0.007824894514767932.\u001b[0m\n",
      "\u001b[32m[I 2020-11-14 22:32:44,683]\u001b[0m Trial 94 finished with value: 0.007476793248945147 and parameters: {'learning_schedule': 'adadelta', 'no_components': 14, 'loss': 'warp-kos', 'num_epochs': 6, 'learning_rate': 0.2935783707452424}. Best is trial 90 with value: 0.007824894514767932.\u001b[0m\n",
      "\u001b[32m[I 2020-11-14 22:32:54,161]\u001b[0m Trial 95 finished with value: 0.006949367088607595 and parameters: {'learning_schedule': 'adadelta', 'no_components': 14, 'loss': 'warp-kos', 'num_epochs': 6, 'learning_rate': 0.28874597840098537}. Best is trial 90 with value: 0.007824894514767932.\u001b[0m\n",
      "\u001b[32m[I 2020-11-14 22:33:03,456]\u001b[0m Trial 96 finished with value: 0.007042194092827003 and parameters: {'learning_schedule': 'adadelta', 'no_components': 13, 'loss': 'warp-kos', 'num_epochs': 6, 'learning_rate': 0.3157672278888527}. Best is trial 90 with value: 0.007824894514767932.\u001b[0m\n",
      "\u001b[32m[I 2020-11-14 22:33:14,078]\u001b[0m Trial 97 finished with value: 0.006626582278481012 and parameters: {'learning_schedule': 'adadelta', 'no_components': 14, 'loss': 'warp-kos', 'num_epochs': 9, 'learning_rate': 0.29786854663982454}. Best is trial 90 with value: 0.007824894514767932.\u001b[0m\n",
      "\u001b[32m[I 2020-11-14 22:33:24,127]\u001b[0m Trial 98 finished with value: 0.007037974683544304 and parameters: {'learning_schedule': 'adadelta', 'no_components': 17, 'loss': 'warp-kos', 'num_epochs': 7, 'learning_rate': 0.334861847086083}. Best is trial 90 with value: 0.007824894514767932.\u001b[0m\n",
      "\u001b[32m[I 2020-11-14 22:33:34,863]\u001b[0m Trial 99 finished with value: 0.007126582278481013 and parameters: {'learning_schedule': 'adadelta', 'no_components': 12, 'loss': 'warp-kos', 'num_epochs': 10, 'learning_rate': 0.3215756885698523}. Best is trial 90 with value: 0.007824894514767932.\u001b[0m\n",
      "\u001b[32m[I 2020-11-14 22:33:43,049]\u001b[0m Trial 100 finished with value: 0.007044303797468355 and parameters: {'learning_schedule': 'adadelta', 'no_components': 16, 'loss': 'warp', 'num_epochs': 5, 'learning_rate': 0.36864389286069704}. Best is trial 90 with value: 0.007824894514767932.\u001b[0m\n",
      "\u001b[32m[I 2020-11-14 22:33:54,156]\u001b[0m Trial 101 finished with value: 0.00689873417721519 and parameters: {'learning_schedule': 'adadelta', 'no_components': 15, 'loss': 'warp-kos', 'num_epochs': 8, 'learning_rate': 0.34149793753981683}. Best is trial 90 with value: 0.007824894514767932.\u001b[0m\n",
      "\u001b[32m[I 2020-11-14 22:34:04,297]\u001b[0m Trial 102 finished with value: 0.007244725738396625 and parameters: {'learning_schedule': 'adadelta', 'no_components': 18, 'loss': 'warp-kos', 'num_epochs': 7, 'learning_rate': 0.361895547341746}. Best is trial 90 with value: 0.007824894514767932.\u001b[0m\n",
      "\u001b[32m[I 2020-11-14 22:34:13,655]\u001b[0m Trial 103 finished with value: 0.00710126582278481 and parameters: {'learning_schedule': 'adadelta', 'no_components': 14, 'loss': 'warp-kos', 'num_epochs': 6, 'learning_rate': 0.3493052838203242}. Best is trial 90 with value: 0.007824894514767932.\u001b[0m\n",
      "\u001b[32m[I 2020-11-14 22:34:24,370]\u001b[0m Trial 104 finished with value: 0.007204641350210972 and parameters: {'learning_schedule': 'adadelta', 'no_components': 16, 'loss': 'warp-kos', 'num_epochs': 9, 'learning_rate': 0.3075766881099709}. Best is trial 90 with value: 0.007824894514767932.\u001b[0m\n",
      "\u001b[32m[I 2020-11-14 22:34:36,541]\u001b[0m Trial 105 finished with value: 0.007470464135021096 and parameters: {'learning_schedule': 'adadelta', 'no_components': 17, 'loss': 'warp-kos', 'num_epochs': 12, 'learning_rate': 0.28329481643353294}. Best is trial 90 with value: 0.007824894514767932.\u001b[0m\n",
      "\u001b[32m[I 2020-11-14 22:34:48,685]\u001b[0m Trial 106 finished with value: 0.007116033755274261 and parameters: {'learning_schedule': 'adadelta', 'no_components': 17, 'loss': 'warp-kos', 'num_epochs': 12, 'learning_rate': 0.2758011785230638}. Best is trial 90 with value: 0.007824894514767932.\u001b[0m\n"
     ]
    },
    {
     "name": "stderr",
     "output_type": "stream",
     "text": [
      "\u001b[32m[I 2020-11-14 22:34:58,156]\u001b[0m Trial 107 finished with value: 0.006972573839662447 and parameters: {'learning_schedule': 'adadelta', 'no_components': 12, 'loss': 'warp-kos', 'num_epochs': 7, 'learning_rate': 0.25483377068292384}. Best is trial 90 with value: 0.007824894514767932.\u001b[0m\n",
      "\u001b[32m[I 2020-11-14 22:35:06,946]\u001b[0m Trial 108 finished with value: 0.007236286919831224 and parameters: {'learning_schedule': 'adadelta', 'no_components': 13, 'loss': 'bpr', 'num_epochs': 8, 'learning_rate': 0.28378460442606446}. Best is trial 90 with value: 0.007824894514767932.\u001b[0m\n",
      "\u001b[32m[I 2020-11-14 22:35:17,688]\u001b[0m Trial 109 finished with value: 0.006780590717299578 and parameters: {'learning_schedule': 'adagrad', 'no_components': 15, 'loss': 'warp-kos', 'num_epochs': 10, 'learning_rate': 0.38844235154959333}. Best is trial 90 with value: 0.007824894514767932.\u001b[0m\n",
      "\u001b[32m[I 2020-11-14 22:35:26,606]\u001b[0m Trial 110 finished with value: 0.006999999999999999 and parameters: {'learning_schedule': 'adadelta', 'no_components': 14, 'loss': 'warp-kos', 'num_epochs': 5, 'learning_rate': 0.33155801775869115}. Best is trial 90 with value: 0.007824894514767932.\u001b[0m\n",
      "\u001b[32m[I 2020-11-14 22:35:38,590]\u001b[0m Trial 111 finished with value: 0.007242616033755273 and parameters: {'learning_schedule': 'adadelta', 'no_components': 19, 'loss': 'warp-kos', 'num_epochs': 11, 'learning_rate': 0.24180203138377832}. Best is trial 90 with value: 0.007824894514767932.\u001b[0m\n",
      "\u001b[32m[I 2020-11-14 22:35:48,382]\u001b[0m Trial 112 finished with value: 0.006571729957805908 and parameters: {'learning_schedule': 'adadelta', 'no_components': 18, 'loss': 'warp-kos', 'num_epochs': 6, 'learning_rate': 0.29591700884663497}. Best is trial 90 with value: 0.007824894514767932.\u001b[0m\n",
      "\u001b[32m[I 2020-11-14 22:35:59,220]\u001b[0m Trial 113 finished with value: 0.006839662447257384 and parameters: {'learning_schedule': 'adadelta', 'no_components': 17, 'loss': 'warp-kos', 'num_epochs': 9, 'learning_rate': 0.37421901775785726}. Best is trial 90 with value: 0.007824894514767932.\u001b[0m\n",
      "\u001b[32m[I 2020-11-14 22:36:11,593]\u001b[0m Trial 114 finished with value: 0.0073776371308016874 and parameters: {'learning_schedule': 'adadelta', 'no_components': 16, 'loss': 'warp-kos', 'num_epochs': 13, 'learning_rate': 0.3241033013871579}. Best is trial 90 with value: 0.007824894514767932.\u001b[0m\n",
      "\u001b[32m[I 2020-11-14 22:36:23,111]\u001b[0m Trial 115 finished with value: 0.007040084388185654 and parameters: {'learning_schedule': 'adadelta', 'no_components': 16, 'loss': 'warp-kos', 'num_epochs': 11, 'learning_rate': 0.31318425385826015}. Best is trial 90 with value: 0.007824894514767932.\u001b[0m\n",
      "\u001b[32m[I 2020-11-14 22:36:35,018]\u001b[0m Trial 116 finished with value: 0.006780590717299578 and parameters: {'learning_schedule': 'adadelta', 'no_components': 15, 'loss': 'warp-kos', 'num_epochs': 12, 'learning_rate': 0.35213635381079905}. Best is trial 90 with value: 0.007824894514767932.\u001b[0m\n",
      "\u001b[32m[I 2020-11-14 22:36:46,855]\u001b[0m Trial 117 finished with value: 0.007040084388185654 and parameters: {'learning_schedule': 'adadelta', 'no_components': 12, 'loss': 'warp-kos', 'num_epochs': 13, 'learning_rate': 0.33810735442403617}. Best is trial 90 with value: 0.007824894514767932.\u001b[0m\n",
      "\u001b[32m[I 2020-11-14 22:36:58,252]\u001b[0m Trial 118 finished with value: 0.006987341772151899 and parameters: {'learning_schedule': 'adadelta', 'no_components': 17, 'loss': 'warp-kos', 'num_epochs': 10, 'learning_rate': 0.32554619152111947}. Best is trial 90 with value: 0.007824894514767932.\u001b[0m\n",
      "\u001b[32m[I 2020-11-14 22:37:08,252]\u001b[0m Trial 119 finished with value: 0.006991561181434599 and parameters: {'learning_schedule': 'adadelta', 'no_components': 16, 'loss': 'warp-kos', 'num_epochs': 7, 'learning_rate': 0.30398211526851415}. Best is trial 90 with value: 0.007824894514767932.\u001b[0m\n"
     ]
    }
   ],
   "source": [
    "#study_1 = optuna.create_study(direction=\"maximize\")\n",
    "# study = joblib.load('../optuna_checkpoints/study.pkl')\n",
    "study_1.optimize(objective, n_trials=100)"
   ]
  },
  {
   "cell_type": "code",
   "execution_count": 260,
   "metadata": {},
   "outputs": [
    {
     "name": "stdout",
     "output_type": "stream",
     "text": [
      "Number of finished trials: 120\n",
      "Best trial:\n",
      "  Value: 0.007824894514767932\n",
      "  Params: \n",
      "    learning_schedule: adadelta\n",
      "    no_components: 16\n",
      "    loss: warp-kos\n",
      "    num_epochs: 8\n",
      "    learning_rate: 0.32177834477114553\n"
     ]
    }
   ],
   "source": [
    "print(\"Number of finished trials: {}\".format(len(study_1.trials)))\n",
    "print(\"Best trial:\")\n",
    "trial = study_1.best_trial\n",
    "print(\"  Value: {}\".format(trial.value))\n",
    "print(\"  Params: \")\n",
    "for key, value in trial.params.items():\n",
    "    print(\"    {}: {}\".format(key, value))"
   ]
  },
  {
   "cell_type": "code",
   "execution_count": 261,
   "metadata": {
    "collapsed": true
   },
   "outputs": [
    {
     "ename": "KeyError",
     "evalue": "1816",
     "output_type": "error",
     "traceback": [
      "\u001b[0;31m---------------------------------------------------------------------------\u001b[0m",
      "\u001b[0;31mKeyError\u001b[0m                                  Traceback (most recent call last)",
      "\u001b[0;32m<ipython-input-261-45dead3488c9>\u001b[0m in \u001b[0;36m<module>\u001b[0;34m\u001b[0m\n\u001b[1;32m      1\u001b[0m \u001b[0musers_to_predict\u001b[0m \u001b[0;34m=\u001b[0m \u001b[0;34m[\u001b[0m\u001b[0muser_encode\u001b[0m\u001b[0;34m[\u001b[0m\u001b[0mx\u001b[0m\u001b[0;34m]\u001b[0m \u001b[0;32mfor\u001b[0m \u001b[0mx\u001b[0m \u001b[0;32min\u001b[0m \u001b[0mlist\u001b[0m\u001b[0;34m(\u001b[0m\u001b[0msbmt\u001b[0m\u001b[0;34m[\u001b[0m\u001b[0;34m'user_id'\u001b[0m\u001b[0;34m]\u001b[0m\u001b[0;34m)\u001b[0m\u001b[0;34m]\u001b[0m\u001b[0;34m\u001b[0m\u001b[0;34m\u001b[0m\u001b[0m\n\u001b[0;32m----> 2\u001b[0;31m \u001b[0mitems_to_predict\u001b[0m \u001b[0;34m=\u001b[0m \u001b[0;34m[\u001b[0m\u001b[0mitem_encode\u001b[0m\u001b[0;34m[\u001b[0m\u001b[0mx\u001b[0m\u001b[0;34m]\u001b[0m \u001b[0;32mfor\u001b[0m \u001b[0mx\u001b[0m \u001b[0;32min\u001b[0m \u001b[0mitems_to_recom\u001b[0m\u001b[0;34m]\u001b[0m\u001b[0;34m\u001b[0m\u001b[0;34m\u001b[0m\u001b[0m\n\u001b[0m",
      "\u001b[0;32m<ipython-input-261-45dead3488c9>\u001b[0m in \u001b[0;36m<listcomp>\u001b[0;34m(.0)\u001b[0m\n\u001b[1;32m      1\u001b[0m \u001b[0musers_to_predict\u001b[0m \u001b[0;34m=\u001b[0m \u001b[0;34m[\u001b[0m\u001b[0muser_encode\u001b[0m\u001b[0;34m[\u001b[0m\u001b[0mx\u001b[0m\u001b[0;34m]\u001b[0m \u001b[0;32mfor\u001b[0m \u001b[0mx\u001b[0m \u001b[0;32min\u001b[0m \u001b[0mlist\u001b[0m\u001b[0;34m(\u001b[0m\u001b[0msbmt\u001b[0m\u001b[0;34m[\u001b[0m\u001b[0;34m'user_id'\u001b[0m\u001b[0;34m]\u001b[0m\u001b[0;34m)\u001b[0m\u001b[0;34m]\u001b[0m\u001b[0;34m\u001b[0m\u001b[0;34m\u001b[0m\u001b[0m\n\u001b[0;32m----> 2\u001b[0;31m \u001b[0mitems_to_predict\u001b[0m \u001b[0;34m=\u001b[0m \u001b[0;34m[\u001b[0m\u001b[0mitem_encode\u001b[0m\u001b[0;34m[\u001b[0m\u001b[0mx\u001b[0m\u001b[0;34m]\u001b[0m \u001b[0;32mfor\u001b[0m \u001b[0mx\u001b[0m \u001b[0;32min\u001b[0m \u001b[0mitems_to_recom\u001b[0m\u001b[0;34m]\u001b[0m\u001b[0;34m\u001b[0m\u001b[0;34m\u001b[0m\u001b[0m\n\u001b[0m",
      "\u001b[0;31mKeyError\u001b[0m: 1816"
     ]
    }
   ],
   "source": [
    "users_to_predict = [user_encode[x] for x in list(sbmt['user_id'])]\n",
    "items_to_predict = [item_encode[x] for x in items_to_recom]"
   ]
  },
  {
   "cell_type": "code",
   "execution_count": 91,
   "metadata": {},
   "outputs": [
    {
     "data": {
      "text/plain": [
       "<lightfm.lightfm.LightFM at 0x11d89f1d0>"
      ]
     },
     "execution_count": 91,
     "metadata": {},
     "output_type": "execute_result"
    }
   ],
   "source": [
    "model.fit(train_coo, epochs=20)"
   ]
  },
  {
   "cell_type": "code",
   "execution_count": 143,
   "metadata": {},
   "outputs": [],
   "source": [
    "user_hist = train_df[train_df['movie_id'] != 0].groupby('user_id')['movie_id'].apply(set).to_dict()"
   ]
  },
  {
   "cell_type": "code",
   "execution_count": 93,
   "metadata": {},
   "outputs": [],
   "source": [
    "items_to_predict = set(items_to_predict)"
   ]
  },
  {
   "cell_type": "code",
   "execution_count": 94,
   "metadata": {},
   "outputs": [],
   "source": [
    "recoms = {}\n",
    "num_to_recom = 5\n",
    "for user in users_to_predict:\n",
    "    #print(user)\n",
    "    items_to_score = list(items_to_predict.difference(user_hist[user]))\n",
    "    predict = model.predict(user, items_to_score, num_threads=-1)\n",
    "    top_recoms_id = sorted(range(len(predict)),\n",
    "                           key=lambda i: predict[i])[-num_to_recom:]\n",
    "    top_recoms_id.reverse()\n",
    "    recoms[user_decode[user]] = [item_decode[items_to_score[i]]\n",
    "                                 for i in top_recoms_id]"
   ]
  },
  {
   "cell_type": "code",
   "execution_count": 96,
   "metadata": {},
   "outputs": [],
   "source": [
    "import sys\n",
    "\n",
    "PATH = '/Users/danil/Documents/github/sweet_RS/'\n",
    "sys.path.append(str(PATH))"
   ]
  },
  {
   "cell_type": "code",
   "execution_count": 98,
   "metadata": {},
   "outputs": [],
   "source": [
    "from src.utils import save_to_pickle"
   ]
  },
  {
   "cell_type": "code",
   "execution_count": 99,
   "metadata": {},
   "outputs": [],
   "source": [
    "save_to_pickle(recoms, '../data/processed/light_fm.pickle')"
   ]
  },
  {
   "cell_type": "markdown",
   "metadata": {},
   "source": [
    "# add movie features"
   ]
  },
  {
   "cell_type": "code",
   "execution_count": null,
   "metadata": {},
   "outputs": [],
   "source": [
    "from sklearn.preprocessing import MultiLabelBinarizer\n",
    "import numpy as np"
   ]
  },
  {
   "cell_type": "code",
   "execution_count": 92,
   "metadata": {
    "collapsed": true
   },
   "outputs": [
    {
     "data": {
      "text/html": [
       "<div>\n",
       "<style scoped>\n",
       "    .dataframe tbody tr th:only-of-type {\n",
       "        vertical-align: middle;\n",
       "    }\n",
       "\n",
       "    .dataframe tbody tr th {\n",
       "        vertical-align: top;\n",
       "    }\n",
       "\n",
       "    .dataframe thead th {\n",
       "        text-align: right;\n",
       "    }\n",
       "</style>\n",
       "<table border=\"1\" class=\"dataframe\">\n",
       "  <thead>\n",
       "    <tr style=\"text-align: right;\">\n",
       "      <th></th>\n",
       "      <th>id</th>\n",
       "      <th>year</th>\n",
       "      <th>title</th>\n",
       "      <th>description</th>\n",
       "      <th>genres</th>\n",
       "      <th>director</th>\n",
       "      <th>actors</th>\n",
       "      <th>writers</th>\n",
       "      <th>music</th>\n",
       "      <th>art</th>\n",
       "      <th>producer</th>\n",
       "      <th>imdb_id</th>\n",
       "      <th>tmdb_id</th>\n",
       "      <th>imdb_rating</th>\n",
       "      <th>tmdb_rating</th>\n",
       "      <th>available_now</th>\n",
       "    </tr>\n",
       "  </thead>\n",
       "  <tbody>\n",
       "    <tr>\n",
       "      <th>0</th>\n",
       "      <td>1</td>\n",
       "      <td>2008</td>\n",
       "      <td>The Girl from Monaco</td>\n",
       "      <td>A brilliant and neurotic attorney goes to Mona...</td>\n",
       "      <td>Comedy,Drama</td>\n",
       "      <td>Anne Fontaine</td>\n",
       "      <td>Fabrice Luchini,Helene de Saint-Pere,Jeanne Ba...</td>\n",
       "      <td>Anne Fontaine,Benoît Graffin</td>\n",
       "      <td>Philippe Rombi</td>\n",
       "      <td>NaN</td>\n",
       "      <td>Philippe Carcassonne,Bruno Pesary,Christine Ra...</td>\n",
       "      <td>tt1139800</td>\n",
       "      <td>15342.0</td>\n",
       "      <td>5.8</td>\n",
       "      <td>4.8</td>\n",
       "      <td>yes</td>\n",
       "    </tr>\n",
       "    <tr>\n",
       "      <th>1</th>\n",
       "      <td>2</td>\n",
       "      <td>2008</td>\n",
       "      <td>Every Jack has a Jill</td>\n",
       "      <td>Jack is encouraged to take the romantic Paris ...</td>\n",
       "      <td>Comedy,Melodrama</td>\n",
       "      <td>Jennifer Devoldère</td>\n",
       "      <td>Justin Lee Bartha,Billy Boyd,Maurice Bénichou,...</td>\n",
       "      <td>Jennifer Devoldère</td>\n",
       "      <td>NaN</td>\n",
       "      <td>Hervé Gallet,Alix Deschamps</td>\n",
       "      <td>Bruno Chiche,Nicolas Duval Adassovsky,Maxime R...</td>\n",
       "      <td>tt1094668</td>\n",
       "      <td>32338.0</td>\n",
       "      <td>6.1</td>\n",
       "      <td>5.4</td>\n",
       "      <td>yes</td>\n",
       "    </tr>\n",
       "    <tr>\n",
       "      <th>2</th>\n",
       "      <td>3</td>\n",
       "      <td>2009</td>\n",
       "      <td>Dorian Gray</td>\n",
       "      <td>A vain London playboy offers his soul in excha...</td>\n",
       "      <td>Thriller,Sci-Fi</td>\n",
       "      <td>Oliver Parker</td>\n",
       "      <td>Colin Firth,Nathan Rosen,Caroline Goodall,John...</td>\n",
       "      <td>Toby Finlay,Oscar Wilde</td>\n",
       "      <td>Charlie Mole</td>\n",
       "      <td>John Beard,Ruth Myers,Niamh Coulter</td>\n",
       "      <td>Barnaby Thompson,Paul Brett,Simon Fawcett</td>\n",
       "      <td>tt1235124</td>\n",
       "      <td>23488.0</td>\n",
       "      <td>6.3</td>\n",
       "      <td>5.9</td>\n",
       "      <td>yes</td>\n",
       "    </tr>\n",
       "    <tr>\n",
       "      <th>3</th>\n",
       "      <td>4</td>\n",
       "      <td>2008</td>\n",
       "      <td>How to Lose Friends &amp; Alienate People</td>\n",
       "      <td>A British writer struggles to fit in at a high...</td>\n",
       "      <td>Comedy,Drama</td>\n",
       "      <td>Robert B. Willow</td>\n",
       "      <td>Simon Pegg,Jeff Bridges,Danny Huston,Jillian A...</td>\n",
       "      <td>Peter Straughan,Toby Young</td>\n",
       "      <td>David Arnold</td>\n",
       "      <td>John Beard,Ray Chan,Anthony Gasparro</td>\n",
       "      <td>Elizabeth Karlsen,Laurie Borg,Stephen Woolley</td>\n",
       "      <td>tt0455538</td>\n",
       "      <td>13092.0</td>\n",
       "      <td>6.4</td>\n",
       "      <td>6.1</td>\n",
       "      <td>yes</td>\n",
       "    </tr>\n",
       "    <tr>\n",
       "      <th>4</th>\n",
       "      <td>5</td>\n",
       "      <td>2009</td>\n",
       "      <td>Cell 211</td>\n",
       "      <td>The story of two men on different sides of a p...</td>\n",
       "      <td>Action,Thriller</td>\n",
       "      <td>Daniel Monzon</td>\n",
       "      <td>Luis Tosar,Vicente Romero,Fernando Soto,Luis Z...</td>\n",
       "      <td>Daniel Monzon,F.P. Gandull,Jorge Guerricaechev...</td>\n",
       "      <td>Roque Baños</td>\n",
       "      <td>Antón Laguna,Montse Sancho</td>\n",
       "      <td>Álvaro Augustín,Juan Gordon,Emma Lustres</td>\n",
       "      <td>tt1242422</td>\n",
       "      <td>33273.0</td>\n",
       "      <td>7.6</td>\n",
       "      <td>7.4</td>\n",
       "      <td>yes</td>\n",
       "    </tr>\n",
       "  </tbody>\n",
       "</table>\n",
       "</div>"
      ],
      "text/plain": [
       "   id  year                                  title  \\\n",
       "0   1  2008                   The Girl from Monaco   \n",
       "1   2  2008                  Every Jack has a Jill   \n",
       "2   3  2009                            Dorian Gray   \n",
       "3   4  2008  How to Lose Friends & Alienate People   \n",
       "4   5  2009                               Cell 211   \n",
       "\n",
       "                                         description            genres  \\\n",
       "0  A brilliant and neurotic attorney goes to Mona...      Comedy,Drama   \n",
       "1  Jack is encouraged to take the romantic Paris ...  Comedy,Melodrama   \n",
       "2  A vain London playboy offers his soul in excha...   Thriller,Sci-Fi   \n",
       "3  A British writer struggles to fit in at a high...      Comedy,Drama   \n",
       "4  The story of two men on different sides of a p...   Action,Thriller   \n",
       "\n",
       "             director                                             actors  \\\n",
       "0       Anne Fontaine  Fabrice Luchini,Helene de Saint-Pere,Jeanne Ba...   \n",
       "1  Jennifer Devoldère  Justin Lee Bartha,Billy Boyd,Maurice Bénichou,...   \n",
       "2       Oliver Parker  Colin Firth,Nathan Rosen,Caroline Goodall,John...   \n",
       "3    Robert B. Willow  Simon Pegg,Jeff Bridges,Danny Huston,Jillian A...   \n",
       "4       Daniel Monzon  Luis Tosar,Vicente Romero,Fernando Soto,Luis Z...   \n",
       "\n",
       "                                             writers           music  \\\n",
       "0                       Anne Fontaine,Benoît Graffin  Philippe Rombi   \n",
       "1                                 Jennifer Devoldère             NaN   \n",
       "2                            Toby Finlay,Oscar Wilde    Charlie Mole   \n",
       "3                         Peter Straughan,Toby Young    David Arnold   \n",
       "4  Daniel Monzon,F.P. Gandull,Jorge Guerricaechev...     Roque Baños   \n",
       "\n",
       "                                    art  \\\n",
       "0                                   NaN   \n",
       "1           Hervé Gallet,Alix Deschamps   \n",
       "2   John Beard,Ruth Myers,Niamh Coulter   \n",
       "3  John Beard,Ray Chan,Anthony Gasparro   \n",
       "4            Antón Laguna,Montse Sancho   \n",
       "\n",
       "                                            producer    imdb_id  tmdb_id  \\\n",
       "0  Philippe Carcassonne,Bruno Pesary,Christine Ra...  tt1139800  15342.0   \n",
       "1  Bruno Chiche,Nicolas Duval Adassovsky,Maxime R...  tt1094668  32338.0   \n",
       "2          Barnaby Thompson,Paul Brett,Simon Fawcett  tt1235124  23488.0   \n",
       "3      Elizabeth Karlsen,Laurie Borg,Stephen Woolley  tt0455538  13092.0   \n",
       "4           Álvaro Augustín,Juan Gordon,Emma Lustres  tt1242422  33273.0   \n",
       "\n",
       "   imdb_rating  tmdb_rating available_now  \n",
       "0          5.8          4.8           yes  \n",
       "1          6.1          5.4           yes  \n",
       "2          6.3          5.9           yes  \n",
       "3          6.4          6.1           yes  \n",
       "4          7.6          7.4           yes  "
      ]
     },
     "execution_count": 92,
     "metadata": {},
     "output_type": "execute_result"
    }
   ],
   "source": [
    "movies_database = pd.read_csv('../data/raw/movies.csv')\n",
    "movies_database.head()"
   ]
  },
  {
   "cell_type": "code",
   "execution_count": 94,
   "metadata": {},
   "outputs": [
    {
     "data": {
      "text/plain": [
       "(4298, 16)"
      ]
     },
     "execution_count": 94,
     "metadata": {},
     "output_type": "execute_result"
    }
   ],
   "source": [
    "movies_database = movies_database[movies_database['id'].isin(train_df['movie_id'].unique())]\n",
    "item_features = movies_database[['id', 'year', 'genres', 'imdb_rating', 'tmdb_rating']]\n",
    "item_features.shape"
   ]
  },
  {
   "cell_type": "code",
   "execution_count": 96,
   "metadata": {},
   "outputs": [
    {
     "name": "stderr",
     "output_type": "stream",
     "text": [
      "/Users/danil/Documents/github/sweet_RS/env/lib/python3.7/site-packages/ipykernel_launcher.py:10: SettingWithCopyWarning: \n",
      "A value is trying to be set on a copy of a slice from a DataFrame.\n",
      "Try using .loc[row_indexer,col_indexer] = value instead\n",
      "\n",
      "See the caveats in the documentation: https://pandas.pydata.org/pandas-docs/stable/user_guide/indexing.html#returning-a-view-versus-a-copy\n",
      "  # Remove the CWD from sys.path while we load stuff.\n",
      "/Users/danil/Documents/github/sweet_RS/env/lib/python3.7/site-packages/ipykernel_launcher.py:15: SettingWithCopyWarning: \n",
      "A value is trying to be set on a copy of a slice from a DataFrame.\n",
      "Try using .loc[row_indexer,col_indexer] = value instead\n",
      "\n",
      "See the caveats in the documentation: https://pandas.pydata.org/pandas-docs/stable/user_guide/indexing.html#returning-a-view-versus-a-copy\n",
      "  from ipykernel import kernelapp as app\n"
     ]
    }
   ],
   "source": [
    "def convert_year(val):\n",
    "    if val < 2000:\n",
    "        cat = 0\n",
    "    elif 2000<=val < 2010:\n",
    "        cat = 1\n",
    "    else:\n",
    "        cat = 2\n",
    "    return cat\n",
    "\n",
    "item_features['year'] = item_features['year'].apply(convert_year)\n",
    "\n",
    "user_hist_df = pd.read_csv('../data/raw/movies_dataset_10 months.csv')\n",
    "movies = user_hist_df[user_hist_df['episode_id'] == 0]['movie_id'].unique()\n",
    "\n",
    "item_features['movie'] = item_features['id'].apply(lambda x: 1 if x in movies else 0 )"
   ]
  },
  {
   "cell_type": "code",
   "execution_count": 97,
   "metadata": {
    "scrolled": true
   },
   "outputs": [],
   "source": [
    "test = item_features['genres'].fillna('hz').str.split(',')\n",
    "\n",
    "mlb = MultiLabelBinarizer()\n",
    "res = pd.DataFrame(mlb.fit_transform(test),\n",
    "                   columns=mlb.classes_,\n",
    "                   index=test.index)\n",
    "\n",
    "to_drop = ['Art House', 'Documentary', 'Family','Musical', 'Quarantine Info', 'hz', 'War']\n",
    "res = res.drop(to_drop, 1)"
   ]
  },
  {
   "cell_type": "code",
   "execution_count": 98,
   "metadata": {},
   "outputs": [],
   "source": [
    "item_features = pd.concat([item_features, res], 1).drop('genres', 1)"
   ]
  },
  {
   "cell_type": "code",
   "execution_count": 100,
   "metadata": {},
   "outputs": [],
   "source": [
    "item_features = item_features.fillna(item_features.mean())"
   ]
  },
  {
   "cell_type": "code",
   "execution_count": 101,
   "metadata": {},
   "outputs": [],
   "source": [
    "item_features['id'] = item_features['id'].apply(lambda x: item_encode[x])"
   ]
  },
  {
   "cell_type": "code",
   "execution_count": 109,
   "metadata": {
    "scrolled": true
   },
   "outputs": [],
   "source": [
    "missed_movies = set(item_decode.keys()).difference(set(item_features['id'].values))\n",
    "\n",
    "item_features = item_features.sort_values('id').reset_index().drop('index', 1)"
   ]
  },
  {
   "cell_type": "code",
   "execution_count": 123,
   "metadata": {},
   "outputs": [],
   "source": [
    "ind = 4298\n",
    "for _id in missed_movies:\n",
    "    item_features.loc[ind] = [_id] + [-1]*21\n",
    "    ind+=1\n",
    "    \n",
    "item_features = item_features.sort_values('id')"
   ]
  },
  {
   "cell_type": "code",
   "execution_count": 125,
   "metadata": {},
   "outputs": [],
   "source": []
  },
  {
   "cell_type": "code",
   "execution_count": 139,
   "metadata": {},
   "outputs": [],
   "source": [
    "movie_features = item_features.drop('id', 1).values"
   ]
  },
  {
   "cell_type": "code",
   "execution_count": 140,
   "metadata": {},
   "outputs": [
    {
     "data": {
      "text/plain": [
       "(4732, 21)"
      ]
     },
     "execution_count": 140,
     "metadata": {},
     "output_type": "execute_result"
    }
   ],
   "source": [
    "movie_features.shape"
   ]
  },
  {
   "cell_type": "code",
   "execution_count": null,
   "metadata": {},
   "outputs": [],
   "source": []
  }
 ],
 "metadata": {
  "kernelspec": {
   "display_name": "Python 3",
   "language": "python",
   "name": "python3"
  },
  "language_info": {
   "codemirror_mode": {
    "name": "ipython",
    "version": 3
   },
   "file_extension": ".py",
   "mimetype": "text/x-python",
   "name": "python",
   "nbconvert_exporter": "python",
   "pygments_lexer": "ipython3",
   "version": "3.7.7"
  }
 },
 "nbformat": 4,
 "nbformat_minor": 4
}
