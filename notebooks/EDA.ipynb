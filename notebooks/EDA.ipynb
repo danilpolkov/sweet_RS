{
 "cells": [
  {
   "cell_type": "markdown",
   "metadata": {},
   "source": [
    "# ideas\n",
    "\n",
    "1. load imdb, tmdb data"
   ]
  },
  {
   "cell_type": "code",
   "execution_count": 21,
   "metadata": {},
   "outputs": [],
   "source": [
    "import pandas as pd\n",
    "import matplotlib.pyplot as plt"
   ]
  },
  {
   "cell_type": "code",
   "execution_count": 25,
   "metadata": {},
   "outputs": [
    {
     "data": {
      "text/plain": [
       "(16594, 16)"
      ]
     },
     "execution_count": 25,
     "metadata": {},
     "output_type": "execute_result"
    }
   ],
   "source": [
    "movies_database = pd.read_csv('../data/raw/movies_database.csv')\n",
    "movies_database.shape"
   ]
  },
  {
   "cell_type": "code",
   "execution_count": null,
   "metadata": {},
   "outputs": [],
   "source": []
  },
  {
   "cell_type": "code",
   "execution_count": 6,
   "metadata": {
    "scrolled": true
   },
   "outputs": [
    {
     "data": {
      "text/html": [
       "<div>\n",
       "<style scoped>\n",
       "    .dataframe tbody tr th:only-of-type {\n",
       "        vertical-align: middle;\n",
       "    }\n",
       "\n",
       "    .dataframe tbody tr th {\n",
       "        vertical-align: top;\n",
       "    }\n",
       "\n",
       "    .dataframe thead th {\n",
       "        text-align: right;\n",
       "    }\n",
       "</style>\n",
       "<table border=\"1\" class=\"dataframe\">\n",
       "  <thead>\n",
       "    <tr style=\"text-align: right;\">\n",
       "      <th></th>\n",
       "      <th>id</th>\n",
       "      <th>year</th>\n",
       "      <th>title</th>\n",
       "      <th>description</th>\n",
       "      <th>genres</th>\n",
       "      <th>director</th>\n",
       "      <th>actors</th>\n",
       "      <th>writers</th>\n",
       "      <th>music</th>\n",
       "      <th>art</th>\n",
       "      <th>producer</th>\n",
       "      <th>imdb_id</th>\n",
       "      <th>tmdb_id</th>\n",
       "      <th>imdb_rating</th>\n",
       "      <th>tmdb_rating</th>\n",
       "      <th>available_now</th>\n",
       "    </tr>\n",
       "  </thead>\n",
       "  <tbody>\n",
       "    <tr>\n",
       "      <th>0</th>\n",
       "      <td>1</td>\n",
       "      <td>2008</td>\n",
       "      <td>The Girl from Monaco</td>\n",
       "      <td>A brilliant and neurotic attorney goes to Mona...</td>\n",
       "      <td>Comedy,Drama</td>\n",
       "      <td>Anne Fontaine</td>\n",
       "      <td>Fabrice Luchini,Helene de Saint-Pere,Jeanne Ba...</td>\n",
       "      <td>Anne Fontaine,Benoît Graffin</td>\n",
       "      <td>Philippe Rombi</td>\n",
       "      <td>NaN</td>\n",
       "      <td>Philippe Carcassonne,Bruno Pesary,Christine Ra...</td>\n",
       "      <td>tt1139800</td>\n",
       "      <td>15342.0</td>\n",
       "      <td>5.8</td>\n",
       "      <td>4.8</td>\n",
       "      <td>yes</td>\n",
       "    </tr>\n",
       "    <tr>\n",
       "      <th>1</th>\n",
       "      <td>2</td>\n",
       "      <td>2008</td>\n",
       "      <td>Every Jack has a Jill</td>\n",
       "      <td>Jack is encouraged to take the romantic Paris ...</td>\n",
       "      <td>Comedy,Melodrama</td>\n",
       "      <td>Jennifer Devoldère</td>\n",
       "      <td>Justin Lee Bartha,Billy Boyd,Maurice Bénichou,...</td>\n",
       "      <td>Jennifer Devoldère</td>\n",
       "      <td>NaN</td>\n",
       "      <td>Hervé Gallet,Alix Deschamps</td>\n",
       "      <td>Bruno Chiche,Nicolas Duval Adassovsky,Maxime R...</td>\n",
       "      <td>tt1094668</td>\n",
       "      <td>32338.0</td>\n",
       "      <td>6.1</td>\n",
       "      <td>5.4</td>\n",
       "      <td>yes</td>\n",
       "    </tr>\n",
       "    <tr>\n",
       "      <th>2</th>\n",
       "      <td>3</td>\n",
       "      <td>2009</td>\n",
       "      <td>Dorian Gray</td>\n",
       "      <td>A vain London playboy offers his soul in excha...</td>\n",
       "      <td>Thriller,Sci-Fi</td>\n",
       "      <td>Oliver Parker</td>\n",
       "      <td>Colin Firth,Nathan Rosen,Caroline Goodall,John...</td>\n",
       "      <td>Toby Finlay,Oscar Wilde</td>\n",
       "      <td>Charlie Mole</td>\n",
       "      <td>John Beard,Ruth Myers,Niamh Coulter</td>\n",
       "      <td>Barnaby Thompson,Paul Brett,Simon Fawcett</td>\n",
       "      <td>tt1235124</td>\n",
       "      <td>23488.0</td>\n",
       "      <td>6.3</td>\n",
       "      <td>5.9</td>\n",
       "      <td>yes</td>\n",
       "    </tr>\n",
       "    <tr>\n",
       "      <th>3</th>\n",
       "      <td>4</td>\n",
       "      <td>2008</td>\n",
       "      <td>How to Lose Friends &amp; Alienate People</td>\n",
       "      <td>A British writer struggles to fit in at a high...</td>\n",
       "      <td>Comedy,Drama</td>\n",
       "      <td>Robert B. Willow</td>\n",
       "      <td>Simon Pegg,Jeff Bridges,Danny Huston,Jillian A...</td>\n",
       "      <td>Peter Straughan,Toby Young</td>\n",
       "      <td>David Arnold</td>\n",
       "      <td>John Beard,Ray Chan,Anthony Gasparro</td>\n",
       "      <td>Elizabeth Karlsen,Laurie Borg,Stephen Woolley</td>\n",
       "      <td>tt0455538</td>\n",
       "      <td>13092.0</td>\n",
       "      <td>6.4</td>\n",
       "      <td>6.1</td>\n",
       "      <td>yes</td>\n",
       "    </tr>\n",
       "    <tr>\n",
       "      <th>4</th>\n",
       "      <td>5</td>\n",
       "      <td>2009</td>\n",
       "      <td>Cell 211</td>\n",
       "      <td>The story of two men on different sides of a p...</td>\n",
       "      <td>Action,Thriller</td>\n",
       "      <td>Daniel Monzon</td>\n",
       "      <td>Luis Tosar,Vicente Romero,Fernando Soto,Luis Z...</td>\n",
       "      <td>Daniel Monzon,F.P. Gandull,Jorge Guerricaechev...</td>\n",
       "      <td>Roque Baños</td>\n",
       "      <td>Antón Laguna,Montse Sancho</td>\n",
       "      <td>Álvaro Augustín,Juan Gordon,Emma Lustres</td>\n",
       "      <td>tt1242422</td>\n",
       "      <td>33273.0</td>\n",
       "      <td>7.6</td>\n",
       "      <td>7.4</td>\n",
       "      <td>yes</td>\n",
       "    </tr>\n",
       "  </tbody>\n",
       "</table>\n",
       "</div>"
      ],
      "text/plain": [
       "   id  year                                  title  \\\n",
       "0   1  2008                   The Girl from Monaco   \n",
       "1   2  2008                  Every Jack has a Jill   \n",
       "2   3  2009                            Dorian Gray   \n",
       "3   4  2008  How to Lose Friends & Alienate People   \n",
       "4   5  2009                               Cell 211   \n",
       "\n",
       "                                         description            genres  \\\n",
       "0  A brilliant and neurotic attorney goes to Mona...      Comedy,Drama   \n",
       "1  Jack is encouraged to take the romantic Paris ...  Comedy,Melodrama   \n",
       "2  A vain London playboy offers his soul in excha...   Thriller,Sci-Fi   \n",
       "3  A British writer struggles to fit in at a high...      Comedy,Drama   \n",
       "4  The story of two men on different sides of a p...   Action,Thriller   \n",
       "\n",
       "             director                                             actors  \\\n",
       "0       Anne Fontaine  Fabrice Luchini,Helene de Saint-Pere,Jeanne Ba...   \n",
       "1  Jennifer Devoldère  Justin Lee Bartha,Billy Boyd,Maurice Bénichou,...   \n",
       "2       Oliver Parker  Colin Firth,Nathan Rosen,Caroline Goodall,John...   \n",
       "3    Robert B. Willow  Simon Pegg,Jeff Bridges,Danny Huston,Jillian A...   \n",
       "4       Daniel Monzon  Luis Tosar,Vicente Romero,Fernando Soto,Luis Z...   \n",
       "\n",
       "                                             writers           music  \\\n",
       "0                       Anne Fontaine,Benoît Graffin  Philippe Rombi   \n",
       "1                                 Jennifer Devoldère             NaN   \n",
       "2                            Toby Finlay,Oscar Wilde    Charlie Mole   \n",
       "3                         Peter Straughan,Toby Young    David Arnold   \n",
       "4  Daniel Monzon,F.P. Gandull,Jorge Guerricaechev...     Roque Baños   \n",
       "\n",
       "                                    art  \\\n",
       "0                                   NaN   \n",
       "1           Hervé Gallet,Alix Deschamps   \n",
       "2   John Beard,Ruth Myers,Niamh Coulter   \n",
       "3  John Beard,Ray Chan,Anthony Gasparro   \n",
       "4            Antón Laguna,Montse Sancho   \n",
       "\n",
       "                                            producer    imdb_id  tmdb_id  \\\n",
       "0  Philippe Carcassonne,Bruno Pesary,Christine Ra...  tt1139800  15342.0   \n",
       "1  Bruno Chiche,Nicolas Duval Adassovsky,Maxime R...  tt1094668  32338.0   \n",
       "2          Barnaby Thompson,Paul Brett,Simon Fawcett  tt1235124  23488.0   \n",
       "3      Elizabeth Karlsen,Laurie Borg,Stephen Woolley  tt0455538  13092.0   \n",
       "4           Álvaro Augustín,Juan Gordon,Emma Lustres  tt1242422  33273.0   \n",
       "\n",
       "   imdb_rating  tmdb_rating available_now  \n",
       "0          5.8          4.8           yes  \n",
       "1          6.1          5.4           yes  \n",
       "2          6.3          5.9           yes  \n",
       "3          6.4          6.1           yes  \n",
       "4          7.6          7.4           yes  "
      ]
     },
     "execution_count": 6,
     "metadata": {},
     "output_type": "execute_result"
    }
   ],
   "source": [
    "movies_database.head()"
   ]
  },
  {
   "cell_type": "code",
   "execution_count": 20,
   "metadata": {},
   "outputs": [
    {
     "data": {
      "image/png": "[encoded data removed]",
      "text/plain": [
       "<Figure size 1080x360 with 1 Axes>"
      ]
     },
     "metadata": {
      "needs_background": "light"
     },
     "output_type": "display_data"
    }
   ],
   "source": [
    "plt.figure(figsize=(15, 5))\n",
    "movies_database.year.value_counts().sort_index().plot().set_title('number of films by production year');\n"
   ]
  },
  {
   "cell_type": "markdown",
   "metadata": {},
   "source": [
    "# user_hist"
   ]
  },
  {
   "cell_type": "code",
   "execution_count": 26,
   "metadata": {},
   "outputs": [
    {
     "data": {
      "text/plain": [
       "(346408, 4)"
      ]
     },
     "execution_count": 26,
     "metadata": {},
     "output_type": "execute_result"
    }
   ],
   "source": [
    "user_hist_df = pd.read_csv('../data/raw/movies_dataset_10 months.csv')\n",
    "user_hist_df.shape"
   ]
  },
  {
   "cell_type": "code",
   "execution_count": 27,
   "metadata": {
    "scrolled": true
   },
   "outputs": [
    {
     "data": {
      "text/html": [
       "<div>\n",
       "<style scoped>\n",
       "    .dataframe tbody tr th:only-of-type {\n",
       "        vertical-align: middle;\n",
       "    }\n",
       "\n",
       "    .dataframe tbody tr th {\n",
       "        vertical-align: top;\n",
       "    }\n",
       "\n",
       "    .dataframe thead th {\n",
       "        text-align: right;\n",
       "    }\n",
       "</style>\n",
       "<table border=\"1\" class=\"dataframe\">\n",
       "  <thead>\n",
       "    <tr style=\"text-align: right;\">\n",
       "      <th></th>\n",
       "      <th>ts</th>\n",
       "      <th>user_id</th>\n",
       "      <th>movie_id</th>\n",
       "      <th>episode_id</th>\n",
       "    </tr>\n",
       "  </thead>\n",
       "  <tbody>\n",
       "    <tr>\n",
       "      <th>0</th>\n",
       "      <td>2019-10-01 00:01:31</td>\n",
       "      <td>6582736606368231689</td>\n",
       "      <td>15391</td>\n",
       "      <td>81786</td>\n",
       "    </tr>\n",
       "    <tr>\n",
       "      <th>1</th>\n",
       "      <td>2019-10-01 00:01:38</td>\n",
       "      <td>750594023898082561</td>\n",
       "      <td>17539</td>\n",
       "      <td>104006</td>\n",
       "    </tr>\n",
       "    <tr>\n",
       "      <th>2</th>\n",
       "      <td>2019-10-01 00:01:57</td>\n",
       "      <td>2110694416164715906</td>\n",
       "      <td>11324</td>\n",
       "      <td>0</td>\n",
       "    </tr>\n",
       "    <tr>\n",
       "      <th>3</th>\n",
       "      <td>2019-10-01 00:02:41</td>\n",
       "      <td>16763157513451692176</td>\n",
       "      <td>15498</td>\n",
       "      <td>0</td>\n",
       "    </tr>\n",
       "    <tr>\n",
       "      <th>4</th>\n",
       "      <td>2019-10-01 00:03:17</td>\n",
       "      <td>15301363348200942035</td>\n",
       "      <td>11195</td>\n",
       "      <td>0</td>\n",
       "    </tr>\n",
       "  </tbody>\n",
       "</table>\n",
       "</div>"
      ],
      "text/plain": [
       "                    ts               user_id  movie_id  episode_id\n",
       "0  2019-10-01 00:01:31   6582736606368231689     15391       81786\n",
       "1  2019-10-01 00:01:38    750594023898082561     17539      104006\n",
       "2  2019-10-01 00:01:57   2110694416164715906     11324           0\n",
       "3  2019-10-01 00:02:41  16763157513451692176     15498           0\n",
       "4  2019-10-01 00:03:17  15301363348200942035     11195           0"
      ]
     },
     "execution_count": 27,
     "metadata": {},
     "output_type": "execute_result"
    }
   ],
   "source": [
    "user_hist_df.head()"
   ]
  },
  {
   "cell_type": "code",
   "execution_count": 30,
   "metadata": {},
   "outputs": [],
   "source": [
    "most_popular = user_hist_df.movie_id.value_counts()[:10]"
   ]
  },
  {
   "cell_type": "code",
   "execution_count": 52,
   "metadata": {},
   "outputs": [
    {
     "name": "stdout",
     "output_type": "stream",
     "text": [
      "viwes: 6375 movie_id: 12304 film: Oggy and the Cockroaches: 5 Season\n",
      "viwes: 4630 movie_id: 7735 film: Masha and the Bear\n",
      "viwes: 4360 movie_id: 15285 film: The Good Doctor\n",
      "viwes: 1718 movie_id: 19026 film: My Little Pony: Friendship Is Magic: 6 Season\n",
      "viwes: 1451 movie_id: 18476 film: My Little Pony: Friendship Is Magic: 5 Season\n",
      "viwes: 1261 movie_id: 16757 film: Barbie: Life in the Dreamhouse\n",
      "viwes: 1175 movie_id: 15387 film: Westworld\n",
      "viwes: 1172 movie_id: 13272 film: Vikings: 4 Season\n"
     ]
    }
   ],
   "source": [
    "for film in most_popular.items():\n",
    "    try:\n",
    "        print('viwes:', film[1], 'movie_id:', film[0], 'film:', movies_database[movies_database['id'] == film[0]]['title'].values[0])\n",
    "    except IndexError:\n",
    "        pass"
   ]
  },
  {
   "cell_type": "code",
   "execution_count": 53,
   "metadata": {},
   "outputs": [],
   "source": [
    "most_popular_films = user_hist_df[user_hist_df['episode_id'] == 0].movie_id.value_counts()[:10]"
   ]
  },
  {
   "cell_type": "code",
   "execution_count": 56,
   "metadata": {
    "collapsed": true
   },
   "outputs": [
    {
     "data": {
      "text/html": [
       "<div>\n",
       "<style scoped>\n",
       "    .dataframe tbody tr th:only-of-type {\n",
       "        vertical-align: middle;\n",
       "    }\n",
       "\n",
       "    .dataframe tbody tr th {\n",
       "        vertical-align: top;\n",
       "    }\n",
       "\n",
       "    .dataframe thead th {\n",
       "        text-align: right;\n",
       "    }\n",
       "</style>\n",
       "<table border=\"1\" class=\"dataframe\">\n",
       "  <thead>\n",
       "    <tr style=\"text-align: right;\">\n",
       "      <th></th>\n",
       "      <th>id</th>\n",
       "      <th>year</th>\n",
       "      <th>title</th>\n",
       "      <th>description</th>\n",
       "      <th>genres</th>\n",
       "      <th>director</th>\n",
       "      <th>actors</th>\n",
       "      <th>writers</th>\n",
       "      <th>music</th>\n",
       "      <th>art</th>\n",
       "      <th>producer</th>\n",
       "      <th>imdb_id</th>\n",
       "      <th>tmdb_id</th>\n",
       "      <th>imdb_rating</th>\n",
       "      <th>tmdb_rating</th>\n",
       "      <th>available_now</th>\n",
       "    </tr>\n",
       "  </thead>\n",
       "  <tbody>\n",
       "    <tr>\n",
       "      <th>0</th>\n",
       "      <td>1</td>\n",
       "      <td>2008</td>\n",
       "      <td>The Girl from Monaco</td>\n",
       "      <td>A brilliant and neurotic attorney goes to Mona...</td>\n",
       "      <td>Comedy,Drama</td>\n",
       "      <td>Anne Fontaine</td>\n",
       "      <td>Fabrice Luchini,Helene de Saint-Pere,Jeanne Ba...</td>\n",
       "      <td>Anne Fontaine,Benoît Graffin</td>\n",
       "      <td>Philippe Rombi</td>\n",
       "      <td>NaN</td>\n",
       "      <td>Philippe Carcassonne,Bruno Pesary,Christine Ra...</td>\n",
       "      <td>tt1139800</td>\n",
       "      <td>15342.0</td>\n",
       "      <td>5.8</td>\n",
       "      <td>4.8</td>\n",
       "      <td>yes</td>\n",
       "    </tr>\n",
       "    <tr>\n",
       "      <th>1</th>\n",
       "      <td>2</td>\n",
       "      <td>2008</td>\n",
       "      <td>Every Jack has a Jill</td>\n",
       "      <td>Jack is encouraged to take the romantic Paris ...</td>\n",
       "      <td>Comedy,Melodrama</td>\n",
       "      <td>Jennifer Devoldère</td>\n",
       "      <td>Justin Lee Bartha,Billy Boyd,Maurice Bénichou,...</td>\n",
       "      <td>Jennifer Devoldère</td>\n",
       "      <td>NaN</td>\n",
       "      <td>Hervé Gallet,Alix Deschamps</td>\n",
       "      <td>Bruno Chiche,Nicolas Duval Adassovsky,Maxime R...</td>\n",
       "      <td>tt1094668</td>\n",
       "      <td>32338.0</td>\n",
       "      <td>6.1</td>\n",
       "      <td>5.4</td>\n",
       "      <td>yes</td>\n",
       "    </tr>\n",
       "    <tr>\n",
       "      <th>2</th>\n",
       "      <td>3</td>\n",
       "      <td>2009</td>\n",
       "      <td>Dorian Gray</td>\n",
       "      <td>A vain London playboy offers his soul in excha...</td>\n",
       "      <td>Thriller,Sci-Fi</td>\n",
       "      <td>Oliver Parker</td>\n",
       "      <td>Colin Firth,Nathan Rosen,Caroline Goodall,John...</td>\n",
       "      <td>Toby Finlay,Oscar Wilde</td>\n",
       "      <td>Charlie Mole</td>\n",
       "      <td>John Beard,Ruth Myers,Niamh Coulter</td>\n",
       "      <td>Barnaby Thompson,Paul Brett,Simon Fawcett</td>\n",
       "      <td>tt1235124</td>\n",
       "      <td>23488.0</td>\n",
       "      <td>6.3</td>\n",
       "      <td>5.9</td>\n",
       "      <td>yes</td>\n",
       "    </tr>\n",
       "    <tr>\n",
       "      <th>3</th>\n",
       "      <td>4</td>\n",
       "      <td>2008</td>\n",
       "      <td>How to Lose Friends &amp; Alienate People</td>\n",
       "      <td>A British writer struggles to fit in at a high...</td>\n",
       "      <td>Comedy,Drama</td>\n",
       "      <td>Robert B. Willow</td>\n",
       "      <td>Simon Pegg,Jeff Bridges,Danny Huston,Jillian A...</td>\n",
       "      <td>Peter Straughan,Toby Young</td>\n",
       "      <td>David Arnold</td>\n",
       "      <td>John Beard,Ray Chan,Anthony Gasparro</td>\n",
       "      <td>Elizabeth Karlsen,Laurie Borg,Stephen Woolley</td>\n",
       "      <td>tt0455538</td>\n",
       "      <td>13092.0</td>\n",
       "      <td>6.4</td>\n",
       "      <td>6.1</td>\n",
       "      <td>yes</td>\n",
       "    </tr>\n",
       "    <tr>\n",
       "      <th>4</th>\n",
       "      <td>5</td>\n",
       "      <td>2009</td>\n",
       "      <td>Cell 211</td>\n",
       "      <td>The story of two men on different sides of a p...</td>\n",
       "      <td>Action,Thriller</td>\n",
       "      <td>Daniel Monzon</td>\n",
       "      <td>Luis Tosar,Vicente Romero,Fernando Soto,Luis Z...</td>\n",
       "      <td>Daniel Monzon,F.P. Gandull,Jorge Guerricaechev...</td>\n",
       "      <td>Roque Baños</td>\n",
       "      <td>Antón Laguna,Montse Sancho</td>\n",
       "      <td>Álvaro Augustín,Juan Gordon,Emma Lustres</td>\n",
       "      <td>tt1242422</td>\n",
       "      <td>33273.0</td>\n",
       "      <td>7.6</td>\n",
       "      <td>7.4</td>\n",
       "      <td>yes</td>\n",
       "    </tr>\n",
       "  </tbody>\n",
       "</table>\n",
       "</div>"
      ],
      "text/plain": [
       "   id  year                                  title  \\\n",
       "0   1  2008                   The Girl from Monaco   \n",
       "1   2  2008                  Every Jack has a Jill   \n",
       "2   3  2009                            Dorian Gray   \n",
       "3   4  2008  How to Lose Friends & Alienate People   \n",
       "4   5  2009                               Cell 211   \n",
       "\n",
       "                                         description            genres  \\\n",
       "0  A brilliant and neurotic attorney goes to Mona...      Comedy,Drama   \n",
       "1  Jack is encouraged to take the romantic Paris ...  Comedy,Melodrama   \n",
       "2  A vain London playboy offers his soul in excha...   Thriller,Sci-Fi   \n",
       "3  A British writer struggles to fit in at a high...      Comedy,Drama   \n",
       "4  The story of two men on different sides of a p...   Action,Thriller   \n",
       "\n",
       "             director                                             actors  \\\n",
       "0       Anne Fontaine  Fabrice Luchini,Helene de Saint-Pere,Jeanne Ba...   \n",
       "1  Jennifer Devoldère  Justin Lee Bartha,Billy Boyd,Maurice Bénichou,...   \n",
       "2       Oliver Parker  Colin Firth,Nathan Rosen,Caroline Goodall,John...   \n",
       "3    Robert B. Willow  Simon Pegg,Jeff Bridges,Danny Huston,Jillian A...   \n",
       "4       Daniel Monzon  Luis Tosar,Vicente Romero,Fernando Soto,Luis Z...   \n",
       "\n",
       "                                             writers           music  \\\n",
       "0                       Anne Fontaine,Benoît Graffin  Philippe Rombi   \n",
       "1                                 Jennifer Devoldère             NaN   \n",
       "2                            Toby Finlay,Oscar Wilde    Charlie Mole   \n",
       "3                         Peter Straughan,Toby Young    David Arnold   \n",
       "4  Daniel Monzon,F.P. Gandull,Jorge Guerricaechev...     Roque Baños   \n",
       "\n",
       "                                    art  \\\n",
       "0                                   NaN   \n",
       "1           Hervé Gallet,Alix Deschamps   \n",
       "2   John Beard,Ruth Myers,Niamh Coulter   \n",
       "3  John Beard,Ray Chan,Anthony Gasparro   \n",
       "4            Antón Laguna,Montse Sancho   \n",
       "\n",
       "                                            producer    imdb_id  tmdb_id  \\\n",
       "0  Philippe Carcassonne,Bruno Pesary,Christine Ra...  tt1139800  15342.0   \n",
       "1  Bruno Chiche,Nicolas Duval Adassovsky,Maxime R...  tt1094668  32338.0   \n",
       "2          Barnaby Thompson,Paul Brett,Simon Fawcett  tt1235124  23488.0   \n",
       "3      Elizabeth Karlsen,Laurie Borg,Stephen Woolley  tt0455538  13092.0   \n",
       "4           Álvaro Augustín,Juan Gordon,Emma Lustres  tt1242422  33273.0   \n",
       "\n",
       "   imdb_rating  tmdb_rating available_now  \n",
       "0          5.8          4.8           yes  \n",
       "1          6.1          5.4           yes  \n",
       "2          6.3          5.9           yes  \n",
       "3          6.4          6.1           yes  \n",
       "4          7.6          7.4           yes  "
      ]
     },
     "execution_count": 56,
     "metadata": {},
     "output_type": "execute_result"
    }
   ],
   "source": [
    "movies_database.head()"
   ]
  },
  {
   "cell_type": "code",
   "execution_count": 57,
   "metadata": {},
   "outputs": [
    {
     "name": "stdout",
     "output_type": "stream",
     "text": [
      "viwes: 1136 movie_id: 18943 year: 2019 genres Kids film: The Secret Life of Pets 2\n",
      "viwes: 1119 movie_id: 18308 year: 2018 genres Action,Adventure,Sci-Fi film: Rampage\n",
      "viwes: 864 movie_id: 7347 year: 2012 genres Kids film: Hotel Transylvania\n",
      "viwes: 839 movie_id: 18311 year: 2018 genres Action,Adventure,Sci-Fi film: Ready Player One\n",
      "viwes: 800 movie_id: 18520 year: 2019 genres Thriller,Sci-Fi,Drama film: Captive State\n",
      "viwes: 785 movie_id: 18526 year: 2018 genres Comedy,Action,Thriller,Crime film: Ocean's Eight\n",
      "viwes: 777 movie_id: 18080 year: 2018 genres Action,Thriller,Adventure,Sci-Fi,Fantasy film: Mortal Engines\n",
      "viwes: 752 movie_id: 18652 year: 2018 genres Action,Thriller,Horror,Sci-Fi film: The Meg\n",
      "viwes: 746 movie_id: 17239 year: 2018 genres Kids film: Asterix: The Secret of the Magic Potion\n",
      "viwes: 734 movie_id: 17756 year: 2015 genres Kids film: Hotel Transylvania 2\n"
     ]
    }
   ],
   "source": [
    "for film in most_popular_films.items():\n",
    "    try:\n",
    "        print('viwes:', film[1], \n",
    "              'movie_id:', film[0], \n",
    "              'year:', movies_database[movies_database['id'] == film[0]]['year'].values[0],\n",
    "              'genres', movies_database[movies_database['id'] == film[0]]['genres'].values[0],\n",
    "              'film:', movies_database[movies_database['id'] == film[0]]['title'].values[0])\n",
    "    except IndexError:\n",
    "        pass"
   ]
  },
  {
   "cell_type": "markdown",
   "metadata": {},
   "source": [
    "видно что очень много детского контента в топе, и чаще смотрят сериалы"
   ]
  },
  {
   "cell_type": "code",
   "execution_count": 65,
   "metadata": {},
   "outputs": [],
   "source": [
    "user_hist_df['hour'] = pd.to_datetime(user_hist_df['ts']).dt.hour\n",
    "popular_hours = user_hist_df['hour'].value_counts().sort_index()/user_hist_df.shape[0]\n",
    "\n",
    "ax = popular_hours.plot(figsize = (14,10), grid = True);\n",
    "ax.set_xticks(range(24));\n",
    "ax.set_title('hour of day preferences');"
   ]
  },
  {
   "cell_type": "code",
   "execution_count": 80,
   "metadata": {},
   "outputs": [
    {
     "data": {
      "image/png": "[encoded data removed]",
      "text/plain": [
       "<Figure size 1008x720 with 1 Axes>"
      ]
     },
     "metadata": {
      "needs_background": "light"
     },
     "output_type": "display_data"
    }
   ],
   "source": [
    "user_hist_df['dow'] = pd.to_datetime(user_hist_df['ts']).dt.weekday\n",
    "popular_days = user_hist_df['dow'].value_counts().sort_index()/user_hist_df.shape[0]\n",
    "days = pd.Series(['Monday', 'Tuesday', 'Wensday', 'Thaturday', 'Fraday', 'Sunday', 'Saturday'])\n",
    "\n",
    "ax = popular_days.plot(figsize = (14,10), grid = True);\n",
    "ax.set_xticks(range(7))\n",
    "ax.set_xticklabels(days);\n",
    "ax.set_title('dow preferences');"
   ]
  },
  {
   "cell_type": "code",
   "execution_count": 83,
   "metadata": {},
   "outputs": [
    {
     "name": "stdout",
     "output_type": "stream",
     "text": [
      "viwes: 1515 movie_id: 12304 film: Oggy and the Cockroaches: 5 Season\n",
      "viwes: 1157 movie_id: 7735 film: Masha and the Bear\n",
      "viwes: 694 movie_id: 15285 film: The Good Doctor\n",
      "viwes: 442 movie_id: 19026 film: My Little Pony: Friendship Is Magic: 6 Season\n",
      "viwes: 357 movie_id: 18667 film: Bob the Builder\n",
      "viwes: 328 movie_id: 18476 film: My Little Pony: Friendship Is Magic: 5 Season\n",
      "viwes: 246 movie_id: 18089 film: Winx Club: 8 Season\n"
     ]
    }
   ],
   "source": [
    "morning_popular = user_hist_df[user_hist_df['hour'].between(9, 12)].movie_id.value_counts()[:10]\n",
    "\n",
    "for film in most_morning.items():\n",
    "    try:\n",
    "        print('viwes:', film[1], \n",
    "              'movie_id:', film[0], \n",
    "              'film:', movies_database[movies_database['id'] == film[0]]['title'].values[0])\n",
    "    except IndexError:\n",
    "        pass"
   ]
  },
  {
   "cell_type": "code",
   "execution_count": 84,
   "metadata": {},
   "outputs": [
    {
     "name": "stdout",
     "output_type": "stream",
     "text": [
      "viwes: 1638 movie_id: 12304 film: Oggy and the Cockroaches: 5 Season\n",
      "viwes: 1321 movie_id: 15285 film: The Good Doctor\n",
      "viwes: 1120 movie_id: 7735 film: Masha and the Bear\n",
      "viwes: 417 movie_id: 19026 film: My Little Pony: Friendship Is Magic: 6 Season\n",
      "viwes: 409 movie_id: 15387 film: Westworld\n",
      "viwes: 402 movie_id: 13272 film: Vikings: 4 Season\n",
      "viwes: 395 movie_id: 18308 film: Rampage\n",
      "viwes: 368 movie_id: 18476 film: My Little Pony: Friendship Is Magic: 5 Season\n"
     ]
    }
   ],
   "source": [
    "night_popular = user_hist_df[user_hist_df['hour'].between(19, 22)].movie_id.value_counts()[:10]\n",
    "\n",
    "for film in night_popular.items():\n",
    "    try:\n",
    "        print('viwes:', film[1], \n",
    "              'movie_id:', film[0], \n",
    "              'film:', movies_database[movies_database['id'] == film[0]]['title'].values[0])\n",
    "    except IndexError:\n",
    "        pass"
   ]
  },
  {
   "cell_type": "markdown",
   "metadata": {},
   "source": [
    "утром детское, вечером тоже детское но + немного взрослого"
   ]
  },
  {
   "cell_type": "code",
   "execution_count": 93,
   "metadata": {},
   "outputs": [
    {
     "data": {
      "text/plain": [
       "2055"
      ]
     },
     "execution_count": 93,
     "metadata": {},
     "output_type": "execute_result"
    }
   ],
   "source": [
    "len(user_hist_df['user_id'].unique())"
   ]
  },
  {
   "cell_type": "code",
   "execution_count": 179,
   "metadata": {},
   "outputs": [
    {
     "data": {
      "image/png": "[encoded data removed]",
      "text/plain": [
       "<Figure size 1080x360 with 1 Axes>"
      ]
     },
     "metadata": {
      "needs_background": "light"
     },
     "output_type": "display_data"
    }
   ],
   "source": [
    "plt.figure(figsize=(15, 5))\n",
    "user_hist_df['movie_id'].value_counts().value_counts().sort_index().plot();"
   ]
  },
  {
   "cell_type": "code",
   "execution_count": 183,
   "metadata": {},
   "outputs": [
    {
     "data": {
      "image/png": "[encoded data removed]",
      "text/plain": [
       "<Figure size 1080x360 with 1 Axes>"
      ]
     },
     "metadata": {
      "needs_background": "light"
     },
     "output_type": "display_data"
    }
   ],
   "source": [
    "plt.figure(figsize=(15, 5))\n",
    "item_popularity = user_hist_df['movie_id'].value_counts().value_counts().sort_index()\n",
    "item_popularity[:100].plot();"
   ]
  },
  {
   "cell_type": "code",
   "execution_count": 97,
   "metadata": {},
   "outputs": [
    {
     "data": {
      "image/png": "[encoded data removed]",
      "text/plain": [
       "<Figure size 1080x360 with 1 Axes>"
      ]
     },
     "metadata": {
      "needs_background": "light"
     },
     "output_type": "display_data"
    }
   ],
   "source": [
    "plt.figure(figsize=(15, 5))\n",
    "user_hist_df['user_id'].value_counts().value_counts().sort_index().plot();"
   ]
  },
  {
   "cell_type": "markdown",
   "metadata": {},
   "source": [
    "я бы выделил 3 группы пользователей\n",
    "\n",
    "- те кто сделал визитов от 0 до 50\n",
    "- от 50 до 200\n",
    "- от 200 до 400 \n",
    "- 400 и больше"
   ]
  },
  {
   "cell_type": "code",
   "execution_count": 136,
   "metadata": {},
   "outputs": [
    {
     "name": "stdout",
     "output_type": "stream",
     "text": [
      "cold users: 289 loyal users: 599\n"
     ]
    }
   ],
   "source": [
    "user_actions = user_hist_df['user_id'].value_counts() \n",
    "\n",
    "cold_users = user_actions[user_actions <= 50].index\n",
    "loyal_users = user_actions[user_actions >= 200].index\n",
    "\n",
    "print('cold users:', len(cold_users), \n",
    "      'loyal users:', len(loyal_users))"
   ]
  },
  {
   "cell_type": "code",
   "execution_count": 137,
   "metadata": {},
   "outputs": [
    {
     "name": "stdout",
     "output_type": "stream",
     "text": [
      "viwes: 112 movie_id: 12304 film: Oggy and the Cockroaches: 5 Season\n",
      "viwes: 95 movie_id: 18308 film: Rampage\n",
      "viwes: 79 movie_id: 18943 film: The Secret Life of Pets 2\n",
      "viwes: 65 movie_id: 7347 film: Hotel Transylvania\n",
      "viwes: 64 movie_id: 18080 film: Mortal Engines\n",
      "viwes: 56 movie_id: 18311 film: Ready Player One\n",
      "viwes: 55 movie_id: 18213 film: Long Shot\n",
      "viwes: 54 movie_id: 17756 film: Hotel Transylvania 2\n",
      "viwes: 47 movie_id: 17517 film: Chernobyl\n"
     ]
    }
   ],
   "source": [
    "cold_popular = user_hist_df[user_hist_df['user_id'].isin(cold_users)].movie_id.value_counts()[:10]\n",
    "\n",
    "for film in cold_popular.items():\n",
    "    try:\n",
    "        print('viwes:', film[1], \n",
    "              'movie_id:', film[0], \n",
    "              'film:', movies_database[movies_database['id'] == film[0]]['title'].values[0])\n",
    "    except IndexError:\n",
    "        pass"
   ]
  },
  {
   "cell_type": "code",
   "execution_count": 138,
   "metadata": {},
   "outputs": [
    {
     "name": "stdout",
     "output_type": "stream",
     "text": [
      "viwes: 3760 movie_id: 12304 film: Oggy and the Cockroaches: 5 Season\n",
      "viwes: 2984 movie_id: 7735 film: Masha and the Bear\n",
      "viwes: 2718 movie_id: 15285 film: The Good Doctor\n",
      "viwes: 975 movie_id: 19026 film: My Little Pony: Friendship Is Magic: 6 Season\n",
      "viwes: 937 movie_id: 18476 film: My Little Pony: Friendship Is Magic: 5 Season\n",
      "viwes: 837 movie_id: 16757 film: Barbie: Life in the Dreamhouse\n",
      "viwes: 835 movie_id: 15387 film: Westworld\n",
      "viwes: 809 movie_id: 15389 film: Boardwalk Empire\n"
     ]
    }
   ],
   "source": [
    "loyal_popular = user_hist_df[user_hist_df['user_id'].isin(loyal_users)].movie_id.value_counts()[:10]\n",
    "\n",
    "for film in loyal_popular.items():\n",
    "    try:\n",
    "        print('viwes:', film[1], \n",
    "              'movie_id:', film[0], \n",
    "              'film:', movies_database[movies_database['id'] == film[0]]['title'].values[0])\n",
    "    except IndexError:\n",
    "        pass"
   ]
  },
  {
   "cell_type": "markdown",
   "metadata": {},
   "source": [
    "те пользователи которые чаще смотрят они смотрят мультфильмы, пользователи у которых не много просмотров смотрят не детские сериалы "
   ]
  },
  {
   "cell_type": "markdown",
   "metadata": {},
   "source": [
    "получается если есть ребенок, то там куча просмотров мультфильмов"
   ]
  },
  {
   "cell_type": "code",
   "execution_count": 100,
   "metadata": {},
   "outputs": [
    {
     "data": {
      "text/plain": [
       "0.2820748943442415"
      ]
     },
     "execution_count": 100,
     "metadata": {},
     "output_type": "execute_result"
    }
   ],
   "source": [
    "user_hist_df['user_id'].value_counts()[:200].sum()/user_hist_df.shape[0]"
   ]
  },
  {
   "cell_type": "markdown",
   "metadata": {},
   "source": [
    "5% топ пользователей генерят 28% просмотров"
   ]
  },
  {
   "cell_type": "code",
   "execution_count": 104,
   "metadata": {},
   "outputs": [
    {
     "data": {
      "text/plain": [
       "0.40041223066441883"
      ]
     },
     "execution_count": 104,
     "metadata": {},
     "output_type": "execute_result"
    }
   ],
   "source": [
    "user_hist_df['movie_id'].value_counts()[:242].sum()/user_hist_df.shape[0]"
   ]
  },
  {
   "cell_type": "markdown",
   "metadata": {},
   "source": [
    "на 5% movie_id приходится 40% просмотров"
   ]
  },
  {
   "cell_type": "code",
   "execution_count": 105,
   "metadata": {},
   "outputs": [
    {
     "data": {
      "text/plain": [
       "'2019-10-01 00:01:31'"
      ]
     },
     "execution_count": 105,
     "metadata": {},
     "output_type": "execute_result"
    }
   ],
   "source": [
    "user_hist_df['ts'].min()"
   ]
  },
  {
   "cell_type": "code",
   "execution_count": 106,
   "metadata": {},
   "outputs": [
    {
     "data": {
      "text/plain": [
       "'2020-07-31 23:57:57'"
      ]
     },
     "execution_count": 106,
     "metadata": {},
     "output_type": "execute_result"
    }
   ],
   "source": [
    "user_hist_df['ts'].max()"
   ]
  },
  {
   "cell_type": "code",
   "execution_count": 109,
   "metadata": {},
   "outputs": [],
   "source": [
    "user_hist_df = pd.merge(user_hist_df, movies_database[['id', 'year']], how = 'left', \n",
    "                        left_on = 'movie_id', \n",
    "                        right_on = 'id')"
   ]
  },
  {
   "cell_type": "code",
   "execution_count": 124,
   "metadata": {},
   "outputs": [
    {
     "data": {
      "image/png": "[encoded data removed]",
      "text/plain": [
       "<Figure size 1080x360 with 1 Axes>"
      ]
     },
     "metadata": {
      "needs_background": "light"
     },
     "output_type": "display_data"
    }
   ],
   "source": [
    "plt.figure(figsize=(15, 5))\n",
    "\n",
    "user_hist_df['year'].value_counts().sort_index().plot();"
   ]
  },
  {
   "cell_type": "code",
   "execution_count": 129,
   "metadata": {},
   "outputs": [
    {
     "data": {
      "image/png": "[encoded data removed]",
      "text/plain": [
       "<Figure size 1080x360 with 1 Axes>"
      ]
     },
     "metadata": {
      "needs_background": "light"
     },
     "output_type": "display_data"
    }
   ],
   "source": [
    "plt.figure(figsize=(15, 5))\n",
    "user_hist_df[user_hist_df['year'] >= 2010]['year'].value_counts().sort_index().plot(grid=True);"
   ]
  },
  {
   "cell_type": "code",
   "execution_count": 145,
   "metadata": {},
   "outputs": [],
   "source": [
    "repeat_users = user_hist_df[user_hist_df['episode_id'] == 0].groupby(['user_id', 'movie_id'])['movie_id'].count()\n"
   ]
  },
  {
   "cell_type": "code",
   "execution_count": 153,
   "metadata": {},
   "outputs": [
    {
     "data": {
      "text/plain": [
       "Series([], Name: movie_id, dtype: int64)"
      ]
     },
     "execution_count": 153,
     "metadata": {},
     "output_type": "execute_result"
    }
   ],
   "source": [
    "repeat_users[repeat_users>=2]\n"
   ]
  },
  {
   "cell_type": "markdown",
   "metadata": {},
   "source": [
    "никто не пересматривае старое у них на сервисе"
   ]
  },
  {
   "cell_type": "markdown",
   "metadata": {},
   "source": [
    "# submit"
   ]
  },
  {
   "cell_type": "code",
   "execution_count": 24,
   "metadata": {},
   "outputs": [
    {
     "name": "stdout",
     "output_type": "stream",
     "text": [
      "(1695, 2)\n"
     ]
    },
    {
     "data": {
      "text/html": [
       "<div>\n",
       "<style scoped>\n",
       "    .dataframe tbody tr th:only-of-type {\n",
       "        vertical-align: middle;\n",
       "    }\n",
       "\n",
       "    .dataframe tbody tr th {\n",
       "        vertical-align: top;\n",
       "    }\n",
       "\n",
       "    .dataframe thead th {\n",
       "        text-align: right;\n",
       "    }\n",
       "</style>\n",
       "<table border=\"1\" class=\"dataframe\">\n",
       "  <thead>\n",
       "    <tr style=\"text-align: right;\">\n",
       "      <th></th>\n",
       "      <th>user_id</th>\n",
       "      <th>movie_id</th>\n",
       "    </tr>\n",
       "  </thead>\n",
       "  <tbody>\n",
       "    <tr>\n",
       "      <th>0</th>\n",
       "      <td>16975709365084587137</td>\n",
       "      <td>0 0 0 0 0</td>\n",
       "    </tr>\n",
       "    <tr>\n",
       "      <th>1</th>\n",
       "      <td>10225505309438393880</td>\n",
       "      <td>0 0 0 0 0</td>\n",
       "    </tr>\n",
       "    <tr>\n",
       "      <th>2</th>\n",
       "      <td>337894458057354820</td>\n",
       "      <td>0 0 0 0 0</td>\n",
       "    </tr>\n",
       "    <tr>\n",
       "      <th>3</th>\n",
       "      <td>16389753737490268206</td>\n",
       "      <td>0 0 0 0 0</td>\n",
       "    </tr>\n",
       "    <tr>\n",
       "      <th>4</th>\n",
       "      <td>12377183607123393787</td>\n",
       "      <td>0 0 0 0 0</td>\n",
       "    </tr>\n",
       "  </tbody>\n",
       "</table>\n",
       "</div>"
      ],
      "text/plain": [
       "                user_id   movie_id\n",
       "0  16975709365084587137  0 0 0 0 0\n",
       "1  10225505309438393880  0 0 0 0 0\n",
       "2    337894458057354820  0 0 0 0 0\n",
       "3  16389753737490268206  0 0 0 0 0\n",
       "4  12377183607123393787  0 0 0 0 0"
      ]
     },
     "execution_count": 24,
     "metadata": {},
     "output_type": "execute_result"
    }
   ],
   "source": [
    "sbmt = pd.read_csv('../data/raw/submission.csv')\n",
    "print(sbmt.shape)\n",
    "sbmt.head()"
   ]
  },
  {
   "cell_type": "code",
   "execution_count": 158,
   "metadata": {},
   "outputs": [
    {
     "name": "stdout",
     "output_type": "stream",
     "text": [
      "all users: 2055 sbm users: 1695 intersec: 1695\n"
     ]
    }
   ],
   "source": [
    "users_with_hist = set(user_hist_df['user_id'].unique())\n",
    "sbm_users = set(sbmt['user_id'].unique())\n",
    "\n",
    "print('all users:', len(users_with_hist), \n",
    "      'sbm users:', len(sbm_users), \n",
    "      'intersec:', len(users_with_hist.intersection(sbm_users)))"
   ]
  },
  {
   "cell_type": "markdown",
   "metadata": {},
   "source": [
    "ооо, без холодных пользователей. это немного облегчает задачу, но с холодными вообще прикольней"
   ]
  },
  {
   "cell_type": "markdown",
   "metadata": {},
   "source": [
    "6. распределение транзакций в день\n",
    "7. распределение сколько фильмов в день смотрят пользователи"
   ]
  },
  {
   "cell_type": "markdown",
   "metadata": {},
   "source": [
    "# just top 5 "
   ]
  },
  {
   "cell_type": "code",
   "execution_count": 163,
   "metadata": {},
   "outputs": [
    {
     "data": {
      "text/plain": [
       "Int64Index([12304, 7735, 15285, 17518, 19026], dtype='int64')"
      ]
     },
     "execution_count": 163,
     "metadata": {},
     "output_type": "execute_result"
    }
   ],
   "source": [
    "most_popular.index[:5]"
   ]
  },
  {
   "cell_type": "markdown",
   "metadata": {},
   "source": [
    "# random 5 from 100 most popular"
   ]
  },
  {
   "cell_type": "code",
   "execution_count": 169,
   "metadata": {},
   "outputs": [
    {
     "data": {
      "text/plain": [
       "Int64Index([12304,  7735, 15285, 17518, 19026, 18476, 17241, 16757, 15387,\n",
       "            13272, 18943, 18308, 18667, 15389, 18026, 18089, 11561, 16724,\n",
       "            12212, 15388, 19628,  7347, 17517, 19645, 15341, 18311, 18520,\n",
       "            13563, 18526, 18080, 17539, 17852, 18652, 15289, 17239, 17756,\n",
       "            18576, 12561, 18484, 15368, 16676, 17014, 18883, 18213, 17295,\n",
       "            19287, 17292, 18153, 15295, 15286, 18162, 18165, 18078, 16975,\n",
       "            18373, 19785, 18620, 18413, 17966, 16996, 17816, 15393, 19006,\n",
       "            13109, 13189, 19647, 18607, 15392, 11552, 18406, 13812, 17234,\n",
       "            18968, 16830,  8973, 18362, 13671, 17291, 15541, 17364,  7349,\n",
       "            10584, 18268, 18746, 18085, 18251, 17757, 13352, 10475, 17290,\n",
       "            16601, 19207, 17289, 13378, 15489, 17288, 17677,  4624, 15356,\n",
       "            14435],\n",
       "           dtype='int64')"
      ]
     },
     "execution_count": 169,
     "metadata": {},
     "output_type": "execute_result"
    }
   ],
   "source": [
    "most_popular_100.index"
   ]
  },
  {
   "cell_type": "code",
   "execution_count": 174,
   "metadata": {},
   "outputs": [],
   "source": [
    "import random\n",
    "\n",
    "most_popular_100 = list(user_hist_df.movie_id.value_counts()[:100].index)\n",
    "\n",
    "preds = dict()\n",
    "\n",
    "for user in sbm_users:\n",
    "    preds[user] = random.sample(most_popular_100, 5)"
   ]
  },
  {
   "cell_type": "code",
   "execution_count": 177,
   "metadata": {},
   "outputs": [],
   "source": [
    "import pickle\n",
    "\n",
    "with open('../data/processed/random_5_from_top100.pickle', 'wb') as f:\n",
    "    pickle.dump(preds, f)"
   ]
  },
  {
   "cell_type": "markdown",
   "metadata": {},
   "source": [
    "валидацию настроить"
   ]
  },
  {
   "cell_type": "markdown",
   "metadata": {},
   "source": [
    "1. add movies features to lightfm (year, genre, ratings, sweet.tv rating)\n",
    "3. RNN\n",
    "4. user-2-user\n",
    "5. hybrid\n",
    "6. researech (movie lens)"
   ]
  },
  {
   "cell_type": "code",
   "execution_count": null,
   "metadata": {},
   "outputs": [],
   "source": []
  }
 ],
 "metadata": {
  "kernelspec": {
   "display_name": "Python 3",
   "language": "python",
   "name": "python3"
  },
  "language_info": {
   "codemirror_mode": {
    "name": "ipython",
    "version": 3
   },
   "file_extension": ".py",
   "mimetype": "text/x-python",
   "name": "python",
   "nbconvert_exporter": "python",
   "pygments_lexer": "ipython3",
   "version": "3.7.7"
  }
 },
 "nbformat": 4,
 "nbformat_minor": 4
}
